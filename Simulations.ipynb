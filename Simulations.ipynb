{
 "cells": [
  {
   "cell_type": "code",
   "execution_count": 5,
   "metadata": {},
   "outputs": [
    {
     "name": "stdout",
     "output_type": "stream",
     "text": [
      "The autoreload extension is already loaded. To reload it, use:\n",
      "  %reload_ext autoreload\n"
     ]
    }
   ],
   "source": [
    "%load_ext autoreload\n",
    "%autoreload 2\n",
    "\n",
    "import analysis\n",
    "import data\n",
    "import models\n",
    "import numpy as np\n",
    "import os\n",
    "import pandas as pd\n",
    "import pingouin as pg\n",
    "import plotly.express as px\n",
    "from scipy.stats import ttest_rel\n",
    "import torch\n",
    "import warnings\n",
    "\n",
    "warnings.filterwarnings('ignore')\n",
    "\n",
    "model_path = 'models'\n",
    "num_models = 10\n",
    "num_bootstrap_sims = 10000\n",
    "num_training_epochs = 30\n",
    "num_training_epochs_comparison = 10\n",
    "train_model = False\n",
    "train_comparison_model = False\n",
    "\n",
    "num_objects = 350\n",
    "num_tasks = 36\n",
    "num_task_context_units = 16\n",
    "num_context_independent_units = 64\n",
    "num_context_dependent_units = 128\n",
    "size_idx = 2541  # Index of the \"is_small\" feature\n",
    "size_task_idx = 33  # Index of the size task\n",
    "\n",
    "isc_models = models.load_isc_models(num_models, train_model, num_training_epochs, model_path)"
   ]
  },
  {
   "cell_type": "code",
   "execution_count": 7,
   "metadata": {},
   "outputs": [
    {
     "name": "stderr",
     "output_type": "stream",
     "text": [
      "OMP: Info #276: omp_set_nested routine deprecated, please use omp_set_max_active_levels instead.\n"
     ]
    }
   ],
   "source": [
    "# Extract task context, context independent, and context dependent representations from the models\n",
    "# Calculate similarity matrices for each representation\n",
    "\n",
    "task_context_reps = np.zeros((num_models,num_tasks,num_task_context_units))\n",
    "context_independent_reps = np.zeros((num_models,num_objects,num_context_independent_units))\n",
    "context_dependent_reps = np.zeros((num_models,num_tasks,num_objects,num_context_dependent_units))\n",
    "feature_reps = data.load_feature_reps()\n",
    "\n",
    "task_context_sim = np.zeros((num_models,num_tasks,num_tasks))\n",
    "context_independent_sim = np.zeros((num_models,num_objects,num_objects))\n",
    "context_dependent_sim = np.zeros((num_models,num_tasks,num_objects,num_objects))\n",
    "feature_sim = analysis.calculate_similarity_matrix(feature_reps,method='correlation')\n",
    "for model_idx,isc_model in enumerate(isc_models):\n",
    "    task_context_reps[model_idx] = isc_model.get_task_context_reps()\n",
    "    context_independent_reps[model_idx] = isc_model.get_context_independent_reps()\n",
    "    context_dependent_reps[model_idx] = isc_model.get_context_dependent_reps()\n",
    "    task_context_sim[model_idx] = analysis.calculate_similarity_matrix(task_context_reps[model_idx])\n",
    "    context_independent_sim[model_idx] = analysis.calculate_similarity_matrix(context_independent_reps[model_idx])\n",
    "    context_dependent_sim[model_idx] = analysis.calculate_similarity_matrix(context_dependent_reps[model_idx])"
   ]
  },
  {
   "attachments": {},
   "cell_type": "markdown",
   "metadata": {},
   "source": [
    "# Part 1: Influence of Control on Semantic Structure"
   ]
  },
  {
   "attachments": {},
   "cell_type": "markdown",
   "metadata": {},
   "source": [
    "## Experiment 1: Empirical Evaluation of Learned Conceptual Structure"
   ]
  },
  {
   "cell_type": "code",
   "execution_count": 9,
   "metadata": {},
   "outputs": [
    {
     "data": {
      "text/html": [
       "<div>\n",
       "<style scoped>\n",
       "    .dataframe tbody tr th:only-of-type {\n",
       "        vertical-align: middle;\n",
       "    }\n",
       "\n",
       "    .dataframe tbody tr th {\n",
       "        vertical-align: top;\n",
       "    }\n",
       "\n",
       "    .dataframe thead th {\n",
       "        text-align: right;\n",
       "    }\n",
       "</style>\n",
       "<table border=\"1\" class=\"dataframe\">\n",
       "  <thead>\n",
       "    <tr style=\"text-align: right;\">\n",
       "      <th></th>\n",
       "      <th>Unnamed: 0</th>\n",
       "      <th>tname</th>\n",
       "      <th>head</th>\n",
       "      <th>O1</th>\n",
       "      <th>O2</th>\n",
       "      <th>pChoseO1</th>\n",
       "      <th>pMaj</th>\n",
       "      <th>Winner</th>\n",
       "      <th>ttype</th>\n",
       "      <th>ircosPred</th>\n",
       "      <th>modAcc</th>\n",
       "      <th>twoDPred</th>\n",
       "      <th>twoDAcc</th>\n",
       "      <th>glovePred</th>\n",
       "      <th>gloveAcc</th>\n",
       "    </tr>\n",
       "  </thead>\n",
       "  <tbody>\n",
       "    <tr>\n",
       "      <th>0</th>\n",
       "      <td>v1</td>\n",
       "      <td>bumblebee_ant_spider</td>\n",
       "      <td>bumblebee</td>\n",
       "      <td>ant</td>\n",
       "      <td>spider</td>\n",
       "      <td>0.611111</td>\n",
       "      <td>0.611111</td>\n",
       "      <td>ant</td>\n",
       "      <td>CC</td>\n",
       "      <td>ant</td>\n",
       "      <td>1</td>\n",
       "      <td>ant</td>\n",
       "      <td>1</td>\n",
       "      <td>ant</td>\n",
       "      <td>1.0</td>\n",
       "    </tr>\n",
       "    <tr>\n",
       "      <th>1</th>\n",
       "      <td>v2</td>\n",
       "      <td>mosquito_eagle_earwig</td>\n",
       "      <td>mosquito</td>\n",
       "      <td>eagle</td>\n",
       "      <td>earwig</td>\n",
       "      <td>0.297297</td>\n",
       "      <td>0.702703</td>\n",
       "      <td>earwig</td>\n",
       "      <td>CD</td>\n",
       "      <td>earwig</td>\n",
       "      <td>1</td>\n",
       "      <td>earwig</td>\n",
       "      <td>1</td>\n",
       "      <td>eagle</td>\n",
       "      <td>0.0</td>\n",
       "    </tr>\n",
       "    <tr>\n",
       "      <th>2</th>\n",
       "      <td>v3</td>\n",
       "      <td>ladybug_earwig_radish</td>\n",
       "      <td>ladybug</td>\n",
       "      <td>earwig</td>\n",
       "      <td>radish</td>\n",
       "      <td>0.567568</td>\n",
       "      <td>0.567568</td>\n",
       "      <td>earwig</td>\n",
       "      <td>COD</td>\n",
       "      <td>earwig</td>\n",
       "      <td>1</td>\n",
       "      <td>earwig</td>\n",
       "      <td>1</td>\n",
       "      <td>earwig</td>\n",
       "      <td>1.0</td>\n",
       "    </tr>\n",
       "    <tr>\n",
       "      <th>3</th>\n",
       "      <td>v4</td>\n",
       "      <td>louse_goldfish_squid</td>\n",
       "      <td>louse</td>\n",
       "      <td>goldfish</td>\n",
       "      <td>squid</td>\n",
       "      <td>0.405405</td>\n",
       "      <td>0.594595</td>\n",
       "      <td>squid</td>\n",
       "      <td>DD</td>\n",
       "      <td>goldfish</td>\n",
       "      <td>0</td>\n",
       "      <td>goldfish</td>\n",
       "      <td>0</td>\n",
       "      <td>goldfish</td>\n",
       "      <td>0.0</td>\n",
       "    </tr>\n",
       "    <tr>\n",
       "      <th>4</th>\n",
       "      <td>v5</td>\n",
       "      <td>centipede_beaver_t-shirt</td>\n",
       "      <td>centipede</td>\n",
       "      <td>beaver</td>\n",
       "      <td>t-shirt</td>\n",
       "      <td>0.864865</td>\n",
       "      <td>0.864865</td>\n",
       "      <td>beaver</td>\n",
       "      <td>DOD</td>\n",
       "      <td>beaver</td>\n",
       "      <td>1</td>\n",
       "      <td>beaver</td>\n",
       "      <td>1</td>\n",
       "      <td>beaver</td>\n",
       "      <td>1.0</td>\n",
       "    </tr>\n",
       "  </tbody>\n",
       "</table>\n",
       "</div>"
      ],
      "text/plain": [
       "  Unnamed: 0                     tname       head        O1       O2  \\\n",
       "0         v1      bumblebee_ant_spider  bumblebee       ant   spider   \n",
       "1         v2     mosquito_eagle_earwig   mosquito     eagle   earwig   \n",
       "2         v3     ladybug_earwig_radish    ladybug    earwig   radish   \n",
       "3         v4      louse_goldfish_squid      louse  goldfish    squid   \n",
       "4         v5  centipede_beaver_t-shirt  centipede    beaver  t-shirt   \n",
       "\n",
       "   pChoseO1      pMaj  Winner ttype ircosPred  modAcc  twoDPred  twoDAcc  \\\n",
       "0  0.611111  0.611111     ant    CC       ant       1       ant        1   \n",
       "1  0.297297  0.702703  earwig    CD    earwig       1    earwig        1   \n",
       "2  0.567568  0.567568  earwig   COD    earwig       1    earwig        1   \n",
       "3  0.405405  0.594595   squid    DD  goldfish       0  goldfish        0   \n",
       "4  0.864865  0.864865  beaver   DOD    beaver       1    beaver        1   \n",
       "\n",
       "  glovePred  gloveAcc  \n",
       "0       ant       1.0  \n",
       "1     eagle       0.0  \n",
       "2    earwig       1.0  \n",
       "3  goldfish       0.0  \n",
       "4    beaver       1.0  "
      ]
     },
     "execution_count": 9,
     "metadata": {},
     "output_type": "execute_result"
    }
   ],
   "source": [
    "stimuli = pd.read_csv('data/leuven_triplets_meanagree.csv')\n",
    "stimuli.head()"
   ]
  },
  {
   "attachments": {},
   "cell_type": "markdown",
   "metadata": {},
   "source": [
    "## Analysis 2: Operation of Control on Abstract Semantic Dimensions"
   ]
  },
  {
   "cell_type": "code",
   "execution_count": 10,
   "metadata": {},
   "outputs": [
    {
     "name": "stdout",
     "output_type": "stream",
     "text": [
      "Context independent vs feature representation r=0.38\n",
      "Context dependent vs feature representation r=0.52\n",
      "Difference is significant at p=0.0\n"
     ]
    }
   ],
   "source": [
    "contexts_to_keep, objects_to_keep, num_objects_to_keep = analysis.filter_nan_similarity(feature_reps[:-1], feature_sim[:-1]) #exclude naming context\n",
    "\n",
    "independent_correlations, dependent_correlations = analysis.fast_rsa_bootstrap(\n",
    "                                                        feature_sim[contexts_to_keep],\n",
    "                                                        np.repeat(context_independent_sim.mean(axis=0)[np.newaxis,:],len(contexts_to_keep),axis=0),\n",
    "                                                        context_dependent_sim.mean(axis=0)[contexts_to_keep],\n",
    "                                                        objects_to_keep,num_objects_to_keep,\n",
    "                                                        n_sims=num_bootstrap_sims)\n",
    "print(f'Context independent vs feature representation r={independent_correlations.mean():.2f}')\n",
    "print(f'Context dependent vs feature representation r={dependent_correlations.mean():.2f}')\n",
    "print(f'Difference is significant at p={((independent_correlations-dependent_correlations).mean(axis=-1)>0).mean()}')"
   ]
  },
  {
   "attachments": {},
   "cell_type": "markdown",
   "metadata": {},
   "source": [
    "## Experiment 2: Empirical Evaluation of Task-specific Conceptual Structure"
   ]
  },
  {
   "cell_type": "code",
   "execution_count": 11,
   "metadata": {},
   "outputs": [
    {
     "data": {
      "text/html": [
       "<div>\n",
       "<style scoped>\n",
       "    .dataframe tbody tr th:only-of-type {\n",
       "        vertical-align: middle;\n",
       "    }\n",
       "\n",
       "    .dataframe tbody tr th {\n",
       "        vertical-align: top;\n",
       "    }\n",
       "\n",
       "    .dataframe thead th {\n",
       "        text-align: right;\n",
       "    }\n",
       "</style>\n",
       "<table border=\"1\" class=\"dataframe\">\n",
       "  <thead>\n",
       "    <tr style=\"text-align: right;\">\n",
       "      <th></th>\n",
       "      <th>Unnamed: 0</th>\n",
       "      <th>Item</th>\n",
       "      <th>Domain</th>\n",
       "      <th>Cat</th>\n",
       "      <th>StandDiam</th>\n",
       "      <th>MnDiam</th>\n",
       "      <th>knd1</th>\n",
       "      <th>knd2</th>\n",
       "      <th>sz1</th>\n",
       "      <th>sz2</th>\n",
       "    </tr>\n",
       "  </thead>\n",
       "  <tbody>\n",
       "    <tr>\n",
       "      <th>0</th>\n",
       "      <td>1</td>\n",
       "      <td>baseball</td>\n",
       "      <td>Artifact</td>\n",
       "      <td>Ball</td>\n",
       "      <td>2.90</td>\n",
       "      <td>2.90</td>\n",
       "      <td>-0.071509</td>\n",
       "      <td>0.103555</td>\n",
       "      <td>0.120037</td>\n",
       "      <td>0.055933</td>\n",
       "    </tr>\n",
       "    <tr>\n",
       "      <th>1</th>\n",
       "      <td>2</td>\n",
       "      <td>basketball</td>\n",
       "      <td>Artifact</td>\n",
       "      <td>Ball</td>\n",
       "      <td>9.55</td>\n",
       "      <td>9.55</td>\n",
       "      <td>-0.284986</td>\n",
       "      <td>-0.015083</td>\n",
       "      <td>0.595614</td>\n",
       "      <td>-0.043278</td>\n",
       "    </tr>\n",
       "    <tr>\n",
       "      <th>2</th>\n",
       "      <td>3</td>\n",
       "      <td>beach_ball</td>\n",
       "      <td>Artifact</td>\n",
       "      <td>Ball</td>\n",
       "      <td>NaN</td>\n",
       "      <td>16.00</td>\n",
       "      <td>-0.250730</td>\n",
       "      <td>0.005826</td>\n",
       "      <td>0.579408</td>\n",
       "      <td>0.061162</td>\n",
       "    </tr>\n",
       "    <tr>\n",
       "      <th>3</th>\n",
       "      <td>4</td>\n",
       "      <td>billiard_ball</td>\n",
       "      <td>Artifact</td>\n",
       "      <td>Ball</td>\n",
       "      <td>2.44</td>\n",
       "      <td>2.44</td>\n",
       "      <td>-0.117420</td>\n",
       "      <td>0.094921</td>\n",
       "      <td>-0.019745</td>\n",
       "      <td>-0.089494</td>\n",
       "    </tr>\n",
       "    <tr>\n",
       "      <th>4</th>\n",
       "      <td>5</td>\n",
       "      <td>blueberry</td>\n",
       "      <td>Plant</td>\n",
       "      <td>FV</td>\n",
       "      <td>NaN</td>\n",
       "      <td>0.41</td>\n",
       "      <td>0.310792</td>\n",
       "      <td>0.001737</td>\n",
       "      <td>-0.472101</td>\n",
       "      <td>-0.122361</td>\n",
       "    </tr>\n",
       "  </tbody>\n",
       "</table>\n",
       "</div>"
      ],
      "text/plain": [
       "   Unnamed: 0           Item    Domain   Cat  StandDiam  MnDiam      knd1  \\\n",
       "0           1       baseball  Artifact  Ball       2.90    2.90 -0.071509   \n",
       "1           2     basketball  Artifact  Ball       9.55    9.55 -0.284986   \n",
       "2           3     beach_ball  Artifact  Ball        NaN   16.00 -0.250730   \n",
       "3           4  billiard_ball  Artifact  Ball       2.44    2.44 -0.117420   \n",
       "4           5      blueberry     Plant    FV        NaN    0.41  0.310792   \n",
       "\n",
       "       knd2       sz1       sz2  \n",
       "0  0.103555  0.120037  0.055933  \n",
       "1 -0.015083  0.595614 -0.043278  \n",
       "2  0.005826  0.579408  0.061162  \n",
       "3  0.094921 -0.019745 -0.089494  \n",
       "4  0.001737 -0.472101 -0.122361  "
      ]
     },
     "execution_count": 11,
     "metadata": {},
     "output_type": "execute_result"
    }
   ],
   "source": [
    "stimuli = pd.read_csv('data/rt_rotated_2D_embeddings_and_metadata.csv')\n",
    "stimuli.head()"
   ]
  },
  {
   "attachments": {},
   "cell_type": "markdown",
   "metadata": {},
   "source": [
    "## Analysis 3: Substructure of Task-Specific Representations"
   ]
  },
  {
   "attachments": {},
   "cell_type": "markdown",
   "metadata": {},
   "source": [
    "### Correlation of Size with Other Features (by Category)"
   ]
  },
  {
   "cell_type": "code",
   "execution_count": 13,
   "metadata": {},
   "outputs": [
    {
     "name": "stdout",
     "output_type": "stream",
     "text": [
      "Correlation within category r=0.56\n",
      "Correlation between categories r=0.11\n",
      "Difference is significant at p=0.0\n"
     ]
    }
   ],
   "source": [
    "feature_values = data.get_raw_feature_values().sum(axis=0)\n",
    "animal_idxs = data.get_item_indices_by_category(['bird','fish','mammal','reptile'])\n",
    "instrument_idxs = data.get_item_indices_by_category(['instrument'])\n",
    "\n",
    "animal_fts, instrument_fts = feature_values[animal_idxs], feature_values[instrument_idxs]\n",
    "animal_sizes, instrument_sizes = feature_values[animal_idxs,size_idx], feature_values[instrument_idxs,size_idx]\n",
    "ft_mask = (animal_fts.sum(axis=0)>0)|(instrument_fts.sum(axis=0)>0)\n",
    "animal_fts, instrument_fts = animal_fts[:,ft_mask], instrument_fts[:,ft_mask]\n",
    "\n",
    "within_corrs, across_corrs = analysis.fast_correlation_splithalf(animal_sizes,animal_fts,\n",
    "                                                                 instrument_sizes,instrument_fts,\n",
    "                                                                 num_bootstrap_sims,replace_nan=0)\n",
    "print(f'Correlation within category r={within_corrs.mean():.2f}')\n",
    "print(f'Correlation between categories r={across_corrs.mean():.2f}')\n",
    "print(f'Difference is significant at p={((across_corrs-within_corrs)>0).mean()}')"
   ]
  },
  {
   "attachments": {},
   "cell_type": "markdown",
   "metadata": {},
   "source": [
    "### Angle between Animal and Instrument Size Representations"
   ]
  },
  {
   "cell_type": "code",
   "execution_count": 14,
   "metadata": {},
   "outputs": [
    {
     "name": "stdout",
     "output_type": "stream",
     "text": [
      "Angle within category=0.27\n",
      "Angle between categories=0.46\n",
      "Difference is significant at p=0.00543\n"
     ]
    }
   ],
   "source": [
    "small_animal_idxs = data.get_item_indices_by_category_and_size(['bird','fish','mammal','reptile'],'small')\n",
    "large_animal_idxs = data.get_item_indices_by_category_and_size(['bird','fish','mammal','reptile'],'large')\n",
    "small_instrument_idxs = data.get_item_indices_by_category_and_size(['instrument'],'small')\n",
    "large_instrument_idxs = data.get_item_indices_by_category_and_size(['instrument'],'large')\n",
    "\n",
    "within_angles, across_angles = np.zeros((num_models,num_bootstrap_sims)), np.zeros((num_models,num_bootstrap_sims))\n",
    "for i in range(num_models):\n",
    "    size_context_reps = isc_models[i].get_context_dependent_reps()[-3]\n",
    "    small_animal_reps = size_context_reps[small_animal_idxs]\n",
    "    large_animal_reps = size_context_reps[large_animal_idxs]\n",
    "    small_instrument_reps = size_context_reps[small_instrument_idxs]\n",
    "    large_instrument_reps = size_context_reps[large_instrument_idxs]\n",
    "\n",
    "    within_angles[i], across_angles[i] = analysis.cosine_splithalf(\n",
    "                                            small_animal_reps, large_animal_reps,\n",
    "                                            small_instrument_reps, large_instrument_reps,\n",
    "                                            n_sims=num_bootstrap_sims)\n",
    "\n",
    "print(f'Angle within category={within_angles.mean():.2f}')\n",
    "print(f'Angle between categories={across_angles.mean():.2f}')\n",
    "print(f'Difference is significant at p={((within_angles-across_angles)>0).mean()}')"
   ]
  },
  {
   "attachments": {},
   "cell_type": "markdown",
   "metadata": {},
   "source": [
    "#### Comparison Model"
   ]
  },
  {
   "cell_type": "code",
   "execution_count": 15,
   "metadata": {},
   "outputs": [],
   "source": [
    "comparison_models = models.load_comparison_models(num_models)"
   ]
  },
  {
   "cell_type": "code",
   "execution_count": 16,
   "metadata": {},
   "outputs": [
    {
     "name": "stdout",
     "output_type": "stream",
     "text": [
      "Angle within category=0.60\n",
      "Angle between categories=0.66\n",
      "Difference is significant at p=0.32695\n"
     ]
    }
   ],
   "source": [
    "small_animal_idxs = data.get_item_indices_by_category_and_size(['bird','fish','mammal','reptile'],'small')\n",
    "large_animal_idxs = data.get_item_indices_by_category_and_size(['bird','fish','mammal','reptile'],'large')\n",
    "small_instrument_idxs = data.get_item_indices_by_category_and_size(['instrument'],'small')\n",
    "large_instrument_idxs = data.get_item_indices_by_category_and_size(['instrument'],'large')\n",
    "\n",
    "small_animal_idxs_complement = [i+num_objects for i in small_animal_idxs]\n",
    "large_animal_idxs_complement = [i+num_objects for i in large_animal_idxs]\n",
    "small_instrument_idxs_complement = [i+num_objects for i in small_instrument_idxs]\n",
    "large_instrument_idxs_complement = [i+num_objects for i in large_instrument_idxs]\n",
    "\n",
    "within_angles, across_angles = np.zeros((num_models,num_bootstrap_sims)), np.zeros((num_models,num_bootstrap_sims))\n",
    "for i in range(num_models):\n",
    "    size_context_reps = comparison_models[i].get_context_dependent_reps()[-3]\n",
    "    small_animal_reps = size_context_reps[small_animal_idxs]\n",
    "    large_animal_reps = size_context_reps[large_animal_idxs]\n",
    "    small_instrument_reps = size_context_reps[small_instrument_idxs]\n",
    "    large_instrument_reps = size_context_reps[large_instrument_idxs]\n",
    "    small_animal_reps_complement = size_context_reps[small_animal_idxs_complement]\n",
    "    large_animal_reps_complement = size_context_reps[large_animal_idxs_complement]\n",
    "    small_instrument_reps_complement = size_context_reps[small_instrument_idxs_complement]\n",
    "    large_instrument_reps_complement = size_context_reps[large_instrument_idxs_complement]\n",
    "\n",
    "    within_angles[i], across_angles[i] = analysis.cosine_splithalf_paired(\n",
    "                                            small_animal_reps, large_animal_reps,\n",
    "                                            small_instrument_reps, large_instrument_reps,\n",
    "                                            small_animal_reps_complement,large_animal_reps_complement,\n",
    "                                            small_instrument_reps_complement,large_instrument_reps_complement,\n",
    "                                            n_sims=num_bootstrap_sims)\n",
    "\n",
    "print(f'Angle within category={within_angles.mean():.2f}')\n",
    "print(f'Angle between categories={across_angles.mean():.2f}')\n",
    "print(f'Difference is significant at p={((within_angles-across_angles)>0).mean()}')"
   ]
  },
  {
   "attachments": {},
   "cell_type": "markdown",
   "metadata": {},
   "source": [
    "# Part 2: Influence of Semantics on Control"
   ]
  },
  {
   "attachments": {},
   "cell_type": "markdown",
   "metadata": {},
   "source": [
    "## Analysis 4: Cross-task Similarity of Representations Used for Control"
   ]
  },
  {
   "cell_type": "code",
   "execution_count": 17,
   "metadata": {},
   "outputs": [
    {
     "name": "stdout",
     "output_type": "stream",
     "text": [
      "Correlation between task-context reps and task similarity r=0.600\n",
      "Correlation of the null distribution r=0.001\n",
      "Difference is significant at p=0.0\n"
     ]
    }
   ],
   "source": [
    "contexts_to_keep, objects_to_keep, num_objects_to_keep = analysis.filter_nan_similarity(feature_reps[:-1], feature_sim[:-1]) #exclude naming context\n",
    "task_ft_sim = analysis.calculate_task_similarity_matrix(feature_sim,contexts_to_keep,\n",
    "                                                        objects_to_keep,num_objects_to_keep)\n",
    "\n",
    "task_context_sim_ = task_context_sim.mean(axis=0)[contexts_to_keep][:,contexts_to_keep][np.triu_indices(len(contexts_to_keep),1)]\n",
    "\n",
    "correlation, null_correlations = analysis.fast_correlation_vec_vec_bootstrap(task_ft_sim,\n",
    "                                                                             task_context_sim_,\n",
    "                                                                             num_bootstrap_sims)\n",
    "print(f'Correlation between task-context reps and task similarity r={correlation:.3f}')\n",
    "print(f'Correlation of the null distribution r={null_correlations.mean():.3f}')\n",
    "print(f'Difference is significant at p={((null_correlations-correlation)>0).mean()}')"
   ]
  },
  {
   "attachments": {},
   "cell_type": "markdown",
   "metadata": {},
   "source": [
    "## Analysis 5: Shaping of Representations Used for Control to Optimize Task Performance"
   ]
  },
  {
   "cell_type": "code",
   "execution_count": 18,
   "metadata": {},
   "outputs": [],
   "source": [
    "train_x, train_y,experiment_stimulus_indices,small_animal_idxs,large_animal_idxs,small_instrument_idxs,large_instrument_idxs = data.make_full_distractor_training_data()\n",
    "interleaved_x = (train_x[0].clone(), train_x[1].clone())\n",
    "interleaved_x[1][:,0] = 0\n",
    "interleaved_x[1][:,1] = 1"
   ]
  },
  {
   "cell_type": "code",
   "execution_count": 19,
   "metadata": {},
   "outputs": [],
   "source": [
    "angles_blocked = []\n",
    "for model_idx in range(10):\n",
    "    learned_context_model = models.ISCModel(device='mps',num_tasks=2,num_task_context_units=16,num_context_dependent_hidden_units=128)\n",
    "    learned_context_model.load_old_model_weights(isc_models[0].state_dict(),use_old_size_starting_point = True)\n",
    "    learned_context_model.metrics.append(models.SizeOrthogonalityMetric())\n",
    "    for epoch in range(5):\n",
    "        learned_context_model.train(train_x,train_y,epochs=1)\n",
    "    angles_blocked.append(learned_context_model.metrics[2].values)"
   ]
  },
  {
   "cell_type": "code",
   "execution_count": 20,
   "metadata": {},
   "outputs": [
    {
     "data": {
      "application/vnd.plotly.v1+json": {
       "config": {
        "plotlyServerURL": "https://plot.ly"
       },
       "data": [
        {
         "hovertemplate": "color=True Positive Rate<br>x=%{x}<br>y=%{y}<extra></extra>",
         "legendgroup": "True Positive Rate",
         "line": {
          "color": "#636efa",
          "dash": "solid"
         },
         "marker": {
          "symbol": "circle"
         },
         "mode": "lines",
         "name": "True Positive Rate",
         "orientation": "v",
         "showlegend": true,
         "type": "scatter",
         "x": [
          0,
          1,
          2,
          3,
          4,
          5,
          6,
          7,
          8,
          9
         ],
         "xaxis": "x",
         "y": [
          0.7104877154382105,
          0.7939127246057939,
          0.7939127246057939,
          0.9206087275394206,
          0.9206087275394206,
          1,
          1,
          1,
          1,
          1
         ],
         "yaxis": "y"
        },
        {
         "hovertemplate": "color=Cosine Distance<br>x=%{x}<br>y=%{y}<extra></extra>",
         "legendgroup": "Cosine Distance",
         "line": {
          "color": "#EF553B",
          "dash": "solid"
         },
         "marker": {
          "symbol": "circle"
         },
         "mode": "lines",
         "name": "Cosine Distance",
         "orientation": "v",
         "showlegend": true,
         "type": "scatter",
         "x": [
          0,
          1,
          2,
          3,
          4,
          5,
          6,
          7,
          8,
          9
         ],
         "xaxis": "x",
         "y": [
          0.4032621222384141,
          0.43565242076893357,
          0.43608294193054165,
          0.6745992344130755,
          0.6765426606191864,
          1.0260863184189382,
          1.0263933168388262,
          1.04632485883991,
          1.0456411562602135,
          1.0298389498751244
         ],
         "yaxis": "y"
        }
       ],
       "layout": {
        "height": 300,
        "legend": {
         "font": {
          "size": 16
         },
         "title": {
          "text": "color"
         },
         "tracegroupgap": 0
        },
        "margin": {
         "t": 60
        },
        "plot_bgcolor": "white",
        "template": {
         "data": {
          "bar": [
           {
            "error_x": {
             "color": "#2a3f5f"
            },
            "error_y": {
             "color": "#2a3f5f"
            },
            "marker": {
             "line": {
              "color": "#E5ECF6",
              "width": 0.5
             },
             "pattern": {
              "fillmode": "overlay",
              "size": 10,
              "solidity": 0.2
             }
            },
            "type": "bar"
           }
          ],
          "barpolar": [
           {
            "marker": {
             "line": {
              "color": "#E5ECF6",
              "width": 0.5
             },
             "pattern": {
              "fillmode": "overlay",
              "size": 10,
              "solidity": 0.2
             }
            },
            "type": "barpolar"
           }
          ],
          "carpet": [
           {
            "aaxis": {
             "endlinecolor": "#2a3f5f",
             "gridcolor": "white",
             "linecolor": "white",
             "minorgridcolor": "white",
             "startlinecolor": "#2a3f5f"
            },
            "baxis": {
             "endlinecolor": "#2a3f5f",
             "gridcolor": "white",
             "linecolor": "white",
             "minorgridcolor": "white",
             "startlinecolor": "#2a3f5f"
            },
            "type": "carpet"
           }
          ],
          "choropleth": [
           {
            "colorbar": {
             "outlinewidth": 0,
             "ticks": ""
            },
            "type": "choropleth"
           }
          ],
          "contour": [
           {
            "colorbar": {
             "outlinewidth": 0,
             "ticks": ""
            },
            "colorscale": [
             [
              0,
              "#0d0887"
             ],
             [
              0.1111111111111111,
              "#46039f"
             ],
             [
              0.2222222222222222,
              "#7201a8"
             ],
             [
              0.3333333333333333,
              "#9c179e"
             ],
             [
              0.4444444444444444,
              "#bd3786"
             ],
             [
              0.5555555555555556,
              "#d8576b"
             ],
             [
              0.6666666666666666,
              "#ed7953"
             ],
             [
              0.7777777777777778,
              "#fb9f3a"
             ],
             [
              0.8888888888888888,
              "#fdca26"
             ],
             [
              1,
              "#f0f921"
             ]
            ],
            "type": "contour"
           }
          ],
          "contourcarpet": [
           {
            "colorbar": {
             "outlinewidth": 0,
             "ticks": ""
            },
            "type": "contourcarpet"
           }
          ],
          "heatmap": [
           {
            "colorbar": {
             "outlinewidth": 0,
             "ticks": ""
            },
            "colorscale": [
             [
              0,
              "#0d0887"
             ],
             [
              0.1111111111111111,
              "#46039f"
             ],
             [
              0.2222222222222222,
              "#7201a8"
             ],
             [
              0.3333333333333333,
              "#9c179e"
             ],
             [
              0.4444444444444444,
              "#bd3786"
             ],
             [
              0.5555555555555556,
              "#d8576b"
             ],
             [
              0.6666666666666666,
              "#ed7953"
             ],
             [
              0.7777777777777778,
              "#fb9f3a"
             ],
             [
              0.8888888888888888,
              "#fdca26"
             ],
             [
              1,
              "#f0f921"
             ]
            ],
            "type": "heatmap"
           }
          ],
          "heatmapgl": [
           {
            "colorbar": {
             "outlinewidth": 0,
             "ticks": ""
            },
            "colorscale": [
             [
              0,
              "#0d0887"
             ],
             [
              0.1111111111111111,
              "#46039f"
             ],
             [
              0.2222222222222222,
              "#7201a8"
             ],
             [
              0.3333333333333333,
              "#9c179e"
             ],
             [
              0.4444444444444444,
              "#bd3786"
             ],
             [
              0.5555555555555556,
              "#d8576b"
             ],
             [
              0.6666666666666666,
              "#ed7953"
             ],
             [
              0.7777777777777778,
              "#fb9f3a"
             ],
             [
              0.8888888888888888,
              "#fdca26"
             ],
             [
              1,
              "#f0f921"
             ]
            ],
            "type": "heatmapgl"
           }
          ],
          "histogram": [
           {
            "marker": {
             "pattern": {
              "fillmode": "overlay",
              "size": 10,
              "solidity": 0.2
             }
            },
            "type": "histogram"
           }
          ],
          "histogram2d": [
           {
            "colorbar": {
             "outlinewidth": 0,
             "ticks": ""
            },
            "colorscale": [
             [
              0,
              "#0d0887"
             ],
             [
              0.1111111111111111,
              "#46039f"
             ],
             [
              0.2222222222222222,
              "#7201a8"
             ],
             [
              0.3333333333333333,
              "#9c179e"
             ],
             [
              0.4444444444444444,
              "#bd3786"
             ],
             [
              0.5555555555555556,
              "#d8576b"
             ],
             [
              0.6666666666666666,
              "#ed7953"
             ],
             [
              0.7777777777777778,
              "#fb9f3a"
             ],
             [
              0.8888888888888888,
              "#fdca26"
             ],
             [
              1,
              "#f0f921"
             ]
            ],
            "type": "histogram2d"
           }
          ],
          "histogram2dcontour": [
           {
            "colorbar": {
             "outlinewidth": 0,
             "ticks": ""
            },
            "colorscale": [
             [
              0,
              "#0d0887"
             ],
             [
              0.1111111111111111,
              "#46039f"
             ],
             [
              0.2222222222222222,
              "#7201a8"
             ],
             [
              0.3333333333333333,
              "#9c179e"
             ],
             [
              0.4444444444444444,
              "#bd3786"
             ],
             [
              0.5555555555555556,
              "#d8576b"
             ],
             [
              0.6666666666666666,
              "#ed7953"
             ],
             [
              0.7777777777777778,
              "#fb9f3a"
             ],
             [
              0.8888888888888888,
              "#fdca26"
             ],
             [
              1,
              "#f0f921"
             ]
            ],
            "type": "histogram2dcontour"
           }
          ],
          "mesh3d": [
           {
            "colorbar": {
             "outlinewidth": 0,
             "ticks": ""
            },
            "type": "mesh3d"
           }
          ],
          "parcoords": [
           {
            "line": {
             "colorbar": {
              "outlinewidth": 0,
              "ticks": ""
             }
            },
            "type": "parcoords"
           }
          ],
          "pie": [
           {
            "automargin": true,
            "type": "pie"
           }
          ],
          "scatter": [
           {
            "fillpattern": {
             "fillmode": "overlay",
             "size": 10,
             "solidity": 0.2
            },
            "type": "scatter"
           }
          ],
          "scatter3d": [
           {
            "line": {
             "colorbar": {
              "outlinewidth": 0,
              "ticks": ""
             }
            },
            "marker": {
             "colorbar": {
              "outlinewidth": 0,
              "ticks": ""
             }
            },
            "type": "scatter3d"
           }
          ],
          "scattercarpet": [
           {
            "marker": {
             "colorbar": {
              "outlinewidth": 0,
              "ticks": ""
             }
            },
            "type": "scattercarpet"
           }
          ],
          "scattergeo": [
           {
            "marker": {
             "colorbar": {
              "outlinewidth": 0,
              "ticks": ""
             }
            },
            "type": "scattergeo"
           }
          ],
          "scattergl": [
           {
            "marker": {
             "colorbar": {
              "outlinewidth": 0,
              "ticks": ""
             }
            },
            "type": "scattergl"
           }
          ],
          "scattermapbox": [
           {
            "marker": {
             "colorbar": {
              "outlinewidth": 0,
              "ticks": ""
             }
            },
            "type": "scattermapbox"
           }
          ],
          "scatterpolar": [
           {
            "marker": {
             "colorbar": {
              "outlinewidth": 0,
              "ticks": ""
             }
            },
            "type": "scatterpolar"
           }
          ],
          "scatterpolargl": [
           {
            "marker": {
             "colorbar": {
              "outlinewidth": 0,
              "ticks": ""
             }
            },
            "type": "scatterpolargl"
           }
          ],
          "scatterternary": [
           {
            "marker": {
             "colorbar": {
              "outlinewidth": 0,
              "ticks": ""
             }
            },
            "type": "scatterternary"
           }
          ],
          "surface": [
           {
            "colorbar": {
             "outlinewidth": 0,
             "ticks": ""
            },
            "colorscale": [
             [
              0,
              "#0d0887"
             ],
             [
              0.1111111111111111,
              "#46039f"
             ],
             [
              0.2222222222222222,
              "#7201a8"
             ],
             [
              0.3333333333333333,
              "#9c179e"
             ],
             [
              0.4444444444444444,
              "#bd3786"
             ],
             [
              0.5555555555555556,
              "#d8576b"
             ],
             [
              0.6666666666666666,
              "#ed7953"
             ],
             [
              0.7777777777777778,
              "#fb9f3a"
             ],
             [
              0.8888888888888888,
              "#fdca26"
             ],
             [
              1,
              "#f0f921"
             ]
            ],
            "type": "surface"
           }
          ],
          "table": [
           {
            "cells": {
             "fill": {
              "color": "#EBF0F8"
             },
             "line": {
              "color": "white"
             }
            },
            "header": {
             "fill": {
              "color": "#C8D4E3"
             },
             "line": {
              "color": "white"
             }
            },
            "type": "table"
           }
          ]
         },
         "layout": {
          "annotationdefaults": {
           "arrowcolor": "#2a3f5f",
           "arrowhead": 0,
           "arrowwidth": 1
          },
          "autotypenumbers": "strict",
          "coloraxis": {
           "colorbar": {
            "outlinewidth": 0,
            "ticks": ""
           }
          },
          "colorscale": {
           "diverging": [
            [
             0,
             "#8e0152"
            ],
            [
             0.1,
             "#c51b7d"
            ],
            [
             0.2,
             "#de77ae"
            ],
            [
             0.3,
             "#f1b6da"
            ],
            [
             0.4,
             "#fde0ef"
            ],
            [
             0.5,
             "#f7f7f7"
            ],
            [
             0.6,
             "#e6f5d0"
            ],
            [
             0.7,
             "#b8e186"
            ],
            [
             0.8,
             "#7fbc41"
            ],
            [
             0.9,
             "#4d9221"
            ],
            [
             1,
             "#276419"
            ]
           ],
           "sequential": [
            [
             0,
             "#0d0887"
            ],
            [
             0.1111111111111111,
             "#46039f"
            ],
            [
             0.2222222222222222,
             "#7201a8"
            ],
            [
             0.3333333333333333,
             "#9c179e"
            ],
            [
             0.4444444444444444,
             "#bd3786"
            ],
            [
             0.5555555555555556,
             "#d8576b"
            ],
            [
             0.6666666666666666,
             "#ed7953"
            ],
            [
             0.7777777777777778,
             "#fb9f3a"
            ],
            [
             0.8888888888888888,
             "#fdca26"
            ],
            [
             1,
             "#f0f921"
            ]
           ],
           "sequentialminus": [
            [
             0,
             "#0d0887"
            ],
            [
             0.1111111111111111,
             "#46039f"
            ],
            [
             0.2222222222222222,
             "#7201a8"
            ],
            [
             0.3333333333333333,
             "#9c179e"
            ],
            [
             0.4444444444444444,
             "#bd3786"
            ],
            [
             0.5555555555555556,
             "#d8576b"
            ],
            [
             0.6666666666666666,
             "#ed7953"
            ],
            [
             0.7777777777777778,
             "#fb9f3a"
            ],
            [
             0.8888888888888888,
             "#fdca26"
            ],
            [
             1,
             "#f0f921"
            ]
           ]
          },
          "colorway": [
           "#636efa",
           "#EF553B",
           "#00cc96",
           "#ab63fa",
           "#FFA15A",
           "#19d3f3",
           "#FF6692",
           "#B6E880",
           "#FF97FF",
           "#FECB52"
          ],
          "font": {
           "color": "#2a3f5f"
          },
          "geo": {
           "bgcolor": "white",
           "lakecolor": "white",
           "landcolor": "#E5ECF6",
           "showlakes": true,
           "showland": true,
           "subunitcolor": "white"
          },
          "hoverlabel": {
           "align": "left"
          },
          "hovermode": "closest",
          "mapbox": {
           "style": "light"
          },
          "paper_bgcolor": "white",
          "plot_bgcolor": "#E5ECF6",
          "polar": {
           "angularaxis": {
            "gridcolor": "white",
            "linecolor": "white",
            "ticks": ""
           },
           "bgcolor": "#E5ECF6",
           "radialaxis": {
            "gridcolor": "white",
            "linecolor": "white",
            "ticks": ""
           }
          },
          "scene": {
           "xaxis": {
            "backgroundcolor": "#E5ECF6",
            "gridcolor": "white",
            "gridwidth": 2,
            "linecolor": "white",
            "showbackground": true,
            "ticks": "",
            "zerolinecolor": "white"
           },
           "yaxis": {
            "backgroundcolor": "#E5ECF6",
            "gridcolor": "white",
            "gridwidth": 2,
            "linecolor": "white",
            "showbackground": true,
            "ticks": "",
            "zerolinecolor": "white"
           },
           "zaxis": {
            "backgroundcolor": "#E5ECF6",
            "gridcolor": "white",
            "gridwidth": 2,
            "linecolor": "white",
            "showbackground": true,
            "ticks": "",
            "zerolinecolor": "white"
           }
          },
          "shapedefaults": {
           "line": {
            "color": "#2a3f5f"
           }
          },
          "ternary": {
           "aaxis": {
            "gridcolor": "white",
            "linecolor": "white",
            "ticks": ""
           },
           "baxis": {
            "gridcolor": "white",
            "linecolor": "white",
            "ticks": ""
           },
           "bgcolor": "#E5ECF6",
           "caxis": {
            "gridcolor": "white",
            "linecolor": "white",
            "ticks": ""
           }
          },
          "title": {
           "x": 0.05
          },
          "xaxis": {
           "automargin": true,
           "gridcolor": "white",
           "linecolor": "white",
           "ticks": "",
           "title": {
            "standoff": 15
           },
           "zerolinecolor": "white",
           "zerolinewidth": 2
          },
          "yaxis": {
           "automargin": true,
           "gridcolor": "white",
           "linecolor": "white",
           "ticks": "",
           "title": {
            "standoff": 15
           },
           "zerolinecolor": "white",
           "zerolinewidth": 2
          }
         }
        },
        "width": 1600,
        "xaxis": {
         "anchor": "y",
         "domain": [
          0,
          1
         ],
         "gridcolor": "#dddddd",
         "linecolor": "black",
         "linewidth": 1.5,
         "mirror": true,
         "showgrid": true,
         "showline": true,
         "ticks": "outside",
         "title": {
          "font": {
           "size": 20
          },
          "text": "Epoch"
         }
        },
        "yaxis": {
         "anchor": "x",
         "domain": [
          0,
          1
         ],
         "gridcolor": "#dddddd",
         "linecolor": "black",
         "linewidth": 1.5,
         "mirror": true,
         "showgrid": true,
         "showline": true,
         "ticks": "outside",
         "title": {
          "font": {
           "size": 20
          },
          "text": "Value"
         }
        }
       }
      }
     },
     "metadata": {},
     "output_type": "display_data"
    }
   ],
   "source": [
    "tprs = learned_context_model.metrics[1].values\n",
    "plot_angles = pd.DataFrame(learned_context_model.metrics[2].values)\n",
    "plot_angles = plot_angles[plot_angles.color=='across'].y.values\n",
    "ys = list(tprs)+list(plot_angles)\n",
    "xs = list(range(len(tprs)))*2\n",
    "colors = ['True Positive Rate']*len(tprs)+['Cosine Distance']*len(plot_angles)\n",
    "fig = px.line(x=xs,y=ys,color=colors,)\n",
    "fig.update_layout(width=1600,height=300,plot_bgcolor='white',\n",
    "                    legend=dict(\n",
    "                                font=dict(size=16)\n",
    "                                )\n",
    ")\n",
    "fig.update_xaxes(title='Epoch',showline=True,linewidth=1.5,linecolor='black',mirror=True,ticks='outside',showgrid=True,gridcolor='#dddddd',titlefont=dict(size=20))\n",
    "fig.update_yaxes(title='Value',showline=True,linewidth=1.5,linecolor='black',mirror=True,ticks='outside',showgrid=True,gridcolor='#dddddd',titlefont=dict(size=20))\n",
    "fig.show()"
   ]
  },
  {
   "cell_type": "code",
   "execution_count": 21,
   "metadata": {},
   "outputs": [],
   "source": [
    "angles_interleaved = []\n",
    "for model_idx in range(10):\n",
    "    learned_context_model = models.ISCModel(device='mps',num_tasks=2,num_task_context_units=16,num_context_dependent_hidden_units=128)\n",
    "    learned_context_model.load_old_model_weights(isc_models[0].state_dict(),use_old_size_starting_point = True)\n",
    "    learned_context_model.metrics.append(models.SizeOrthogonalityMetric())\n",
    "    for epoch in range(5):\n",
    "        learned_context_model.train(interleaved_x,train_y,epochs=1)\n",
    "    angles_interleaved.append(learned_context_model.metrics[2].values)"
   ]
  },
  {
   "cell_type": "code",
   "execution_count": 22,
   "metadata": {},
   "outputs": [
    {
     "name": "stdout",
     "output_type": "stream",
     "text": [
      "-----blocked-----\n",
      "Within from 0.21 to 0.08\n",
      "Across from 0.40 to 1.14\n",
      "Ttest within: TtestResult(statistic=28.312820701346293, pvalue=2.0804393240321406e-10, df=9)\n",
      "Ttest across: TtestResult(statistic=-14.93860824365336, pvalue=5.84501353155045e-08, df=9)\n",
      "\n",
      "-----interleaved-----\n",
      "Within from 0.21 to 0.17\n",
      "Across from 0.40 to 0.39\n",
      "Ttest within: TtestResult(statistic=4.101186152245456, pvalue=0.001335982351118196, df=9)\n",
      "Ttest across: TtestResult(statistic=0.38648866759987144, pvalue=0.6459432231319444, df=9)\n",
      "\n"
     ]
    }
   ],
   "source": [
    "for name,angles in zip(['blocked','interleaved'],[angles_blocked,angles_interleaved]):\n",
    "    df = None\n",
    "    for i in range(10):\n",
    "        d = pd.DataFrame(angles[i])\n",
    "        d['model'] = i\n",
    "        if df is None:\n",
    "            df = d\n",
    "        else:\n",
    "            df = pd.concat([df,d])\n",
    "    win_start = df[(df.x==0)&(df.color=='within')].y.values\n",
    "    win_end = df[(df.x==9)&(df.color=='within')].y.values\n",
    "    acr_start = df[(df.x==0)&(df.color=='across')].y.values\n",
    "    acr_end = df[(df.x==9)&(df.color=='across')].y.values\n",
    "    print(f'-----{name}-----')\n",
    "    print(f'Within from {win_start.mean():.2f} to {win_end.mean():.2f}')\n",
    "    print(f'Across from {acr_start.mean():.2f} to {acr_end.mean():.2f}')\n",
    "    print('Ttest within:',ttest_rel(win_start,win_end,alternative='greater'))\n",
    "    print('Ttest across:',ttest_rel(acr_start,acr_end,alternative='less'))\n",
    "    print()"
   ]
  },
  {
   "attachments": {},
   "cell_type": "markdown",
   "metadata": {},
   "source": [
    "## Experiment 3: Effects of Semantics on Representations Used for Control"
   ]
  },
  {
   "attachments": {},
   "cell_type": "markdown",
   "metadata": {},
   "source": [
    "### Model Training"
   ]
  },
  {
   "cell_type": "code",
   "execution_count": 24,
   "metadata": {},
   "outputs": [
    {
     "name": "stdout",
     "output_type": "stream",
     "text": [
      "0 0.17846923 29\n"
     ]
    }
   ],
   "source": [
    "train_x,train_y,size_conditions,cat_conditions,random_cat_conditions,blocks = data.make_behavioral_experiment_training_data(distractor_strength=.975)\n",
    "\n",
    "def calc_model_error(model,train_x,train_y,noise=0):\n",
    "    errors = torch.abs(model(train_x,noise=noise)-train_y)[:,[2541,2542]].mean(axis=-1)\n",
    "    return errors.cpu().detach().numpy()\n",
    "\n",
    "error_data = []\n",
    "for model_idx in range(1):\n",
    "    simulation_model = models.ISCModel(device='mps',num_tasks=5,num_task_context_units=16,num_context_dependent_hidden_units=128)\n",
    "    save_file = f'isc_model-{model_idx}-bhvsim.torch'\n",
    "    if save_file in os.listdir('models'):\n",
    "        simulation_model.load_state_dict(torch.load(os.path.join('models',save_file)))\n",
    "    else:\n",
    "        simulation_model.load_old_model_weights(isc_models[model_idx].state_dict(),use_old_size_starting_point = True)\n",
    "        errors = calc_model_error(simulation_model,train_x,train_y)\n",
    "        c=1\n",
    "        while errors.mean() > 0.18:\n",
    "            simulation_model.train(train_x,train_y,epochs=1)\n",
    "            errors = calc_model_error(simulation_model,train_x,train_y)\n",
    "            c+=1\n",
    "        print(model_idx, errors.mean(),c)\n",
    "        torch.save(simulation_model.state_dict(),os.path.join('models',save_file))\n",
    "    errors = calc_model_error(simulation_model,train_x,train_y)\n",
    "    accs = ((simulation_model(train_x)[:,2541]>simulation_model(train_x)[:,2542])==train_y[:,2541]).float().cpu().detach().numpy()\n",
    "    error_data.append(pd.DataFrame({'model':[model_idx]*len(errors),'rt':errors,'error':1-accs,\n",
    "                                    'size_condition':size_conditions,'cat_condition':cat_conditions,'rand_condition':random_cat_conditions,'block_type':blocks}))\n",
    "error_data = pd.concat(error_data,axis=0)"
   ]
  },
  {
   "cell_type": "code",
   "execution_count": 27,
   "metadata": {},
   "outputs": [],
   "source": [
    "error_data = []\n",
    "for i in range(71):\n",
    "    errors = calc_model_error(simulation_model,train_x,train_y,noise=1.2)\n",
    "    preds = simulation_model(train_x,noise=1.175)\n",
    "    accs = ((preds[:,2541]>preds[:,2542])==train_y[:,2541]).float().cpu().detach().numpy()\n",
    "    error_data.append(pd.DataFrame({'model':[i]*len(errors),'rt':errors,'error':1-accs,\n",
    "                                    'size_condition':size_conditions,'cat_condition':cat_conditions,'rand_condition':random_cat_conditions,'block_type':blocks}))\n",
    "error_data = pd.concat(error_data,axis=0)\n",
    "#error_data.to_csv('data/experiment3_simulation_data_0200.csv')"
   ]
  },
  {
   "attachments": {},
   "cell_type": "markdown",
   "metadata": {},
   "source": [
    "### Model Performance Statistics"
   ]
  },
  {
   "cell_type": "code",
   "execution_count": 28,
   "metadata": {},
   "outputs": [
    {
     "name": "stdout",
     "output_type": "stream",
     "text": [
      "Blocked ANOVA\n",
      "  RT\n"
     ]
    },
    {
     "data": {
      "text/html": [
       "<div>\n",
       "<style scoped>\n",
       "    .dataframe tbody tr th:only-of-type {\n",
       "        vertical-align: middle;\n",
       "    }\n",
       "\n",
       "    .dataframe tbody tr th {\n",
       "        vertical-align: top;\n",
       "    }\n",
       "\n",
       "    .dataframe thead th {\n",
       "        text-align: right;\n",
       "    }\n",
       "</style>\n",
       "<table border=\"1\" class=\"dataframe\">\n",
       "  <thead>\n",
       "    <tr style=\"text-align: right;\">\n",
       "      <th></th>\n",
       "      <th>Source</th>\n",
       "      <th>SS</th>\n",
       "      <th>ddof1</th>\n",
       "      <th>ddof2</th>\n",
       "      <th>MS</th>\n",
       "      <th>F</th>\n",
       "      <th>p-unc</th>\n",
       "      <th>p-GG-corr</th>\n",
       "      <th>n2</th>\n",
       "      <th>eps</th>\n",
       "    </tr>\n",
       "  </thead>\n",
       "  <tbody>\n",
       "    <tr>\n",
       "      <th>0</th>\n",
       "      <td>size_condition</td>\n",
       "      <td>0.072149</td>\n",
       "      <td>1</td>\n",
       "      <td>70</td>\n",
       "      <td>0.072149</td>\n",
       "      <td>21.101734</td>\n",
       "      <td>0.000019</td>\n",
       "      <td>0.000019</td>\n",
       "      <td>0.085793</td>\n",
       "      <td>1.0</td>\n",
       "    </tr>\n",
       "    <tr>\n",
       "      <th>1</th>\n",
       "      <td>cat_condition</td>\n",
       "      <td>0.009060</td>\n",
       "      <td>1</td>\n",
       "      <td>70</td>\n",
       "      <td>0.009060</td>\n",
       "      <td>4.772670</td>\n",
       "      <td>0.032266</td>\n",
       "      <td>0.032266</td>\n",
       "      <td>0.010773</td>\n",
       "      <td>1.0</td>\n",
       "    </tr>\n",
       "    <tr>\n",
       "      <th>2</th>\n",
       "      <td>size_condition * cat_condition</td>\n",
       "      <td>0.017190</td>\n",
       "      <td>1</td>\n",
       "      <td>70</td>\n",
       "      <td>0.017190</td>\n",
       "      <td>7.172434</td>\n",
       "      <td>0.009218</td>\n",
       "      <td>0.009218</td>\n",
       "      <td>0.020441</td>\n",
       "      <td>1.0</td>\n",
       "    </tr>\n",
       "  </tbody>\n",
       "</table>\n",
       "</div>"
      ],
      "text/plain": [
       "                           Source        SS  ddof1  ddof2        MS  \\\n",
       "0                  size_condition  0.072149      1     70  0.072149   \n",
       "1                   cat_condition  0.009060      1     70  0.009060   \n",
       "2  size_condition * cat_condition  0.017190      1     70  0.017190   \n",
       "\n",
       "           F     p-unc  p-GG-corr        n2  eps  \n",
       "0  21.101734  0.000019   0.000019  0.085793  1.0  \n",
       "1   4.772670  0.032266   0.032266  0.010773  1.0  \n",
       "2   7.172434  0.009218   0.009218  0.020441  1.0  "
      ]
     },
     "metadata": {},
     "output_type": "display_data"
    },
    {
     "name": "stdout",
     "output_type": "stream",
     "text": [
      "  Error\n"
     ]
    },
    {
     "data": {
      "text/html": [
       "<div>\n",
       "<style scoped>\n",
       "    .dataframe tbody tr th:only-of-type {\n",
       "        vertical-align: middle;\n",
       "    }\n",
       "\n",
       "    .dataframe tbody tr th {\n",
       "        vertical-align: top;\n",
       "    }\n",
       "\n",
       "    .dataframe thead th {\n",
       "        text-align: right;\n",
       "    }\n",
       "</style>\n",
       "<table border=\"1\" class=\"dataframe\">\n",
       "  <thead>\n",
       "    <tr style=\"text-align: right;\">\n",
       "      <th></th>\n",
       "      <th>Source</th>\n",
       "      <th>SS</th>\n",
       "      <th>ddof1</th>\n",
       "      <th>ddof2</th>\n",
       "      <th>MS</th>\n",
       "      <th>F</th>\n",
       "      <th>p-unc</th>\n",
       "      <th>p-GG-corr</th>\n",
       "      <th>n2</th>\n",
       "      <th>eps</th>\n",
       "    </tr>\n",
       "  </thead>\n",
       "  <tbody>\n",
       "    <tr>\n",
       "      <th>0</th>\n",
       "      <td>size_condition</td>\n",
       "      <td>0.987306</td>\n",
       "      <td>1</td>\n",
       "      <td>70</td>\n",
       "      <td>0.987306</td>\n",
       "      <td>372.524886</td>\n",
       "      <td>9.654212e-30</td>\n",
       "      <td>9.654212e-30</td>\n",
       "      <td>0.495588</td>\n",
       "      <td>1.0</td>\n",
       "    </tr>\n",
       "    <tr>\n",
       "      <th>1</th>\n",
       "      <td>cat_condition</td>\n",
       "      <td>0.197799</td>\n",
       "      <td>1</td>\n",
       "      <td>70</td>\n",
       "      <td>0.197799</td>\n",
       "      <td>109.105979</td>\n",
       "      <td>6.327899e-16</td>\n",
       "      <td>6.327899e-16</td>\n",
       "      <td>0.099287</td>\n",
       "      <td>1.0</td>\n",
       "    </tr>\n",
       "    <tr>\n",
       "      <th>2</th>\n",
       "      <td>size_condition * cat_condition</td>\n",
       "      <td>0.171797</td>\n",
       "      <td>1</td>\n",
       "      <td>70</td>\n",
       "      <td>0.171797</td>\n",
       "      <td>74.760767</td>\n",
       "      <td>1.178961e-12</td>\n",
       "      <td>1.178961e-12</td>\n",
       "      <td>0.086235</td>\n",
       "      <td>1.0</td>\n",
       "    </tr>\n",
       "  </tbody>\n",
       "</table>\n",
       "</div>"
      ],
      "text/plain": [
       "                           Source        SS  ddof1  ddof2        MS  \\\n",
       "0                  size_condition  0.987306      1     70  0.987306   \n",
       "1                   cat_condition  0.197799      1     70  0.197799   \n",
       "2  size_condition * cat_condition  0.171797      1     70  0.171797   \n",
       "\n",
       "            F         p-unc     p-GG-corr        n2  eps  \n",
       "0  372.524886  9.654212e-30  9.654212e-30  0.495588  1.0  \n",
       "1  109.105979  6.327899e-16  6.327899e-16  0.099287  1.0  \n",
       "2   74.760767  1.178961e-12  1.178961e-12  0.086235  1.0  "
      ]
     },
     "metadata": {},
     "output_type": "display_data"
    },
    {
     "name": "stdout",
     "output_type": "stream",
     "text": [
      "\n",
      "Interleaved ANOVA\n",
      "  RT\n"
     ]
    },
    {
     "data": {
      "text/html": [
       "<div>\n",
       "<style scoped>\n",
       "    .dataframe tbody tr th:only-of-type {\n",
       "        vertical-align: middle;\n",
       "    }\n",
       "\n",
       "    .dataframe tbody tr th {\n",
       "        vertical-align: top;\n",
       "    }\n",
       "\n",
       "    .dataframe thead th {\n",
       "        text-align: right;\n",
       "    }\n",
       "</style>\n",
       "<table border=\"1\" class=\"dataframe\">\n",
       "  <thead>\n",
       "    <tr style=\"text-align: right;\">\n",
       "      <th></th>\n",
       "      <th>Source</th>\n",
       "      <th>SS</th>\n",
       "      <th>ddof1</th>\n",
       "      <th>ddof2</th>\n",
       "      <th>MS</th>\n",
       "      <th>F</th>\n",
       "      <th>p-unc</th>\n",
       "      <th>p-GG-corr</th>\n",
       "      <th>n2</th>\n",
       "      <th>eps</th>\n",
       "    </tr>\n",
       "  </thead>\n",
       "  <tbody>\n",
       "    <tr>\n",
       "      <th>0</th>\n",
       "      <td>size_condition</td>\n",
       "      <td>0.199630</td>\n",
       "      <td>1</td>\n",
       "      <td>70</td>\n",
       "      <td>0.199630</td>\n",
       "      <td>68.549625</td>\n",
       "      <td>5.583715e-12</td>\n",
       "      <td>5.583715e-12</td>\n",
       "      <td>0.204404</td>\n",
       "      <td>1.0</td>\n",
       "    </tr>\n",
       "    <tr>\n",
       "      <th>1</th>\n",
       "      <td>cat_condition</td>\n",
       "      <td>0.004216</td>\n",
       "      <td>1</td>\n",
       "      <td>70</td>\n",
       "      <td>0.004216</td>\n",
       "      <td>1.577661</td>\n",
       "      <td>2.132740e-01</td>\n",
       "      <td>2.132740e-01</td>\n",
       "      <td>0.004317</td>\n",
       "      <td>1.0</td>\n",
       "    </tr>\n",
       "    <tr>\n",
       "      <th>2</th>\n",
       "      <td>size_condition * cat_condition</td>\n",
       "      <td>0.000031</td>\n",
       "      <td>1</td>\n",
       "      <td>70</td>\n",
       "      <td>0.000031</td>\n",
       "      <td>0.010774</td>\n",
       "      <td>9.176284e-01</td>\n",
       "      <td>9.176284e-01</td>\n",
       "      <td>0.000032</td>\n",
       "      <td>1.0</td>\n",
       "    </tr>\n",
       "  </tbody>\n",
       "</table>\n",
       "</div>"
      ],
      "text/plain": [
       "                           Source        SS  ddof1  ddof2        MS  \\\n",
       "0                  size_condition  0.199630      1     70  0.199630   \n",
       "1                   cat_condition  0.004216      1     70  0.004216   \n",
       "2  size_condition * cat_condition  0.000031      1     70  0.000031   \n",
       "\n",
       "           F         p-unc     p-GG-corr        n2  eps  \n",
       "0  68.549625  5.583715e-12  5.583715e-12  0.204404  1.0  \n",
       "1   1.577661  2.132740e-01  2.132740e-01  0.004317  1.0  \n",
       "2   0.010774  9.176284e-01  9.176284e-01  0.000032  1.0  "
      ]
     },
     "metadata": {},
     "output_type": "display_data"
    },
    {
     "name": "stdout",
     "output_type": "stream",
     "text": [
      "  Error\n"
     ]
    },
    {
     "data": {
      "text/html": [
       "<div>\n",
       "<style scoped>\n",
       "    .dataframe tbody tr th:only-of-type {\n",
       "        vertical-align: middle;\n",
       "    }\n",
       "\n",
       "    .dataframe tbody tr th {\n",
       "        vertical-align: top;\n",
       "    }\n",
       "\n",
       "    .dataframe thead th {\n",
       "        text-align: right;\n",
       "    }\n",
       "</style>\n",
       "<table border=\"1\" class=\"dataframe\">\n",
       "  <thead>\n",
       "    <tr style=\"text-align: right;\">\n",
       "      <th></th>\n",
       "      <th>Source</th>\n",
       "      <th>SS</th>\n",
       "      <th>ddof1</th>\n",
       "      <th>ddof2</th>\n",
       "      <th>MS</th>\n",
       "      <th>F</th>\n",
       "      <th>p-unc</th>\n",
       "      <th>p-GG-corr</th>\n",
       "      <th>n2</th>\n",
       "      <th>eps</th>\n",
       "    </tr>\n",
       "  </thead>\n",
       "  <tbody>\n",
       "    <tr>\n",
       "      <th>0</th>\n",
       "      <td>size_condition</td>\n",
       "      <td>2.112694</td>\n",
       "      <td>1</td>\n",
       "      <td>70</td>\n",
       "      <td>2.112694</td>\n",
       "      <td>699.433056</td>\n",
       "      <td>3.634149e-38</td>\n",
       "      <td>3.634149e-38</td>\n",
       "      <td>0.762314</td>\n",
       "      <td>1.0</td>\n",
       "    </tr>\n",
       "    <tr>\n",
       "      <th>1</th>\n",
       "      <td>cat_condition</td>\n",
       "      <td>0.000047</td>\n",
       "      <td>1</td>\n",
       "      <td>70</td>\n",
       "      <td>0.000047</td>\n",
       "      <td>0.021447</td>\n",
       "      <td>8.839887e-01</td>\n",
       "      <td>8.839887e-01</td>\n",
       "      <td>0.000017</td>\n",
       "      <td>1.0</td>\n",
       "    </tr>\n",
       "    <tr>\n",
       "      <th>2</th>\n",
       "      <td>size_condition * cat_condition</td>\n",
       "      <td>0.004536</td>\n",
       "      <td>1</td>\n",
       "      <td>70</td>\n",
       "      <td>0.004536</td>\n",
       "      <td>2.219670</td>\n",
       "      <td>1.407543e-01</td>\n",
       "      <td>1.407543e-01</td>\n",
       "      <td>0.001637</td>\n",
       "      <td>1.0</td>\n",
       "    </tr>\n",
       "  </tbody>\n",
       "</table>\n",
       "</div>"
      ],
      "text/plain": [
       "                           Source        SS  ddof1  ddof2        MS  \\\n",
       "0                  size_condition  2.112694      1     70  2.112694   \n",
       "1                   cat_condition  0.000047      1     70  0.000047   \n",
       "2  size_condition * cat_condition  0.004536      1     70  0.004536   \n",
       "\n",
       "            F         p-unc     p-GG-corr        n2  eps  \n",
       "0  699.433056  3.634149e-38  3.634149e-38  0.762314  1.0  \n",
       "1    0.021447  8.839887e-01  8.839887e-01  0.000017  1.0  \n",
       "2    2.219670  1.407543e-01  1.407543e-01  0.001637  1.0  "
      ]
     },
     "metadata": {},
     "output_type": "display_data"
    }
   ],
   "source": [
    "model_data = pd.read_csv('data/experiment3_simulation_data_0200.csv') #models that were trained to 0.200 avg error\n",
    "\n",
    "model_data = model_data[model_data.block_type!='random']\n",
    "model_data_interleaved = model_data[model_data.block_type=='interleaved']\n",
    "model_data_blocked = model_data[model_data.block_type=='blocked']\n",
    "\n",
    "print('Blocked ANOVA')\n",
    "print('  RT')\n",
    "display(pg.rm_anova(data=model_data_blocked,dv='rt',\n",
    "                    within=['size_condition','cat_condition'],subject='model',\n",
    "                    detailed=True,effsize='n2'))\n",
    "print('  Error')\n",
    "display(pg.rm_anova(data=model_data_blocked,dv='error',\n",
    "                    within=['size_condition','cat_condition'],subject='model',\n",
    "                    detailed=True,effsize='n2'))\n",
    "print()\n",
    "print('Interleaved ANOVA')\n",
    "print('  RT')\n",
    "display(pg.rm_anova(data=model_data_interleaved,dv='rt',\n",
    "                    within=['size_condition','cat_condition'],subject='model',\n",
    "                    detailed=True,effsize='n2'))\n",
    "print('  Error')\n",
    "display(pg.rm_anova(data=model_data_interleaved,dv='error',\n",
    "                    within=['size_condition','cat_condition'],subject='model',\n",
    "                    detailed=True,effsize='n2'))"
   ]
  },
  {
   "cell_type": "code",
   "execution_count": 29,
   "metadata": {},
   "outputs": [
    {
     "name": "stdout",
     "output_type": "stream",
     "text": [
      "Blocked Simple Effects - RT\n",
      "    Category Effect @ Size Match\n"
     ]
    },
    {
     "data": {
      "text/html": [
       "<div>\n",
       "<style scoped>\n",
       "    .dataframe tbody tr th:only-of-type {\n",
       "        vertical-align: middle;\n",
       "    }\n",
       "\n",
       "    .dataframe tbody tr th {\n",
       "        vertical-align: top;\n",
       "    }\n",
       "\n",
       "    .dataframe thead th {\n",
       "        text-align: right;\n",
       "    }\n",
       "</style>\n",
       "<table border=\"1\" class=\"dataframe\">\n",
       "  <thead>\n",
       "    <tr style=\"text-align: right;\">\n",
       "      <th></th>\n",
       "      <th>Source</th>\n",
       "      <th>SS</th>\n",
       "      <th>DF</th>\n",
       "      <th>MS</th>\n",
       "      <th>F</th>\n",
       "      <th>p-unc</th>\n",
       "      <th>n2</th>\n",
       "      <th>eps</th>\n",
       "    </tr>\n",
       "  </thead>\n",
       "  <tbody>\n",
       "    <tr>\n",
       "      <th>0</th>\n",
       "      <td>cat_condition</td>\n",
       "      <td>0.000645</td>\n",
       "      <td>1</td>\n",
       "      <td>0.000645</td>\n",
       "      <td>0.252791</td>\n",
       "      <td>0.616695</td>\n",
       "      <td>0.001687</td>\n",
       "      <td>1.0</td>\n",
       "    </tr>\n",
       "    <tr>\n",
       "      <th>1</th>\n",
       "      <td>Error</td>\n",
       "      <td>0.178723</td>\n",
       "      <td>70</td>\n",
       "      <td>0.002553</td>\n",
       "      <td>NaN</td>\n",
       "      <td>NaN</td>\n",
       "      <td>NaN</td>\n",
       "      <td>NaN</td>\n",
       "    </tr>\n",
       "  </tbody>\n",
       "</table>\n",
       "</div>"
      ],
      "text/plain": [
       "          Source        SS  DF        MS         F     p-unc        n2  eps\n",
       "0  cat_condition  0.000645   1  0.000645  0.252791  0.616695  0.001687  1.0\n",
       "1          Error  0.178723  70  0.002553       NaN       NaN       NaN  NaN"
      ]
     },
     "metadata": {},
     "output_type": "display_data"
    },
    {
     "name": "stdout",
     "output_type": "stream",
     "text": [
      "    Category Effect @ Size Mismatch\n"
     ]
    },
    {
     "data": {
      "text/html": [
       "<div>\n",
       "<style scoped>\n",
       "    .dataframe tbody tr th:only-of-type {\n",
       "        vertical-align: middle;\n",
       "    }\n",
       "\n",
       "    .dataframe tbody tr th {\n",
       "        vertical-align: top;\n",
       "    }\n",
       "\n",
       "    .dataframe thead th {\n",
       "        text-align: right;\n",
       "    }\n",
       "</style>\n",
       "<table border=\"1\" class=\"dataframe\">\n",
       "  <thead>\n",
       "    <tr style=\"text-align: right;\">\n",
       "      <th></th>\n",
       "      <th>Source</th>\n",
       "      <th>SS</th>\n",
       "      <th>DF</th>\n",
       "      <th>MS</th>\n",
       "      <th>F</th>\n",
       "      <th>p-unc</th>\n",
       "      <th>n2</th>\n",
       "      <th>eps</th>\n",
       "    </tr>\n",
       "  </thead>\n",
       "  <tbody>\n",
       "    <tr>\n",
       "      <th>0</th>\n",
       "      <td>cat_condition</td>\n",
       "      <td>0.025604</td>\n",
       "      <td>1</td>\n",
       "      <td>0.025604</td>\n",
       "      <td>14.70048</td>\n",
       "      <td>0.000273</td>\n",
       "      <td>0.066302</td>\n",
       "      <td>1.0</td>\n",
       "    </tr>\n",
       "    <tr>\n",
       "      <th>1</th>\n",
       "      <td>Error</td>\n",
       "      <td>0.121921</td>\n",
       "      <td>70</td>\n",
       "      <td>0.001742</td>\n",
       "      <td>NaN</td>\n",
       "      <td>NaN</td>\n",
       "      <td>NaN</td>\n",
       "      <td>NaN</td>\n",
       "    </tr>\n",
       "  </tbody>\n",
       "</table>\n",
       "</div>"
      ],
      "text/plain": [
       "          Source        SS  DF        MS         F     p-unc        n2  eps\n",
       "0  cat_condition  0.025604   1  0.025604  14.70048  0.000273  0.066302  1.0\n",
       "1          Error  0.121921  70  0.001742       NaN       NaN       NaN  NaN"
      ]
     },
     "metadata": {},
     "output_type": "display_data"
    },
    {
     "name": "stdout",
     "output_type": "stream",
     "text": [
      "Blocked Simple Effects - Error\n",
      "    Category Effect @ Size Match\n"
     ]
    },
    {
     "data": {
      "text/html": [
       "<div>\n",
       "<style scoped>\n",
       "    .dataframe tbody tr th:only-of-type {\n",
       "        vertical-align: middle;\n",
       "    }\n",
       "\n",
       "    .dataframe tbody tr th {\n",
       "        vertical-align: top;\n",
       "    }\n",
       "\n",
       "    .dataframe thead th {\n",
       "        text-align: right;\n",
       "    }\n",
       "</style>\n",
       "<table border=\"1\" class=\"dataframe\">\n",
       "  <thead>\n",
       "    <tr style=\"text-align: right;\">\n",
       "      <th></th>\n",
       "      <th>Source</th>\n",
       "      <th>SS</th>\n",
       "      <th>DF</th>\n",
       "      <th>MS</th>\n",
       "      <th>F</th>\n",
       "      <th>p-unc</th>\n",
       "      <th>n2</th>\n",
       "      <th>eps</th>\n",
       "    </tr>\n",
       "  </thead>\n",
       "  <tbody>\n",
       "    <tr>\n",
       "      <th>0</th>\n",
       "      <td>cat_condition</td>\n",
       "      <td>0.000458</td>\n",
       "      <td>1</td>\n",
       "      <td>0.000458</td>\n",
       "      <td>0.174401</td>\n",
       "      <td>0.677508</td>\n",
       "      <td>0.001307</td>\n",
       "      <td>1.0</td>\n",
       "    </tr>\n",
       "    <tr>\n",
       "      <th>1</th>\n",
       "      <td>Error</td>\n",
       "      <td>0.183798</td>\n",
       "      <td>70</td>\n",
       "      <td>0.002626</td>\n",
       "      <td>NaN</td>\n",
       "      <td>NaN</td>\n",
       "      <td>NaN</td>\n",
       "      <td>NaN</td>\n",
       "    </tr>\n",
       "  </tbody>\n",
       "</table>\n",
       "</div>"
      ],
      "text/plain": [
       "          Source        SS  DF        MS         F     p-unc        n2  eps\n",
       "0  cat_condition  0.000458   1  0.000458  0.174401  0.677508  0.001307  1.0\n",
       "1          Error  0.183798  70  0.002626       NaN       NaN       NaN  NaN"
      ]
     },
     "metadata": {},
     "output_type": "display_data"
    },
    {
     "name": "stdout",
     "output_type": "stream",
     "text": [
      "    Category Effect @ Size Mismatch\n"
     ]
    },
    {
     "data": {
      "text/html": [
       "<div>\n",
       "<style scoped>\n",
       "    .dataframe tbody tr th:only-of-type {\n",
       "        vertical-align: middle;\n",
       "    }\n",
       "\n",
       "    .dataframe tbody tr th {\n",
       "        vertical-align: top;\n",
       "    }\n",
       "\n",
       "    .dataframe thead th {\n",
       "        text-align: right;\n",
       "    }\n",
       "</style>\n",
       "<table border=\"1\" class=\"dataframe\">\n",
       "  <thead>\n",
       "    <tr style=\"text-align: right;\">\n",
       "      <th></th>\n",
       "      <th>Source</th>\n",
       "      <th>SS</th>\n",
       "      <th>DF</th>\n",
       "      <th>MS</th>\n",
       "      <th>F</th>\n",
       "      <th>p-unc</th>\n",
       "      <th>n2</th>\n",
       "      <th>eps</th>\n",
       "    </tr>\n",
       "  </thead>\n",
       "  <tbody>\n",
       "    <tr>\n",
       "      <th>0</th>\n",
       "      <td>cat_condition</td>\n",
       "      <td>0.369138</td>\n",
       "      <td>1</td>\n",
       "      <td>0.369138</td>\n",
       "      <td>248.549172</td>\n",
       "      <td>9.937880e-25</td>\n",
       "      <td>0.564091</td>\n",
       "      <td>1.0</td>\n",
       "    </tr>\n",
       "    <tr>\n",
       "      <th>1</th>\n",
       "      <td>Error</td>\n",
       "      <td>0.103962</td>\n",
       "      <td>70</td>\n",
       "      <td>0.001485</td>\n",
       "      <td>NaN</td>\n",
       "      <td>NaN</td>\n",
       "      <td>NaN</td>\n",
       "      <td>NaN</td>\n",
       "    </tr>\n",
       "  </tbody>\n",
       "</table>\n",
       "</div>"
      ],
      "text/plain": [
       "          Source        SS  DF        MS           F         p-unc        n2  \\\n",
       "0  cat_condition  0.369138   1  0.369138  248.549172  9.937880e-25  0.564091   \n",
       "1          Error  0.103962  70  0.001485         NaN           NaN       NaN   \n",
       "\n",
       "   eps  \n",
       "0  1.0  \n",
       "1  NaN  "
      ]
     },
     "metadata": {},
     "output_type": "display_data"
    }
   ],
   "source": [
    "print('Blocked Simple Effects - RT')\n",
    "print('    Category Effect @ Size Match')\n",
    "display(pg.rm_anova(data=model_data_blocked[model_data_blocked.size_condition=='s_ma'],dv='rt',\n",
    "                    within='cat_condition',subject='model',detailed=True,effsize='n2'))\n",
    "print('    Category Effect @ Size Mismatch')\n",
    "display(pg.rm_anova(data=model_data_blocked[model_data_blocked.size_condition=='s_ms'],dv='rt',\n",
    "                    within='cat_condition',subject='model',detailed=True,effsize='n2'))\n",
    "print('Blocked Simple Effects - Error')\n",
    "print('    Category Effect @ Size Match')\n",
    "display(pg.rm_anova(data=model_data_blocked[model_data_blocked.size_condition=='s_ma'],dv='error',\n",
    "                    within='cat_condition',subject='model',detailed=True,effsize='n2'))\n",
    "print('    Category Effect @ Size Mismatch')\n",
    "display(pg.rm_anova(data=model_data_blocked[model_data_blocked.size_condition=='s_ms'],dv='error',\n",
    "                    within='cat_condition',subject='model',detailed=True,effsize='n2'))"
   ]
  },
  {
   "cell_type": "code",
   "execution_count": 30,
   "metadata": {},
   "outputs": [
    {
     "name": "stdout",
     "output_type": "stream",
     "text": [
      "Blocked vs Interleaved Interference Effect Size\n",
      "RT Means: Blocked=0.03, Interleaved=-0.01, t=3.04, p=0.003\n",
      "Error Means: Blocked=0.10, Interleaved=0.01, t=8.78, p=0.000\n"
     ]
    }
   ],
   "source": [
    "print('Blocked vs Interleaved Interference Effect Size')\n",
    "transformed_data = model_data[model_data.size_condition=='s_ms'] \\\n",
    "                        .groupby(['block_type','model','cat_condition'],as_index=False).mean() \\\n",
    "                        .pivot_table(index='model',columns=['block_type','cat_condition'],values='rt')\n",
    "blocked_effect_size = transformed_data['blocked','c_ma']-transformed_data['blocked','c_ms']\n",
    "interleaved_effect_size = transformed_data['interleaved','c_ma']-transformed_data['interleaved','c_ms']\n",
    "ttest_result = ttest_rel(blocked_effect_size.values,interleaved_effect_size.values)\n",
    "print(f'RT Means: Blocked={blocked_effect_size.mean():.2f}, Interleaved={interleaved_effect_size.mean():.2f}, t={ttest_result.statistic:.2f}, p={ttest_result.pvalue:.3f}')\n",
    "transformed_data = model_data[model_data.size_condition=='s_ms'] \\\n",
    "                        .groupby(['block_type','model','cat_condition'],as_index=False).mean() \\\n",
    "                        .pivot_table(index='model',columns=['block_type','cat_condition'],values='error')\n",
    "blocked_effect_size = transformed_data['blocked','c_ma']-transformed_data['blocked','c_ms']\n",
    "interleaved_effect_size = transformed_data['interleaved','c_ma']-transformed_data['interleaved','c_ms']\n",
    "ttest_result = ttest_rel(blocked_effect_size.values,interleaved_effect_size.values)\n",
    "print(f'Error Means: Blocked={blocked_effect_size.mean():.2f}, Interleaved={interleaved_effect_size.mean():.2f}, t={ttest_result.statistic:.2f}, p={ttest_result.pvalue:.3f}')"
   ]
  },
  {
   "attachments": {},
   "cell_type": "markdown",
   "metadata": {},
   "source": [
    "### Behavioral Performance Statistics"
   ]
  },
  {
   "cell_type": "code",
   "execution_count": 32,
   "metadata": {},
   "outputs": [
    {
     "name": "stdout",
     "output_type": "stream",
     "text": [
      "Interleaved ANOVA\n",
      "  RT\n"
     ]
    },
    {
     "data": {
      "text/html": [
       "<div>\n",
       "<style scoped>\n",
       "    .dataframe tbody tr th:only-of-type {\n",
       "        vertical-align: middle;\n",
       "    }\n",
       "\n",
       "    .dataframe tbody tr th {\n",
       "        vertical-align: top;\n",
       "    }\n",
       "\n",
       "    .dataframe thead th {\n",
       "        text-align: right;\n",
       "    }\n",
       "</style>\n",
       "<table border=\"1\" class=\"dataframe\">\n",
       "  <thead>\n",
       "    <tr style=\"text-align: right;\">\n",
       "      <th></th>\n",
       "      <th>Source</th>\n",
       "      <th>SS</th>\n",
       "      <th>ddof1</th>\n",
       "      <th>ddof2</th>\n",
       "      <th>MS</th>\n",
       "      <th>F</th>\n",
       "      <th>p-unc</th>\n",
       "      <th>p-GG-corr</th>\n",
       "      <th>n2</th>\n",
       "      <th>eps</th>\n",
       "    </tr>\n",
       "  </thead>\n",
       "  <tbody>\n",
       "    <tr>\n",
       "      <th>0</th>\n",
       "      <td>size_condition</td>\n",
       "      <td>0.064678</td>\n",
       "      <td>1</td>\n",
       "      <td>70</td>\n",
       "      <td>0.064678</td>\n",
       "      <td>57.505461</td>\n",
       "      <td>1.068096e-10</td>\n",
       "      <td>1.068096e-10</td>\n",
       "      <td>0.020802</td>\n",
       "      <td>1.0</td>\n",
       "    </tr>\n",
       "    <tr>\n",
       "      <th>1</th>\n",
       "      <td>cat_condition</td>\n",
       "      <td>0.004718</td>\n",
       "      <td>1</td>\n",
       "      <td>70</td>\n",
       "      <td>0.004718</td>\n",
       "      <td>4.039500</td>\n",
       "      <td>4.830266e-02</td>\n",
       "      <td>4.830266e-02</td>\n",
       "      <td>0.001517</td>\n",
       "      <td>1.0</td>\n",
       "    </tr>\n",
       "    <tr>\n",
       "      <th>2</th>\n",
       "      <td>size_condition * cat_condition</td>\n",
       "      <td>0.004111</td>\n",
       "      <td>1</td>\n",
       "      <td>70</td>\n",
       "      <td>0.004111</td>\n",
       "      <td>3.770766</td>\n",
       "      <td>5.618090e-02</td>\n",
       "      <td>5.618090e-02</td>\n",
       "      <td>0.001322</td>\n",
       "      <td>1.0</td>\n",
       "    </tr>\n",
       "  </tbody>\n",
       "</table>\n",
       "</div>"
      ],
      "text/plain": [
       "                           Source        SS  ddof1  ddof2        MS  \\\n",
       "0                  size_condition  0.064678      1     70  0.064678   \n",
       "1                   cat_condition  0.004718      1     70  0.004718   \n",
       "2  size_condition * cat_condition  0.004111      1     70  0.004111   \n",
       "\n",
       "           F         p-unc     p-GG-corr        n2  eps  \n",
       "0  57.505461  1.068096e-10  1.068096e-10  0.020802  1.0  \n",
       "1   4.039500  4.830266e-02  4.830266e-02  0.001517  1.0  \n",
       "2   3.770766  5.618090e-02  5.618090e-02  0.001322  1.0  "
      ]
     },
     "metadata": {},
     "output_type": "display_data"
    },
    {
     "name": "stdout",
     "output_type": "stream",
     "text": [
      "  Acc\n"
     ]
    },
    {
     "data": {
      "text/html": [
       "<div>\n",
       "<style scoped>\n",
       "    .dataframe tbody tr th:only-of-type {\n",
       "        vertical-align: middle;\n",
       "    }\n",
       "\n",
       "    .dataframe tbody tr th {\n",
       "        vertical-align: top;\n",
       "    }\n",
       "\n",
       "    .dataframe thead th {\n",
       "        text-align: right;\n",
       "    }\n",
       "</style>\n",
       "<table border=\"1\" class=\"dataframe\">\n",
       "  <thead>\n",
       "    <tr style=\"text-align: right;\">\n",
       "      <th></th>\n",
       "      <th>Source</th>\n",
       "      <th>SS</th>\n",
       "      <th>ddof1</th>\n",
       "      <th>ddof2</th>\n",
       "      <th>MS</th>\n",
       "      <th>F</th>\n",
       "      <th>p-unc</th>\n",
       "      <th>p-GG-corr</th>\n",
       "      <th>n2</th>\n",
       "      <th>eps</th>\n",
       "    </tr>\n",
       "  </thead>\n",
       "  <tbody>\n",
       "    <tr>\n",
       "      <th>0</th>\n",
       "      <td>size_condition</td>\n",
       "      <td>0.117307</td>\n",
       "      <td>1</td>\n",
       "      <td>70</td>\n",
       "      <td>0.117307</td>\n",
       "      <td>51.706233</td>\n",
       "      <td>5.602530e-10</td>\n",
       "      <td>5.602530e-10</td>\n",
       "      <td>0.096762</td>\n",
       "      <td>1.0</td>\n",
       "    </tr>\n",
       "    <tr>\n",
       "      <th>1</th>\n",
       "      <td>cat_condition</td>\n",
       "      <td>0.000084</td>\n",
       "      <td>1</td>\n",
       "      <td>70</td>\n",
       "      <td>0.000084</td>\n",
       "      <td>0.077462</td>\n",
       "      <td>7.815874e-01</td>\n",
       "      <td>7.815874e-01</td>\n",
       "      <td>0.000069</td>\n",
       "      <td>1.0</td>\n",
       "    </tr>\n",
       "    <tr>\n",
       "      <th>2</th>\n",
       "      <td>size_condition * cat_condition</td>\n",
       "      <td>0.000755</td>\n",
       "      <td>1</td>\n",
       "      <td>70</td>\n",
       "      <td>0.000755</td>\n",
       "      <td>0.934147</td>\n",
       "      <td>3.371152e-01</td>\n",
       "      <td>3.371152e-01</td>\n",
       "      <td>0.000623</td>\n",
       "      <td>1.0</td>\n",
       "    </tr>\n",
       "  </tbody>\n",
       "</table>\n",
       "</div>"
      ],
      "text/plain": [
       "                           Source        SS  ddof1  ddof2        MS  \\\n",
       "0                  size_condition  0.117307      1     70  0.117307   \n",
       "1                   cat_condition  0.000084      1     70  0.000084   \n",
       "2  size_condition * cat_condition  0.000755      1     70  0.000755   \n",
       "\n",
       "           F         p-unc     p-GG-corr        n2  eps  \n",
       "0  51.706233  5.602530e-10  5.602530e-10  0.096762  1.0  \n",
       "1   0.077462  7.815874e-01  7.815874e-01  0.000069  1.0  \n",
       "2   0.934147  3.371152e-01  3.371152e-01  0.000623  1.0  "
      ]
     },
     "metadata": {},
     "output_type": "display_data"
    },
    {
     "name": "stdout",
     "output_type": "stream",
     "text": [
      "\n",
      "Blocked ANOVA\n",
      "  RT\n"
     ]
    },
    {
     "data": {
      "text/html": [
       "<div>\n",
       "<style scoped>\n",
       "    .dataframe tbody tr th:only-of-type {\n",
       "        vertical-align: middle;\n",
       "    }\n",
       "\n",
       "    .dataframe tbody tr th {\n",
       "        vertical-align: top;\n",
       "    }\n",
       "\n",
       "    .dataframe thead th {\n",
       "        text-align: right;\n",
       "    }\n",
       "</style>\n",
       "<table border=\"1\" class=\"dataframe\">\n",
       "  <thead>\n",
       "    <tr style=\"text-align: right;\">\n",
       "      <th></th>\n",
       "      <th>Source</th>\n",
       "      <th>SS</th>\n",
       "      <th>ddof1</th>\n",
       "      <th>ddof2</th>\n",
       "      <th>MS</th>\n",
       "      <th>F</th>\n",
       "      <th>p-unc</th>\n",
       "      <th>p-GG-corr</th>\n",
       "      <th>n2</th>\n",
       "      <th>eps</th>\n",
       "    </tr>\n",
       "  </thead>\n",
       "  <tbody>\n",
       "    <tr>\n",
       "      <th>0</th>\n",
       "      <td>size_condition</td>\n",
       "      <td>0.061523</td>\n",
       "      <td>1</td>\n",
       "      <td>70</td>\n",
       "      <td>0.061523</td>\n",
       "      <td>62.771794</td>\n",
       "      <td>2.533654e-11</td>\n",
       "      <td>2.533654e-11</td>\n",
       "      <td>0.014595</td>\n",
       "      <td>1.0</td>\n",
       "    </tr>\n",
       "    <tr>\n",
       "      <th>1</th>\n",
       "      <td>cat_condition</td>\n",
       "      <td>0.009789</td>\n",
       "      <td>1</td>\n",
       "      <td>70</td>\n",
       "      <td>0.009789</td>\n",
       "      <td>8.708691</td>\n",
       "      <td>4.305551e-03</td>\n",
       "      <td>4.305551e-03</td>\n",
       "      <td>0.002322</td>\n",
       "      <td>1.0</td>\n",
       "    </tr>\n",
       "    <tr>\n",
       "      <th>2</th>\n",
       "      <td>size_condition * cat_condition</td>\n",
       "      <td>0.012717</td>\n",
       "      <td>1</td>\n",
       "      <td>70</td>\n",
       "      <td>0.012717</td>\n",
       "      <td>13.140782</td>\n",
       "      <td>5.440365e-04</td>\n",
       "      <td>5.440365e-04</td>\n",
       "      <td>0.003017</td>\n",
       "      <td>1.0</td>\n",
       "    </tr>\n",
       "  </tbody>\n",
       "</table>\n",
       "</div>"
      ],
      "text/plain": [
       "                           Source        SS  ddof1  ddof2        MS  \\\n",
       "0                  size_condition  0.061523      1     70  0.061523   \n",
       "1                   cat_condition  0.009789      1     70  0.009789   \n",
       "2  size_condition * cat_condition  0.012717      1     70  0.012717   \n",
       "\n",
       "           F         p-unc     p-GG-corr        n2  eps  \n",
       "0  62.771794  2.533654e-11  2.533654e-11  0.014595  1.0  \n",
       "1   8.708691  4.305551e-03  4.305551e-03  0.002322  1.0  \n",
       "2  13.140782  5.440365e-04  5.440365e-04  0.003017  1.0  "
      ]
     },
     "metadata": {},
     "output_type": "display_data"
    },
    {
     "name": "stdout",
     "output_type": "stream",
     "text": [
      "  Acc\n"
     ]
    },
    {
     "data": {
      "text/html": [
       "<div>\n",
       "<style scoped>\n",
       "    .dataframe tbody tr th:only-of-type {\n",
       "        vertical-align: middle;\n",
       "    }\n",
       "\n",
       "    .dataframe tbody tr th {\n",
       "        vertical-align: top;\n",
       "    }\n",
       "\n",
       "    .dataframe thead th {\n",
       "        text-align: right;\n",
       "    }\n",
       "</style>\n",
       "<table border=\"1\" class=\"dataframe\">\n",
       "  <thead>\n",
       "    <tr style=\"text-align: right;\">\n",
       "      <th></th>\n",
       "      <th>Source</th>\n",
       "      <th>SS</th>\n",
       "      <th>ddof1</th>\n",
       "      <th>ddof2</th>\n",
       "      <th>MS</th>\n",
       "      <th>F</th>\n",
       "      <th>p-unc</th>\n",
       "      <th>p-GG-corr</th>\n",
       "      <th>n2</th>\n",
       "      <th>eps</th>\n",
       "    </tr>\n",
       "  </thead>\n",
       "  <tbody>\n",
       "    <tr>\n",
       "      <th>0</th>\n",
       "      <td>size_condition</td>\n",
       "      <td>0.063740</td>\n",
       "      <td>1</td>\n",
       "      <td>70</td>\n",
       "      <td>0.063740</td>\n",
       "      <td>36.362868</td>\n",
       "      <td>6.930197e-08</td>\n",
       "      <td>6.930197e-08</td>\n",
       "      <td>0.054180</td>\n",
       "      <td>1.0</td>\n",
       "    </tr>\n",
       "    <tr>\n",
       "      <th>1</th>\n",
       "      <td>cat_condition</td>\n",
       "      <td>0.004860</td>\n",
       "      <td>1</td>\n",
       "      <td>70</td>\n",
       "      <td>0.004860</td>\n",
       "      <td>5.529056</td>\n",
       "      <td>2.152324e-02</td>\n",
       "      <td>2.152324e-02</td>\n",
       "      <td>0.004131</td>\n",
       "      <td>1.0</td>\n",
       "    </tr>\n",
       "    <tr>\n",
       "      <th>2</th>\n",
       "      <td>size_condition * cat_condition</td>\n",
       "      <td>0.012439</td>\n",
       "      <td>1</td>\n",
       "      <td>70</td>\n",
       "      <td>0.012439</td>\n",
       "      <td>15.982581</td>\n",
       "      <td>1.562985e-04</td>\n",
       "      <td>1.562985e-04</td>\n",
       "      <td>0.010573</td>\n",
       "      <td>1.0</td>\n",
       "    </tr>\n",
       "  </tbody>\n",
       "</table>\n",
       "</div>"
      ],
      "text/plain": [
       "                           Source        SS  ddof1  ddof2        MS  \\\n",
       "0                  size_condition  0.063740      1     70  0.063740   \n",
       "1                   cat_condition  0.004860      1     70  0.004860   \n",
       "2  size_condition * cat_condition  0.012439      1     70  0.012439   \n",
       "\n",
       "           F         p-unc     p-GG-corr        n2  eps  \n",
       "0  36.362868  6.930197e-08  6.930197e-08  0.054180  1.0  \n",
       "1   5.529056  2.152324e-02  2.152324e-02  0.004131  1.0  \n",
       "2  15.982581  1.562985e-04  1.562985e-04  0.010573  1.0  "
      ]
     },
     "metadata": {},
     "output_type": "display_data"
    },
    {
     "name": "stdout",
     "output_type": "stream",
     "text": [
      "\n"
     ]
    }
   ],
   "source": [
    "behavioral_data = data.load_behavioral_data()\n",
    "behavioral_data['rt'] = np.log(behavioral_data.rt.values)\n",
    "\n",
    "acc_data = behavioral_data[behavioral_data.participant_type!='random']\n",
    "acc_data = acc_data.groupby(['block_type_agg','size_condition','cat_condition','participant'],as_index=False).mean()\n",
    "acc_data_interleaved = acc_data[acc_data.block_type_agg=='interleaved']\n",
    "acc_data_blocked = acc_data[acc_data.block_type_agg=='blocked']\n",
    "\n",
    "rt_data = behavioral_data[(behavioral_data.participant_type!='random')&(behavioral_data.correct==1)]\n",
    "rt_data = rt_data.groupby(['block_type_agg','size_condition','cat_condition','participant'],as_index=False).mean()\n",
    "rt_data_interleaved = rt_data[rt_data.block_type_agg=='interleaved']\n",
    "rt_data_blocked = rt_data[rt_data.block_type_agg=='blocked']\n",
    "\n",
    "print('Interleaved ANOVA')\n",
    "print('  RT')\n",
    "display(pg.rm_anova(data=rt_data_interleaved,dv='rt',\n",
    "                    within=['size_condition','cat_condition'],subject='participant',\n",
    "                    detailed=True,effsize='n2'))\n",
    "print('  Acc')\n",
    "display(pg.rm_anova(data=acc_data_interleaved,dv='correct',\n",
    "                    within=['size_condition','cat_condition'],subject='participant',\n",
    "                    detailed=True,effsize='n2'))\n",
    "print()\n",
    "print('Blocked ANOVA')\n",
    "print('  RT')\n",
    "display(pg.rm_anova(data=rt_data_blocked,dv='rt',\n",
    "                    within=['size_condition','cat_condition'],subject='participant',\n",
    "                    detailed=True,effsize='n2'))\n",
    "print('  Acc')\n",
    "display(pg.rm_anova(data=acc_data_blocked,dv='correct',\n",
    "                    within=['size_condition','cat_condition'],subject='participant',\n",
    "                    detailed=True,effsize='n2'))\n",
    "print()"
   ]
  },
  {
   "cell_type": "code",
   "execution_count": 33,
   "metadata": {},
   "outputs": [
    {
     "name": "stdout",
     "output_type": "stream",
     "text": [
      "Blocked Simple Effects\n",
      "  RT\n",
      "    Category Effect @ Size Match\n"
     ]
    },
    {
     "data": {
      "text/html": [
       "<div>\n",
       "<style scoped>\n",
       "    .dataframe tbody tr th:only-of-type {\n",
       "        vertical-align: middle;\n",
       "    }\n",
       "\n",
       "    .dataframe tbody tr th {\n",
       "        vertical-align: top;\n",
       "    }\n",
       "\n",
       "    .dataframe thead th {\n",
       "        text-align: right;\n",
       "    }\n",
       "</style>\n",
       "<table border=\"1\" class=\"dataframe\">\n",
       "  <thead>\n",
       "    <tr style=\"text-align: right;\">\n",
       "      <th></th>\n",
       "      <th>Source</th>\n",
       "      <th>SS</th>\n",
       "      <th>DF</th>\n",
       "      <th>MS</th>\n",
       "      <th>F</th>\n",
       "      <th>p-unc</th>\n",
       "      <th>n2</th>\n",
       "      <th>eps</th>\n",
       "    </tr>\n",
       "  </thead>\n",
       "  <tbody>\n",
       "    <tr>\n",
       "      <th>0</th>\n",
       "      <td>cat_condition</td>\n",
       "      <td>0.000096</td>\n",
       "      <td>1</td>\n",
       "      <td>0.000096</td>\n",
       "      <td>0.082968</td>\n",
       "      <td>0.774166</td>\n",
       "      <td>0.000046</td>\n",
       "      <td>1.0</td>\n",
       "    </tr>\n",
       "    <tr>\n",
       "      <th>1</th>\n",
       "      <td>Error</td>\n",
       "      <td>0.080707</td>\n",
       "      <td>70</td>\n",
       "      <td>0.001153</td>\n",
       "      <td>NaN</td>\n",
       "      <td>NaN</td>\n",
       "      <td>NaN</td>\n",
       "      <td>NaN</td>\n",
       "    </tr>\n",
       "  </tbody>\n",
       "</table>\n",
       "</div>"
      ],
      "text/plain": [
       "          Source        SS  DF        MS         F     p-unc        n2  eps\n",
       "0  cat_condition  0.000096   1  0.000096  0.082968  0.774166  0.000046  1.0\n",
       "1          Error  0.080707  70  0.001153       NaN       NaN       NaN  NaN"
      ]
     },
     "metadata": {},
     "output_type": "display_data"
    },
    {
     "name": "stdout",
     "output_type": "stream",
     "text": [
      "    Category Effect @ Size Mismatch\n"
     ]
    },
    {
     "data": {
      "text/html": [
       "<div>\n",
       "<style scoped>\n",
       "    .dataframe tbody tr th:only-of-type {\n",
       "        vertical-align: middle;\n",
       "    }\n",
       "\n",
       "    .dataframe tbody tr th {\n",
       "        vertical-align: top;\n",
       "    }\n",
       "\n",
       "    .dataframe thead th {\n",
       "        text-align: right;\n",
       "    }\n",
       "</style>\n",
       "<table border=\"1\" class=\"dataframe\">\n",
       "  <thead>\n",
       "    <tr style=\"text-align: right;\">\n",
       "      <th></th>\n",
       "      <th>Source</th>\n",
       "      <th>SS</th>\n",
       "      <th>DF</th>\n",
       "      <th>MS</th>\n",
       "      <th>F</th>\n",
       "      <th>p-unc</th>\n",
       "      <th>n2</th>\n",
       "      <th>eps</th>\n",
       "    </tr>\n",
       "  </thead>\n",
       "  <tbody>\n",
       "    <tr>\n",
       "      <th>0</th>\n",
       "      <td>cat_condition</td>\n",
       "      <td>0.022411</td>\n",
       "      <td>1</td>\n",
       "      <td>0.022411</td>\n",
       "      <td>23.869877</td>\n",
       "      <td>0.000006</td>\n",
       "      <td>0.010713</td>\n",
       "      <td>1.0</td>\n",
       "    </tr>\n",
       "    <tr>\n",
       "      <th>1</th>\n",
       "      <td>Error</td>\n",
       "      <td>0.065721</td>\n",
       "      <td>70</td>\n",
       "      <td>0.000939</td>\n",
       "      <td>NaN</td>\n",
       "      <td>NaN</td>\n",
       "      <td>NaN</td>\n",
       "      <td>NaN</td>\n",
       "    </tr>\n",
       "  </tbody>\n",
       "</table>\n",
       "</div>"
      ],
      "text/plain": [
       "          Source        SS  DF        MS          F     p-unc        n2  eps\n",
       "0  cat_condition  0.022411   1  0.022411  23.869877  0.000006  0.010713  1.0\n",
       "1          Error  0.065721  70  0.000939        NaN       NaN       NaN  NaN"
      ]
     },
     "metadata": {},
     "output_type": "display_data"
    },
    {
     "name": "stdout",
     "output_type": "stream",
     "text": [
      "  Acc\n",
      "    Category Effect @ Size Match\n"
     ]
    },
    {
     "data": {
      "text/html": [
       "<div>\n",
       "<style scoped>\n",
       "    .dataframe tbody tr th:only-of-type {\n",
       "        vertical-align: middle;\n",
       "    }\n",
       "\n",
       "    .dataframe tbody tr th {\n",
       "        vertical-align: top;\n",
       "    }\n",
       "\n",
       "    .dataframe thead th {\n",
       "        text-align: right;\n",
       "    }\n",
       "</style>\n",
       "<table border=\"1\" class=\"dataframe\">\n",
       "  <thead>\n",
       "    <tr style=\"text-align: right;\">\n",
       "      <th></th>\n",
       "      <th>Source</th>\n",
       "      <th>SS</th>\n",
       "      <th>DF</th>\n",
       "      <th>MS</th>\n",
       "      <th>F</th>\n",
       "      <th>p-unc</th>\n",
       "      <th>n2</th>\n",
       "      <th>eps</th>\n",
       "    </tr>\n",
       "  </thead>\n",
       "  <tbody>\n",
       "    <tr>\n",
       "      <th>0</th>\n",
       "      <td>cat_condition</td>\n",
       "      <td>0.000874</td>\n",
       "      <td>1</td>\n",
       "      <td>0.000874</td>\n",
       "      <td>1.229002</td>\n",
       "      <td>0.271396</td>\n",
       "      <td>0.001571</td>\n",
       "      <td>1.0</td>\n",
       "    </tr>\n",
       "    <tr>\n",
       "      <th>1</th>\n",
       "      <td>Error</td>\n",
       "      <td>0.049800</td>\n",
       "      <td>70</td>\n",
       "      <td>0.000711</td>\n",
       "      <td>NaN</td>\n",
       "      <td>NaN</td>\n",
       "      <td>NaN</td>\n",
       "      <td>NaN</td>\n",
       "    </tr>\n",
       "  </tbody>\n",
       "</table>\n",
       "</div>"
      ],
      "text/plain": [
       "          Source        SS  DF        MS         F     p-unc        n2  eps\n",
       "0  cat_condition  0.000874   1  0.000874  1.229002  0.271396  0.001571  1.0\n",
       "1          Error  0.049800  70  0.000711       NaN       NaN       NaN  NaN"
      ]
     },
     "metadata": {},
     "output_type": "display_data"
    },
    {
     "name": "stdout",
     "output_type": "stream",
     "text": [
      "    Category Effect @ Size Mismatch\n"
     ]
    },
    {
     "data": {
      "text/html": [
       "<div>\n",
       "<style scoped>\n",
       "    .dataframe tbody tr th:only-of-type {\n",
       "        vertical-align: middle;\n",
       "    }\n",
       "\n",
       "    .dataframe tbody tr th {\n",
       "        vertical-align: top;\n",
       "    }\n",
       "\n",
       "    .dataframe thead th {\n",
       "        text-align: right;\n",
       "    }\n",
       "</style>\n",
       "<table border=\"1\" class=\"dataframe\">\n",
       "  <thead>\n",
       "    <tr style=\"text-align: right;\">\n",
       "      <th></th>\n",
       "      <th>Source</th>\n",
       "      <th>SS</th>\n",
       "      <th>DF</th>\n",
       "      <th>MS</th>\n",
       "      <th>F</th>\n",
       "      <th>p-unc</th>\n",
       "      <th>n2</th>\n",
       "      <th>eps</th>\n",
       "    </tr>\n",
       "  </thead>\n",
       "  <tbody>\n",
       "    <tr>\n",
       "      <th>0</th>\n",
       "      <td>cat_condition</td>\n",
       "      <td>0.016424</td>\n",
       "      <td>1</td>\n",
       "      <td>0.016424</td>\n",
       "      <td>17.365769</td>\n",
       "      <td>0.000087</td>\n",
       "      <td>0.02953</td>\n",
       "      <td>1.0</td>\n",
       "    </tr>\n",
       "    <tr>\n",
       "      <th>1</th>\n",
       "      <td>Error</td>\n",
       "      <td>0.066204</td>\n",
       "      <td>70</td>\n",
       "      <td>0.000946</td>\n",
       "      <td>NaN</td>\n",
       "      <td>NaN</td>\n",
       "      <td>NaN</td>\n",
       "      <td>NaN</td>\n",
       "    </tr>\n",
       "  </tbody>\n",
       "</table>\n",
       "</div>"
      ],
      "text/plain": [
       "          Source        SS  DF        MS          F     p-unc       n2  eps\n",
       "0  cat_condition  0.016424   1  0.016424  17.365769  0.000087  0.02953  1.0\n",
       "1          Error  0.066204  70  0.000946        NaN       NaN      NaN  NaN"
      ]
     },
     "metadata": {},
     "output_type": "display_data"
    }
   ],
   "source": [
    "print('Blocked Simple Effects')\n",
    "print('  RT')\n",
    "print('    Category Effect @ Size Match')\n",
    "display(pg.rm_anova(data=rt_data_blocked[rt_data_blocked.size_condition=='s_ma'],dv='rt',\n",
    "                    within='cat_condition',subject='participant',detailed=True,effsize='n2'))\n",
    "print('    Category Effect @ Size Mismatch')\n",
    "display(pg.rm_anova(data=rt_data_blocked[rt_data_blocked.size_condition=='s_ms'],dv='rt',\n",
    "                    within='cat_condition',subject='participant',detailed=True,effsize='n2'))\n",
    "print('  Acc')\n",
    "print('    Category Effect @ Size Match')\n",
    "display(pg.rm_anova(data=acc_data_blocked[acc_data_blocked.size_condition=='s_ma'],dv='correct',\n",
    "                    within='cat_condition',subject='participant',detailed=True,effsize='n2'))\n",
    "print('    Category Effect @ Size Mismatch')\n",
    "display(pg.rm_anova(data=acc_data_blocked[acc_data_blocked.size_condition=='s_ms'],dv='correct',\n",
    "                    within='cat_condition',subject='participant',detailed=True,effsize='n2'))"
   ]
  },
  {
   "cell_type": "code",
   "execution_count": 34,
   "metadata": {},
   "outputs": [
    {
     "name": "stdout",
     "output_type": "stream",
     "text": [
      "Blocked vs Interleaved Interference Effect Size\n",
      "RT - means: Blocked=0.03, Interleaved=-0.00, t=3.25, p=0.002\n",
      "Acc - means: Blocked=-0.02, Interleaved=-0.00, t=-2.71, p=0.008\n"
     ]
    }
   ],
   "source": [
    "from scipy.stats import ttest_rel\n",
    "print('Blocked vs Interleaved Interference Effect Size')\n",
    "transformed_data = rt_data[rt_data.size_condition=='s_ms'] \\\n",
    "                        .groupby(['block_type_agg','participant','cat_condition'],as_index=False).mean() \\\n",
    "                        .pivot_table(index='participant',columns=['block_type_agg','cat_condition'],values='rt')\n",
    "blocked_effect_size = transformed_data['blocked','c_ma']-transformed_data['blocked','c_ms']\n",
    "interleaved_effect_size = transformed_data['interleaved','c_ma']-transformed_data['interleaved','c_ms']\n",
    "ttest_result = ttest_rel(blocked_effect_size.values,interleaved_effect_size.values)\n",
    "print(f'RT - means: Blocked={blocked_effect_size.mean():.2f}, Interleaved={interleaved_effect_size.mean():.2f}, t={ttest_result.statistic:.2f}, p={ttest_result.pvalue:.3f}')\n",
    "\n",
    "transformed_data = acc_data[acc_data.size_condition=='s_ms'] \\\n",
    "                        .groupby(['block_type_agg','participant','cat_condition'],as_index=False).mean() \\\n",
    "                        .pivot_table(index='participant',columns=['block_type_agg','cat_condition'],values='correct')\n",
    "blocked_effect_size = transformed_data['blocked','c_ma']-transformed_data['blocked','c_ms']\n",
    "interleaved_effect_size = transformed_data['interleaved','c_ma']-transformed_data['interleaved','c_ms']\n",
    "ttest_result = ttest_rel(blocked_effect_size.values,interleaved_effect_size.values)\n",
    "print(f'Acc - means: Blocked={blocked_effect_size.mean():.2f}, Interleaved={interleaved_effect_size.mean():.2f}, t={ttest_result.statistic:.2f}, p={ttest_result.pvalue:.3f}')"
   ]
  },
  {
   "attachments": {},
   "cell_type": "markdown",
   "metadata": {},
   "source": [
    "### Plots"
   ]
  },
  {
   "cell_type": "code",
   "execution_count": 35,
   "metadata": {},
   "outputs": [
    {
     "data": {
      "application/vnd.plotly.v1+json": {
       "config": {
        "plotlyServerURL": "https://plot.ly"
       },
       "data": [
        {
         "alignmentgroup": "True",
         "error_y": {
          "array": [
           0.013942367270345915,
           0.012648240836186373
          ]
         },
         "hovertemplate": "cat_condition=Category Match<br>size_condition=%{x}<br>rt_normalized=%{y}<extra></extra>",
         "legendgroup": "Category Match",
         "marker": {
          "color": "#636efa",
          "pattern": {
           "shape": ""
          }
         },
         "name": "Category Match",
         "offsetgroup": "Category Match",
         "orientation": "v",
         "showlegend": true,
         "textposition": "auto",
         "type": "bar",
         "x": [
          "Size Match",
          "Size Mismatch"
         ],
         "xaxis": "x3",
         "y": [
          -0.03003554815108803,
          0.022329882633066903
         ],
         "yaxis": "y3"
        },
        {
         "alignmentgroup": "True",
         "error_y": {
          "array": [
           0.011670413738867055,
           0.011874735960988859
          ]
         },
         "hovertemplate": "cat_condition=Category Mismatch<br>size_condition=%{x}<br>rt_normalized=%{y}<extra></extra>",
         "legendgroup": "Category Mismatch",
         "marker": {
          "color": "#EF553B",
          "pattern": {
           "shape": ""
          }
         },
         "name": "Category Mismatch",
         "offsetgroup": "Category Mismatch",
         "orientation": "v",
         "showlegend": true,
         "textposition": "auto",
         "type": "bar",
         "x": [
          "Size Match",
          "Size Mismatch"
         ],
         "xaxis": "x3",
         "y": [
          -0.022989852282369733,
          0.030695517800390842
         ],
         "yaxis": "y3"
        },
        {
         "alignmentgroup": "True",
         "error_y": {
          "array": [
           0.008119461325341765,
           0.008475135996745011
          ]
         },
         "hovertemplate": "cat_condition=Category Match<br>size_condition=%{x}<br>rt_normalized=%{y}<extra></extra>",
         "legendgroup": "Category Match",
         "marker": {
          "color": "#636efa",
          "pattern": {
           "shape": ""
          }
         },
         "name": "Category Match",
         "offsetgroup": "Category Match",
         "orientation": "v",
         "showlegend": false,
         "textposition": "auto",
         "type": "bar",
         "x": [
          "Size Match",
          "Size Mismatch"
         ],
         "xaxis": "x4",
         "y": [
          -0.022971399677396444,
          0.01481994691850232
         ],
         "yaxis": "y4"
        },
        {
         "alignmentgroup": "True",
         "error_y": {
          "array": [
           0.007561045392226149,
           0.007600966733514087
          ]
         },
         "hovertemplate": "cat_condition=Category Mismatch<br>size_condition=%{x}<br>rt_normalized=%{y}<extra></extra>",
         "legendgroup": "Category Mismatch",
         "marker": {
          "color": "#EF553B",
          "pattern": {
           "shape": ""
          }
         },
         "name": "Category Mismatch",
         "offsetgroup": "Category Mismatch",
         "orientation": "v",
         "showlegend": false,
         "textposition": "auto",
         "type": "bar",
         "x": [
          "Size Match",
          "Size Mismatch"
         ],
         "xaxis": "x4",
         "y": [
          -0.007210706551689073,
          0.015362159310583209
         ],
         "yaxis": "y4"
        },
        {
         "alignmentgroup": "True",
         "error_y": {
          "array": [
           0.013755094276180558,
           0.010779575073508693
          ]
         },
         "hovertemplate": "cat_condition=Category Match<br>size_condition=%{x}<br>rt_normalized=%{y}<extra></extra>",
         "legendgroup": "Category Match",
         "marker": {
          "color": "#636efa",
          "pattern": {
           "shape": ""
          }
         },
         "name": "Category Match",
         "offsetgroup": "Category Match",
         "orientation": "v",
         "showlegend": false,
         "textposition": "auto",
         "type": "bar",
         "x": [
          "Size Match",
          "Size Mismatch"
         ],
         "xaxis": "x",
         "y": [
          -0.018070721894765846,
          0.029366777463156694
         ],
         "yaxis": "y"
        },
        {
         "alignmentgroup": "True",
         "error_y": {
          "array": [
           0.01136764562161453,
           0.011900034884292634
          ]
         },
         "hovertemplate": "cat_condition=Category Mismatch<br>size_condition=%{x}<br>rt_normalized=%{y}<extra></extra>",
         "legendgroup": "Category Mismatch",
         "marker": {
          "color": "#EF553B",
          "pattern": {
           "shape": ""
          }
         },
         "name": "Category Mismatch",
         "offsetgroup": "Category Mismatch",
         "orientation": "v",
         "showlegend": false,
         "textposition": "auto",
         "type": "bar",
         "x": [
          "Size Match",
          "Size Mismatch"
         ],
         "xaxis": "x",
         "y": [
          -0.013806813352815138,
          0.002510757784424307
         ],
         "yaxis": "y"
        },
        {
         "alignmentgroup": "True",
         "error_y": {
          "array": [
           0.007672151596841579,
           0.007541316611595851
          ]
         },
         "hovertemplate": "cat_condition=Category Match<br>size_condition=%{x}<br>rt_normalized=%{y}<extra></extra>",
         "legendgroup": "Category Match",
         "marker": {
          "color": "#636efa",
          "pattern": {
           "shape": ""
          }
         },
         "name": "Category Match",
         "offsetgroup": "Category Match",
         "orientation": "v",
         "showlegend": false,
         "textposition": "auto",
         "type": "bar",
         "x": [
          "Size Match",
          "Size Mismatch"
         ],
         "xaxis": "x2",
         "y": [
          -0.015539131631036538,
          0.027281098444713898
         ],
         "yaxis": "y2"
        },
        {
         "alignmentgroup": "True",
         "error_y": {
          "array": [
           0.007991958515413481,
           0.007061823040782233
          ]
         },
         "hovertemplate": "cat_condition=Category Mismatch<br>size_condition=%{x}<br>rt_normalized=%{y}<extra></extra>",
         "legendgroup": "Category Mismatch",
         "marker": {
          "color": "#EF553B",
          "pattern": {
           "shape": ""
          }
         },
         "name": "Category Mismatch",
         "offsetgroup": "Category Mismatch",
         "orientation": "v",
         "showlegend": false,
         "textposition": "auto",
         "type": "bar",
         "x": [
          "Size Match",
          "Size Mismatch"
         ],
         "xaxis": "x2",
         "y": [
          -0.013897603118787386,
          0.002155636305110127
         ],
         "yaxis": "y2"
        }
       ],
       "layout": {
        "annotations": [
         {
          "font": {
           "size": 16
          },
          "showarrow": false,
          "text": "Model Performance",
          "x": 0.22,
          "xanchor": "center",
          "xref": "paper",
          "y": 1,
          "yanchor": "bottom",
          "yref": "paper"
         },
         {
          "font": {
           "size": 16
          },
          "showarrow": false,
          "text": "Human Performance",
          "x": 0.76,
          "xanchor": "center",
          "xref": "paper",
          "y": 1,
          "yanchor": "bottom",
          "yref": "paper"
         },
         {
          "font": {
           "size": 16
          },
          "showarrow": false,
          "text": "Categorically Blocked Condition",
          "textangle": -90,
          "x": -0.07,
          "xanchor": "left",
          "xref": "paper",
          "y": 0.7875,
          "yanchor": "middle",
          "yref": "paper"
         },
         {
          "font": {
           "size": 16
          },
          "showarrow": false,
          "text": "Interleaved Condition",
          "textangle": -90,
          "x": -0.07,
          "xanchor": "left",
          "xref": "paper",
          "y": 0.2125,
          "yanchor": "middle",
          "yref": "paper"
         }
        ],
        "height": 800,
        "legend": {
         "font": {
          "size": 16
         },
         "x": 0.01,
         "xanchor": "left",
         "y": 0.99,
         "yanchor": "top"
        },
        "plot_bgcolor": "white",
        "template": {
         "data": {
          "bar": [
           {
            "error_x": {
             "color": "#2a3f5f"
            },
            "error_y": {
             "color": "#2a3f5f"
            },
            "marker": {
             "line": {
              "color": "#E5ECF6",
              "width": 0.5
             },
             "pattern": {
              "fillmode": "overlay",
              "size": 10,
              "solidity": 0.2
             }
            },
            "type": "bar"
           }
          ],
          "barpolar": [
           {
            "marker": {
             "line": {
              "color": "#E5ECF6",
              "width": 0.5
             },
             "pattern": {
              "fillmode": "overlay",
              "size": 10,
              "solidity": 0.2
             }
            },
            "type": "barpolar"
           }
          ],
          "carpet": [
           {
            "aaxis": {
             "endlinecolor": "#2a3f5f",
             "gridcolor": "white",
             "linecolor": "white",
             "minorgridcolor": "white",
             "startlinecolor": "#2a3f5f"
            },
            "baxis": {
             "endlinecolor": "#2a3f5f",
             "gridcolor": "white",
             "linecolor": "white",
             "minorgridcolor": "white",
             "startlinecolor": "#2a3f5f"
            },
            "type": "carpet"
           }
          ],
          "choropleth": [
           {
            "colorbar": {
             "outlinewidth": 0,
             "ticks": ""
            },
            "type": "choropleth"
           }
          ],
          "contour": [
           {
            "colorbar": {
             "outlinewidth": 0,
             "ticks": ""
            },
            "colorscale": [
             [
              0,
              "#0d0887"
             ],
             [
              0.1111111111111111,
              "#46039f"
             ],
             [
              0.2222222222222222,
              "#7201a8"
             ],
             [
              0.3333333333333333,
              "#9c179e"
             ],
             [
              0.4444444444444444,
              "#bd3786"
             ],
             [
              0.5555555555555556,
              "#d8576b"
             ],
             [
              0.6666666666666666,
              "#ed7953"
             ],
             [
              0.7777777777777778,
              "#fb9f3a"
             ],
             [
              0.8888888888888888,
              "#fdca26"
             ],
             [
              1,
              "#f0f921"
             ]
            ],
            "type": "contour"
           }
          ],
          "contourcarpet": [
           {
            "colorbar": {
             "outlinewidth": 0,
             "ticks": ""
            },
            "type": "contourcarpet"
           }
          ],
          "heatmap": [
           {
            "colorbar": {
             "outlinewidth": 0,
             "ticks": ""
            },
            "colorscale": [
             [
              0,
              "#0d0887"
             ],
             [
              0.1111111111111111,
              "#46039f"
             ],
             [
              0.2222222222222222,
              "#7201a8"
             ],
             [
              0.3333333333333333,
              "#9c179e"
             ],
             [
              0.4444444444444444,
              "#bd3786"
             ],
             [
              0.5555555555555556,
              "#d8576b"
             ],
             [
              0.6666666666666666,
              "#ed7953"
             ],
             [
              0.7777777777777778,
              "#fb9f3a"
             ],
             [
              0.8888888888888888,
              "#fdca26"
             ],
             [
              1,
              "#f0f921"
             ]
            ],
            "type": "heatmap"
           }
          ],
          "heatmapgl": [
           {
            "colorbar": {
             "outlinewidth": 0,
             "ticks": ""
            },
            "colorscale": [
             [
              0,
              "#0d0887"
             ],
             [
              0.1111111111111111,
              "#46039f"
             ],
             [
              0.2222222222222222,
              "#7201a8"
             ],
             [
              0.3333333333333333,
              "#9c179e"
             ],
             [
              0.4444444444444444,
              "#bd3786"
             ],
             [
              0.5555555555555556,
              "#d8576b"
             ],
             [
              0.6666666666666666,
              "#ed7953"
             ],
             [
              0.7777777777777778,
              "#fb9f3a"
             ],
             [
              0.8888888888888888,
              "#fdca26"
             ],
             [
              1,
              "#f0f921"
             ]
            ],
            "type": "heatmapgl"
           }
          ],
          "histogram": [
           {
            "marker": {
             "pattern": {
              "fillmode": "overlay",
              "size": 10,
              "solidity": 0.2
             }
            },
            "type": "histogram"
           }
          ],
          "histogram2d": [
           {
            "colorbar": {
             "outlinewidth": 0,
             "ticks": ""
            },
            "colorscale": [
             [
              0,
              "#0d0887"
             ],
             [
              0.1111111111111111,
              "#46039f"
             ],
             [
              0.2222222222222222,
              "#7201a8"
             ],
             [
              0.3333333333333333,
              "#9c179e"
             ],
             [
              0.4444444444444444,
              "#bd3786"
             ],
             [
              0.5555555555555556,
              "#d8576b"
             ],
             [
              0.6666666666666666,
              "#ed7953"
             ],
             [
              0.7777777777777778,
              "#fb9f3a"
             ],
             [
              0.8888888888888888,
              "#fdca26"
             ],
             [
              1,
              "#f0f921"
             ]
            ],
            "type": "histogram2d"
           }
          ],
          "histogram2dcontour": [
           {
            "colorbar": {
             "outlinewidth": 0,
             "ticks": ""
            },
            "colorscale": [
             [
              0,
              "#0d0887"
             ],
             [
              0.1111111111111111,
              "#46039f"
             ],
             [
              0.2222222222222222,
              "#7201a8"
             ],
             [
              0.3333333333333333,
              "#9c179e"
             ],
             [
              0.4444444444444444,
              "#bd3786"
             ],
             [
              0.5555555555555556,
              "#d8576b"
             ],
             [
              0.6666666666666666,
              "#ed7953"
             ],
             [
              0.7777777777777778,
              "#fb9f3a"
             ],
             [
              0.8888888888888888,
              "#fdca26"
             ],
             [
              1,
              "#f0f921"
             ]
            ],
            "type": "histogram2dcontour"
           }
          ],
          "mesh3d": [
           {
            "colorbar": {
             "outlinewidth": 0,
             "ticks": ""
            },
            "type": "mesh3d"
           }
          ],
          "parcoords": [
           {
            "line": {
             "colorbar": {
              "outlinewidth": 0,
              "ticks": ""
             }
            },
            "type": "parcoords"
           }
          ],
          "pie": [
           {
            "automargin": true,
            "type": "pie"
           }
          ],
          "scatter": [
           {
            "fillpattern": {
             "fillmode": "overlay",
             "size": 10,
             "solidity": 0.2
            },
            "type": "scatter"
           }
          ],
          "scatter3d": [
           {
            "line": {
             "colorbar": {
              "outlinewidth": 0,
              "ticks": ""
             }
            },
            "marker": {
             "colorbar": {
              "outlinewidth": 0,
              "ticks": ""
             }
            },
            "type": "scatter3d"
           }
          ],
          "scattercarpet": [
           {
            "marker": {
             "colorbar": {
              "outlinewidth": 0,
              "ticks": ""
             }
            },
            "type": "scattercarpet"
           }
          ],
          "scattergeo": [
           {
            "marker": {
             "colorbar": {
              "outlinewidth": 0,
              "ticks": ""
             }
            },
            "type": "scattergeo"
           }
          ],
          "scattergl": [
           {
            "marker": {
             "colorbar": {
              "outlinewidth": 0,
              "ticks": ""
             }
            },
            "type": "scattergl"
           }
          ],
          "scattermapbox": [
           {
            "marker": {
             "colorbar": {
              "outlinewidth": 0,
              "ticks": ""
             }
            },
            "type": "scattermapbox"
           }
          ],
          "scatterpolar": [
           {
            "marker": {
             "colorbar": {
              "outlinewidth": 0,
              "ticks": ""
             }
            },
            "type": "scatterpolar"
           }
          ],
          "scatterpolargl": [
           {
            "marker": {
             "colorbar": {
              "outlinewidth": 0,
              "ticks": ""
             }
            },
            "type": "scatterpolargl"
           }
          ],
          "scatterternary": [
           {
            "marker": {
             "colorbar": {
              "outlinewidth": 0,
              "ticks": ""
             }
            },
            "type": "scatterternary"
           }
          ],
          "surface": [
           {
            "colorbar": {
             "outlinewidth": 0,
             "ticks": ""
            },
            "colorscale": [
             [
              0,
              "#0d0887"
             ],
             [
              0.1111111111111111,
              "#46039f"
             ],
             [
              0.2222222222222222,
              "#7201a8"
             ],
             [
              0.3333333333333333,
              "#9c179e"
             ],
             [
              0.4444444444444444,
              "#bd3786"
             ],
             [
              0.5555555555555556,
              "#d8576b"
             ],
             [
              0.6666666666666666,
              "#ed7953"
             ],
             [
              0.7777777777777778,
              "#fb9f3a"
             ],
             [
              0.8888888888888888,
              "#fdca26"
             ],
             [
              1,
              "#f0f921"
             ]
            ],
            "type": "surface"
           }
          ],
          "table": [
           {
            "cells": {
             "fill": {
              "color": "#EBF0F8"
             },
             "line": {
              "color": "white"
             }
            },
            "header": {
             "fill": {
              "color": "#C8D4E3"
             },
             "line": {
              "color": "white"
             }
            },
            "type": "table"
           }
          ]
         },
         "layout": {
          "annotationdefaults": {
           "arrowcolor": "#2a3f5f",
           "arrowhead": 0,
           "arrowwidth": 1
          },
          "autotypenumbers": "strict",
          "coloraxis": {
           "colorbar": {
            "outlinewidth": 0,
            "ticks": ""
           }
          },
          "colorscale": {
           "diverging": [
            [
             0,
             "#8e0152"
            ],
            [
             0.1,
             "#c51b7d"
            ],
            [
             0.2,
             "#de77ae"
            ],
            [
             0.3,
             "#f1b6da"
            ],
            [
             0.4,
             "#fde0ef"
            ],
            [
             0.5,
             "#f7f7f7"
            ],
            [
             0.6,
             "#e6f5d0"
            ],
            [
             0.7,
             "#b8e186"
            ],
            [
             0.8,
             "#7fbc41"
            ],
            [
             0.9,
             "#4d9221"
            ],
            [
             1,
             "#276419"
            ]
           ],
           "sequential": [
            [
             0,
             "#0d0887"
            ],
            [
             0.1111111111111111,
             "#46039f"
            ],
            [
             0.2222222222222222,
             "#7201a8"
            ],
            [
             0.3333333333333333,
             "#9c179e"
            ],
            [
             0.4444444444444444,
             "#bd3786"
            ],
            [
             0.5555555555555556,
             "#d8576b"
            ],
            [
             0.6666666666666666,
             "#ed7953"
            ],
            [
             0.7777777777777778,
             "#fb9f3a"
            ],
            [
             0.8888888888888888,
             "#fdca26"
            ],
            [
             1,
             "#f0f921"
            ]
           ],
           "sequentialminus": [
            [
             0,
             "#0d0887"
            ],
            [
             0.1111111111111111,
             "#46039f"
            ],
            [
             0.2222222222222222,
             "#7201a8"
            ],
            [
             0.3333333333333333,
             "#9c179e"
            ],
            [
             0.4444444444444444,
             "#bd3786"
            ],
            [
             0.5555555555555556,
             "#d8576b"
            ],
            [
             0.6666666666666666,
             "#ed7953"
            ],
            [
             0.7777777777777778,
             "#fb9f3a"
            ],
            [
             0.8888888888888888,
             "#fdca26"
            ],
            [
             1,
             "#f0f921"
            ]
           ]
          },
          "colorway": [
           "#636efa",
           "#EF553B",
           "#00cc96",
           "#ab63fa",
           "#FFA15A",
           "#19d3f3",
           "#FF6692",
           "#B6E880",
           "#FF97FF",
           "#FECB52"
          ],
          "font": {
           "color": "#2a3f5f"
          },
          "geo": {
           "bgcolor": "white",
           "lakecolor": "white",
           "landcolor": "#E5ECF6",
           "showlakes": true,
           "showland": true,
           "subunitcolor": "white"
          },
          "hoverlabel": {
           "align": "left"
          },
          "hovermode": "closest",
          "mapbox": {
           "style": "light"
          },
          "paper_bgcolor": "white",
          "plot_bgcolor": "#E5ECF6",
          "polar": {
           "angularaxis": {
            "gridcolor": "white",
            "linecolor": "white",
            "ticks": ""
           },
           "bgcolor": "#E5ECF6",
           "radialaxis": {
            "gridcolor": "white",
            "linecolor": "white",
            "ticks": ""
           }
          },
          "scene": {
           "xaxis": {
            "backgroundcolor": "#E5ECF6",
            "gridcolor": "white",
            "gridwidth": 2,
            "linecolor": "white",
            "showbackground": true,
            "ticks": "",
            "zerolinecolor": "white"
           },
           "yaxis": {
            "backgroundcolor": "#E5ECF6",
            "gridcolor": "white",
            "gridwidth": 2,
            "linecolor": "white",
            "showbackground": true,
            "ticks": "",
            "zerolinecolor": "white"
           },
           "zaxis": {
            "backgroundcolor": "#E5ECF6",
            "gridcolor": "white",
            "gridwidth": 2,
            "linecolor": "white",
            "showbackground": true,
            "ticks": "",
            "zerolinecolor": "white"
           }
          },
          "shapedefaults": {
           "line": {
            "color": "#2a3f5f"
           }
          },
          "ternary": {
           "aaxis": {
            "gridcolor": "white",
            "linecolor": "white",
            "ticks": ""
           },
           "baxis": {
            "gridcolor": "white",
            "linecolor": "white",
            "ticks": ""
           },
           "bgcolor": "#E5ECF6",
           "caxis": {
            "gridcolor": "white",
            "linecolor": "white",
            "ticks": ""
           }
          },
          "title": {
           "x": 0.05
          },
          "xaxis": {
           "automargin": true,
           "gridcolor": "white",
           "linecolor": "white",
           "ticks": "",
           "title": {
            "standoff": 15
           },
           "zerolinecolor": "white",
           "zerolinewidth": 2
          },
          "yaxis": {
           "automargin": true,
           "gridcolor": "white",
           "linecolor": "white",
           "ticks": "",
           "title": {
            "standoff": 15
           },
           "zerolinecolor": "white",
           "zerolinewidth": 2
          }
         }
        },
        "title": {
         "font": {
          "size": 20
         },
         "text": "Log Reaction Time (log ms, Relative to Mean) by Condition",
         "x": 0.5
        },
        "width": 1200,
        "xaxis": {
         "anchor": "y",
         "domain": [
          0,
          0.44
         ],
         "linecolor": "black",
         "linewidth": 1.5,
         "mirror": true,
         "showgrid": false,
         "showline": true,
         "tickfont": {
          "size": 16
         },
         "ticks": "outside",
         "title": {
          "font": {
           "size": 20
          }
         }
        },
        "xaxis2": {
         "anchor": "y2",
         "domain": [
          0.54,
          0.98
         ],
         "linecolor": "black",
         "linewidth": 1.5,
         "mirror": true,
         "showgrid": false,
         "showline": true,
         "tickfont": {
          "size": 16
         },
         "ticks": "outside",
         "title": {
          "font": {
           "size": 20
          }
         }
        },
        "xaxis3": {
         "anchor": "y3",
         "domain": [
          0,
          0.44
         ],
         "linecolor": "black",
         "linewidth": 1.5,
         "mirror": true,
         "showgrid": false,
         "showline": true,
         "tickfont": {
          "size": 16
         },
         "ticks": "outside",
         "title": {
          "font": {
           "size": 20
          }
         }
        },
        "xaxis4": {
         "anchor": "y4",
         "domain": [
          0.54,
          0.98
         ],
         "linecolor": "black",
         "linewidth": 1.5,
         "mirror": true,
         "showgrid": false,
         "showline": true,
         "tickfont": {
          "size": 16
         },
         "ticks": "outside",
         "title": {
          "font": {
           "size": 20
          }
         }
        },
        "yaxis": {
         "anchor": "x",
         "domain": [
          0.575,
          1
         ],
         "linecolor": "black",
         "linewidth": 1.5,
         "mirror": true,
         "showgrid": false,
         "showline": true,
         "side": "left",
         "ticks": "outside",
         "title": {
          "font": {
           "size": 20
          }
         },
         "zeroline": true,
         "zerolinecolor": "black",
         "zerolinewidth": 1
        },
        "yaxis2": {
         "anchor": "x2",
         "domain": [
          0.575,
          1
         ],
         "linecolor": "black",
         "linewidth": 1.5,
         "mirror": true,
         "showgrid": false,
         "showline": true,
         "ticks": "outside",
         "title": {
          "font": {
           "size": 20
          }
         },
         "zeroline": true,
         "zerolinecolor": "black",
         "zerolinewidth": 1
        },
        "yaxis3": {
         "anchor": "x3",
         "domain": [
          0,
          0.425
         ],
         "linecolor": "black",
         "linewidth": 1.5,
         "mirror": true,
         "showgrid": false,
         "showline": true,
         "ticks": "outside",
         "title": {
          "font": {
           "size": 20
          }
         },
         "zeroline": true,
         "zerolinecolor": "black",
         "zerolinewidth": 1
        },
        "yaxis4": {
         "anchor": "x4",
         "domain": [
          0,
          0.425
         ],
         "linecolor": "black",
         "linewidth": 1.5,
         "mirror": true,
         "showgrid": false,
         "showline": true,
         "ticks": "outside",
         "title": {
          "font": {
           "size": 20
          }
         },
         "zeroline": true,
         "zerolinecolor": "black",
         "zerolinewidth": 1
        }
       }
      }
     },
     "metadata": {},
     "output_type": "display_data"
    },
    {
     "data": {
      "application/vnd.plotly.v1+json": {
       "config": {
        "plotlyServerURL": "https://plot.ly"
       },
       "data": [
        {
         "alignmentgroup": "True",
         "error_y": {
          "array": [
           0.00851395264151001,
           0.00866952710127311
          ]
         },
         "hovertemplate": "cat_condition=Category Match<br>size_condition=%{x}<br>error_normalized=%{y}<extra></extra>",
         "legendgroup": "Category Match",
         "marker": {
          "color": "#636efa",
          "pattern": {
           "shape": ""
          }
         },
         "name": "Category Match",
         "offsetgroup": "Category Match",
         "orientation": "v",
         "showlegend": true,
         "textposition": "auto",
         "type": "bar",
         "x": [
          "Size Match",
          "Size Mismatch"
         ],
         "xaxis": "x4",
         "y": [
          -0.022496297314250596,
          0.021411345200882895
         ],
         "yaxis": "y4"
        },
        {
         "alignmentgroup": "True",
         "error_y": {
          "array": [
           0.008903202212305521,
           0.009138032892825481
          ]
         },
         "hovertemplate": "cat_condition=Category Mismatch<br>size_condition=%{x}<br>error_normalized=%{y}<extra></extra>",
         "legendgroup": "Category Mismatch",
         "marker": {
          "color": "#EF553B",
          "pattern": {
           "shape": ""
          }
         },
         "name": "Category Mismatch",
         "offsetgroup": "Category Mismatch",
         "orientation": "v",
         "showlegend": true,
         "textposition": "auto",
         "type": "bar",
         "x": [
          "Size Match",
          "Size Mismatch"
         ],
         "xaxis": "x4",
         "y": [
          -0.018151062514001594,
          0.019236014627369298
         ],
         "yaxis": "y4"
        },
        {
         "alignmentgroup": "True",
         "error_y": {
          "array": [
           0.011882488137560333,
           0.01245619010456706
          ]
         },
         "hovertemplate": "cat_condition=Category Match<br>size_condition=%{x}<br>error_normalized=%{y}<extra></extra>",
         "legendgroup": "Category Match",
         "marker": {
          "color": "#636efa",
          "pattern": {
           "shape": ""
          }
         },
         "name": "Category Match",
         "offsetgroup": "Category Match",
         "orientation": "v",
         "showlegend": false,
         "textposition": "auto",
         "type": "bar",
         "x": [
          "Size Match",
          "Size Mismatch"
         ],
         "xaxis": "x3",
         "y": [
          -0.09065140845070421,
          0.08984154929577465
         ],
         "yaxis": "y3"
        },
        {
         "alignmentgroup": "True",
         "error_y": {
          "array": [
           0.011026245192404527,
           0.011070475222277215
          ]
         },
         "hovertemplate": "cat_condition=Category Mismatch<br>size_condition=%{x}<br>error_normalized=%{y}<extra></extra>",
         "legendgroup": "Category Mismatch",
         "marker": {
          "color": "#EF553B",
          "pattern": {
           "shape": ""
          }
         },
         "name": "Category Mismatch",
         "offsetgroup": "Category Mismatch",
         "orientation": "v",
         "showlegend": false,
         "textposition": "auto",
         "type": "bar",
         "x": [
          "Size Match",
          "Size Mismatch"
         ],
         "xaxis": "x3",
         "y": [
          -0.08184859154929576,
          0.08265845070422535
         ],
         "yaxis": "y3"
        },
        {
         "alignmentgroup": "True",
         "error_y": {
          "array": [
           0.007431316252334231,
           0.00788298559561678
          ]
         },
         "hovertemplate": "cat_condition=Category Match<br>size_condition=%{x}<br>error_normalized=%{y}<extra></extra>",
         "legendgroup": "Category Match",
         "marker": {
          "color": "#636efa",
          "pattern": {
           "shape": ""
          }
         },
         "name": "Category Match",
         "offsetgroup": "Category Match",
         "orientation": "v",
         "showlegend": false,
         "textposition": "auto",
         "type": "bar",
         "x": [
          "Size Match",
          "Size Mismatch"
         ],
         "xaxis": "x2",
         "y": [
          -0.017462574982871387,
          0.025735810045634126
         ],
         "yaxis": "y2"
        },
        {
         "alignmentgroup": "True",
         "error_y": {
          "array": [
           0.007961759272466645,
           0.008601035994726152
          ]
         },
         "hovertemplate": "cat_condition=Category Mismatch<br>size_condition=%{x}<br>error_normalized=%{y}<extra></extra>",
         "legendgroup": "Category Mismatch",
         "marker": {
          "color": "#EF553B",
          "pattern": {
           "shape": ""
          }
         },
         "name": "Category Mismatch",
         "offsetgroup": "Category Mismatch",
         "orientation": "v",
         "showlegend": false,
         "textposition": "auto",
         "type": "bar",
         "x": [
          "Size Match",
          "Size Mismatch"
         ],
         "xaxis": "x2",
         "y": [
          -0.01249974993059106,
          0.004226514867828325
         ],
         "yaxis": "y2"
        },
        {
         "alignmentgroup": "True",
         "error_y": {
          "array": [
           0.01201014365808377,
           0.01059894056003263
          ]
         },
         "hovertemplate": "cat_condition=Category Match<br>size_condition=%{x}<br>error_normalized=%{y}<extra></extra>",
         "legendgroup": "Category Match",
         "marker": {
          "color": "#636efa",
          "pattern": {
           "shape": ""
          }
         },
         "name": "Category Match",
         "offsetgroup": "Category Match",
         "orientation": "v",
         "showlegend": false,
         "textposition": "auto",
         "type": "bar",
         "x": [
          "Size Match",
          "Size Mismatch"
         ],
         "xaxis": "x",
         "y": [
          -0.05716549295774648,
          0.10994718309859156
         ],
         "yaxis": "y"
        },
        {
         "alignmentgroup": "True",
         "error_y": {
          "array": [
           0.012283522513846006,
           0.009878969801428885
          ]
         },
         "hovertemplate": "cat_condition=Category Mismatch<br>size_condition=%{x}<br>error_normalized=%{y}<extra></extra>",
         "legendgroup": "Category Mismatch",
         "marker": {
          "color": "#EF553B",
          "pattern": {
           "shape": ""
          }
         },
         "name": "Category Mismatch",
         "offsetgroup": "Category Mismatch",
         "orientation": "v",
         "showlegend": false,
         "textposition": "auto",
         "type": "bar",
         "x": [
          "Size Match",
          "Size Mismatch"
         ],
         "xaxis": "x",
         "y": [
          -0.060757042253521125,
          0.007975352112676058
         ],
         "yaxis": "y"
        }
       ],
       "layout": {
        "annotations": [
         {
          "font": {
           "size": 16
          },
          "showarrow": false,
          "text": "Model Performance",
          "x": 0.22,
          "xanchor": "center",
          "xref": "paper",
          "y": 1,
          "yanchor": "bottom",
          "yref": "paper"
         },
         {
          "font": {
           "size": 16
          },
          "showarrow": false,
          "text": "Human Performance",
          "x": 0.76,
          "xanchor": "center",
          "xref": "paper",
          "y": 1,
          "yanchor": "bottom",
          "yref": "paper"
         },
         {
          "font": {
           "size": 16
          },
          "showarrow": false,
          "text": "Categorically Blocked Condition",
          "textangle": -90,
          "x": -0.07,
          "xanchor": "left",
          "xref": "paper",
          "y": 0.7875,
          "yanchor": "middle",
          "yref": "paper"
         },
         {
          "font": {
           "size": 16
          },
          "showarrow": false,
          "text": "Interleaved Condition",
          "textangle": -90,
          "x": -0.07,
          "xanchor": "left",
          "xref": "paper",
          "y": 0.2125,
          "yanchor": "middle",
          "yref": "paper"
         }
        ],
        "height": 800,
        "legend": {
         "font": {
          "size": 16
         },
         "x": 0.01,
         "xanchor": "left",
         "y": 0.99,
         "yanchor": "top"
        },
        "plot_bgcolor": "white",
        "template": {
         "data": {
          "bar": [
           {
            "error_x": {
             "color": "#2a3f5f"
            },
            "error_y": {
             "color": "#2a3f5f"
            },
            "marker": {
             "line": {
              "color": "#E5ECF6",
              "width": 0.5
             },
             "pattern": {
              "fillmode": "overlay",
              "size": 10,
              "solidity": 0.2
             }
            },
            "type": "bar"
           }
          ],
          "barpolar": [
           {
            "marker": {
             "line": {
              "color": "#E5ECF6",
              "width": 0.5
             },
             "pattern": {
              "fillmode": "overlay",
              "size": 10,
              "solidity": 0.2
             }
            },
            "type": "barpolar"
           }
          ],
          "carpet": [
           {
            "aaxis": {
             "endlinecolor": "#2a3f5f",
             "gridcolor": "white",
             "linecolor": "white",
             "minorgridcolor": "white",
             "startlinecolor": "#2a3f5f"
            },
            "baxis": {
             "endlinecolor": "#2a3f5f",
             "gridcolor": "white",
             "linecolor": "white",
             "minorgridcolor": "white",
             "startlinecolor": "#2a3f5f"
            },
            "type": "carpet"
           }
          ],
          "choropleth": [
           {
            "colorbar": {
             "outlinewidth": 0,
             "ticks": ""
            },
            "type": "choropleth"
           }
          ],
          "contour": [
           {
            "colorbar": {
             "outlinewidth": 0,
             "ticks": ""
            },
            "colorscale": [
             [
              0,
              "#0d0887"
             ],
             [
              0.1111111111111111,
              "#46039f"
             ],
             [
              0.2222222222222222,
              "#7201a8"
             ],
             [
              0.3333333333333333,
              "#9c179e"
             ],
             [
              0.4444444444444444,
              "#bd3786"
             ],
             [
              0.5555555555555556,
              "#d8576b"
             ],
             [
              0.6666666666666666,
              "#ed7953"
             ],
             [
              0.7777777777777778,
              "#fb9f3a"
             ],
             [
              0.8888888888888888,
              "#fdca26"
             ],
             [
              1,
              "#f0f921"
             ]
            ],
            "type": "contour"
           }
          ],
          "contourcarpet": [
           {
            "colorbar": {
             "outlinewidth": 0,
             "ticks": ""
            },
            "type": "contourcarpet"
           }
          ],
          "heatmap": [
           {
            "colorbar": {
             "outlinewidth": 0,
             "ticks": ""
            },
            "colorscale": [
             [
              0,
              "#0d0887"
             ],
             [
              0.1111111111111111,
              "#46039f"
             ],
             [
              0.2222222222222222,
              "#7201a8"
             ],
             [
              0.3333333333333333,
              "#9c179e"
             ],
             [
              0.4444444444444444,
              "#bd3786"
             ],
             [
              0.5555555555555556,
              "#d8576b"
             ],
             [
              0.6666666666666666,
              "#ed7953"
             ],
             [
              0.7777777777777778,
              "#fb9f3a"
             ],
             [
              0.8888888888888888,
              "#fdca26"
             ],
             [
              1,
              "#f0f921"
             ]
            ],
            "type": "heatmap"
           }
          ],
          "heatmapgl": [
           {
            "colorbar": {
             "outlinewidth": 0,
             "ticks": ""
            },
            "colorscale": [
             [
              0,
              "#0d0887"
             ],
             [
              0.1111111111111111,
              "#46039f"
             ],
             [
              0.2222222222222222,
              "#7201a8"
             ],
             [
              0.3333333333333333,
              "#9c179e"
             ],
             [
              0.4444444444444444,
              "#bd3786"
             ],
             [
              0.5555555555555556,
              "#d8576b"
             ],
             [
              0.6666666666666666,
              "#ed7953"
             ],
             [
              0.7777777777777778,
              "#fb9f3a"
             ],
             [
              0.8888888888888888,
              "#fdca26"
             ],
             [
              1,
              "#f0f921"
             ]
            ],
            "type": "heatmapgl"
           }
          ],
          "histogram": [
           {
            "marker": {
             "pattern": {
              "fillmode": "overlay",
              "size": 10,
              "solidity": 0.2
             }
            },
            "type": "histogram"
           }
          ],
          "histogram2d": [
           {
            "colorbar": {
             "outlinewidth": 0,
             "ticks": ""
            },
            "colorscale": [
             [
              0,
              "#0d0887"
             ],
             [
              0.1111111111111111,
              "#46039f"
             ],
             [
              0.2222222222222222,
              "#7201a8"
             ],
             [
              0.3333333333333333,
              "#9c179e"
             ],
             [
              0.4444444444444444,
              "#bd3786"
             ],
             [
              0.5555555555555556,
              "#d8576b"
             ],
             [
              0.6666666666666666,
              "#ed7953"
             ],
             [
              0.7777777777777778,
              "#fb9f3a"
             ],
             [
              0.8888888888888888,
              "#fdca26"
             ],
             [
              1,
              "#f0f921"
             ]
            ],
            "type": "histogram2d"
           }
          ],
          "histogram2dcontour": [
           {
            "colorbar": {
             "outlinewidth": 0,
             "ticks": ""
            },
            "colorscale": [
             [
              0,
              "#0d0887"
             ],
             [
              0.1111111111111111,
              "#46039f"
             ],
             [
              0.2222222222222222,
              "#7201a8"
             ],
             [
              0.3333333333333333,
              "#9c179e"
             ],
             [
              0.4444444444444444,
              "#bd3786"
             ],
             [
              0.5555555555555556,
              "#d8576b"
             ],
             [
              0.6666666666666666,
              "#ed7953"
             ],
             [
              0.7777777777777778,
              "#fb9f3a"
             ],
             [
              0.8888888888888888,
              "#fdca26"
             ],
             [
              1,
              "#f0f921"
             ]
            ],
            "type": "histogram2dcontour"
           }
          ],
          "mesh3d": [
           {
            "colorbar": {
             "outlinewidth": 0,
             "ticks": ""
            },
            "type": "mesh3d"
           }
          ],
          "parcoords": [
           {
            "line": {
             "colorbar": {
              "outlinewidth": 0,
              "ticks": ""
             }
            },
            "type": "parcoords"
           }
          ],
          "pie": [
           {
            "automargin": true,
            "type": "pie"
           }
          ],
          "scatter": [
           {
            "fillpattern": {
             "fillmode": "overlay",
             "size": 10,
             "solidity": 0.2
            },
            "type": "scatter"
           }
          ],
          "scatter3d": [
           {
            "line": {
             "colorbar": {
              "outlinewidth": 0,
              "ticks": ""
             }
            },
            "marker": {
             "colorbar": {
              "outlinewidth": 0,
              "ticks": ""
             }
            },
            "type": "scatter3d"
           }
          ],
          "scattercarpet": [
           {
            "marker": {
             "colorbar": {
              "outlinewidth": 0,
              "ticks": ""
             }
            },
            "type": "scattercarpet"
           }
          ],
          "scattergeo": [
           {
            "marker": {
             "colorbar": {
              "outlinewidth": 0,
              "ticks": ""
             }
            },
            "type": "scattergeo"
           }
          ],
          "scattergl": [
           {
            "marker": {
             "colorbar": {
              "outlinewidth": 0,
              "ticks": ""
             }
            },
            "type": "scattergl"
           }
          ],
          "scattermapbox": [
           {
            "marker": {
             "colorbar": {
              "outlinewidth": 0,
              "ticks": ""
             }
            },
            "type": "scattermapbox"
           }
          ],
          "scatterpolar": [
           {
            "marker": {
             "colorbar": {
              "outlinewidth": 0,
              "ticks": ""
             }
            },
            "type": "scatterpolar"
           }
          ],
          "scatterpolargl": [
           {
            "marker": {
             "colorbar": {
              "outlinewidth": 0,
              "ticks": ""
             }
            },
            "type": "scatterpolargl"
           }
          ],
          "scatterternary": [
           {
            "marker": {
             "colorbar": {
              "outlinewidth": 0,
              "ticks": ""
             }
            },
            "type": "scatterternary"
           }
          ],
          "surface": [
           {
            "colorbar": {
             "outlinewidth": 0,
             "ticks": ""
            },
            "colorscale": [
             [
              0,
              "#0d0887"
             ],
             [
              0.1111111111111111,
              "#46039f"
             ],
             [
              0.2222222222222222,
              "#7201a8"
             ],
             [
              0.3333333333333333,
              "#9c179e"
             ],
             [
              0.4444444444444444,
              "#bd3786"
             ],
             [
              0.5555555555555556,
              "#d8576b"
             ],
             [
              0.6666666666666666,
              "#ed7953"
             ],
             [
              0.7777777777777778,
              "#fb9f3a"
             ],
             [
              0.8888888888888888,
              "#fdca26"
             ],
             [
              1,
              "#f0f921"
             ]
            ],
            "type": "surface"
           }
          ],
          "table": [
           {
            "cells": {
             "fill": {
              "color": "#EBF0F8"
             },
             "line": {
              "color": "white"
             }
            },
            "header": {
             "fill": {
              "color": "#C8D4E3"
             },
             "line": {
              "color": "white"
             }
            },
            "type": "table"
           }
          ]
         },
         "layout": {
          "annotationdefaults": {
           "arrowcolor": "#2a3f5f",
           "arrowhead": 0,
           "arrowwidth": 1
          },
          "autotypenumbers": "strict",
          "coloraxis": {
           "colorbar": {
            "outlinewidth": 0,
            "ticks": ""
           }
          },
          "colorscale": {
           "diverging": [
            [
             0,
             "#8e0152"
            ],
            [
             0.1,
             "#c51b7d"
            ],
            [
             0.2,
             "#de77ae"
            ],
            [
             0.3,
             "#f1b6da"
            ],
            [
             0.4,
             "#fde0ef"
            ],
            [
             0.5,
             "#f7f7f7"
            ],
            [
             0.6,
             "#e6f5d0"
            ],
            [
             0.7,
             "#b8e186"
            ],
            [
             0.8,
             "#7fbc41"
            ],
            [
             0.9,
             "#4d9221"
            ],
            [
             1,
             "#276419"
            ]
           ],
           "sequential": [
            [
             0,
             "#0d0887"
            ],
            [
             0.1111111111111111,
             "#46039f"
            ],
            [
             0.2222222222222222,
             "#7201a8"
            ],
            [
             0.3333333333333333,
             "#9c179e"
            ],
            [
             0.4444444444444444,
             "#bd3786"
            ],
            [
             0.5555555555555556,
             "#d8576b"
            ],
            [
             0.6666666666666666,
             "#ed7953"
            ],
            [
             0.7777777777777778,
             "#fb9f3a"
            ],
            [
             0.8888888888888888,
             "#fdca26"
            ],
            [
             1,
             "#f0f921"
            ]
           ],
           "sequentialminus": [
            [
             0,
             "#0d0887"
            ],
            [
             0.1111111111111111,
             "#46039f"
            ],
            [
             0.2222222222222222,
             "#7201a8"
            ],
            [
             0.3333333333333333,
             "#9c179e"
            ],
            [
             0.4444444444444444,
             "#bd3786"
            ],
            [
             0.5555555555555556,
             "#d8576b"
            ],
            [
             0.6666666666666666,
             "#ed7953"
            ],
            [
             0.7777777777777778,
             "#fb9f3a"
            ],
            [
             0.8888888888888888,
             "#fdca26"
            ],
            [
             1,
             "#f0f921"
            ]
           ]
          },
          "colorway": [
           "#636efa",
           "#EF553B",
           "#00cc96",
           "#ab63fa",
           "#FFA15A",
           "#19d3f3",
           "#FF6692",
           "#B6E880",
           "#FF97FF",
           "#FECB52"
          ],
          "font": {
           "color": "#2a3f5f"
          },
          "geo": {
           "bgcolor": "white",
           "lakecolor": "white",
           "landcolor": "#E5ECF6",
           "showlakes": true,
           "showland": true,
           "subunitcolor": "white"
          },
          "hoverlabel": {
           "align": "left"
          },
          "hovermode": "closest",
          "mapbox": {
           "style": "light"
          },
          "paper_bgcolor": "white",
          "plot_bgcolor": "#E5ECF6",
          "polar": {
           "angularaxis": {
            "gridcolor": "white",
            "linecolor": "white",
            "ticks": ""
           },
           "bgcolor": "#E5ECF6",
           "radialaxis": {
            "gridcolor": "white",
            "linecolor": "white",
            "ticks": ""
           }
          },
          "scene": {
           "xaxis": {
            "backgroundcolor": "#E5ECF6",
            "gridcolor": "white",
            "gridwidth": 2,
            "linecolor": "white",
            "showbackground": true,
            "ticks": "",
            "zerolinecolor": "white"
           },
           "yaxis": {
            "backgroundcolor": "#E5ECF6",
            "gridcolor": "white",
            "gridwidth": 2,
            "linecolor": "white",
            "showbackground": true,
            "ticks": "",
            "zerolinecolor": "white"
           },
           "zaxis": {
            "backgroundcolor": "#E5ECF6",
            "gridcolor": "white",
            "gridwidth": 2,
            "linecolor": "white",
            "showbackground": true,
            "ticks": "",
            "zerolinecolor": "white"
           }
          },
          "shapedefaults": {
           "line": {
            "color": "#2a3f5f"
           }
          },
          "ternary": {
           "aaxis": {
            "gridcolor": "white",
            "linecolor": "white",
            "ticks": ""
           },
           "baxis": {
            "gridcolor": "white",
            "linecolor": "white",
            "ticks": ""
           },
           "bgcolor": "#E5ECF6",
           "caxis": {
            "gridcolor": "white",
            "linecolor": "white",
            "ticks": ""
           }
          },
          "title": {
           "x": 0.05
          },
          "xaxis": {
           "automargin": true,
           "gridcolor": "white",
           "linecolor": "white",
           "ticks": "",
           "title": {
            "standoff": 15
           },
           "zerolinecolor": "white",
           "zerolinewidth": 2
          },
          "yaxis": {
           "automargin": true,
           "gridcolor": "white",
           "linecolor": "white",
           "ticks": "",
           "title": {
            "standoff": 15
           },
           "zerolinecolor": "white",
           "zerolinewidth": 2
          }
         }
        },
        "title": {
         "font": {
          "size": 20
         },
         "text": "Error Rate (%, Relative to Mean) by Condition",
         "x": 0.5
        },
        "width": 1200,
        "xaxis": {
         "anchor": "y",
         "domain": [
          0,
          0.44
         ],
         "linecolor": "black",
         "linewidth": 1.5,
         "mirror": true,
         "showgrid": false,
         "showline": true,
         "tickfont": {
          "size": 16
         },
         "ticks": "outside",
         "title": {
          "font": {
           "size": 20
          }
         }
        },
        "xaxis2": {
         "anchor": "y2",
         "domain": [
          0.54,
          0.98
         ],
         "linecolor": "black",
         "linewidth": 1.5,
         "mirror": true,
         "showgrid": false,
         "showline": true,
         "tickfont": {
          "size": 16
         },
         "ticks": "outside",
         "title": {
          "font": {
           "size": 20
          }
         }
        },
        "xaxis3": {
         "anchor": "y3",
         "domain": [
          0,
          0.44
         ],
         "linecolor": "black",
         "linewidth": 1.5,
         "mirror": true,
         "showgrid": false,
         "showline": true,
         "tickfont": {
          "size": 16
         },
         "ticks": "outside",
         "title": {
          "font": {
           "size": 20
          }
         }
        },
        "xaxis4": {
         "anchor": "y4",
         "domain": [
          0.54,
          0.98
         ],
         "linecolor": "black",
         "linewidth": 1.5,
         "mirror": true,
         "showgrid": false,
         "showline": true,
         "tickfont": {
          "size": 16
         },
         "ticks": "outside",
         "title": {
          "font": {
           "size": 20
          }
         }
        },
        "yaxis": {
         "anchor": "x",
         "domain": [
          0.575,
          1
         ],
         "linecolor": "black",
         "linewidth": 1.5,
         "mirror": true,
         "showgrid": false,
         "showline": true,
         "side": "left",
         "ticks": "outside",
         "title": {
          "font": {
           "size": 20
          }
         },
         "zeroline": true,
         "zerolinecolor": "black",
         "zerolinewidth": 1
        },
        "yaxis2": {
         "anchor": "x2",
         "domain": [
          0.575,
          1
         ],
         "linecolor": "black",
         "linewidth": 1.5,
         "mirror": true,
         "showgrid": false,
         "showline": true,
         "ticks": "outside",
         "title": {
          "font": {
           "size": 20
          }
         },
         "zeroline": true,
         "zerolinecolor": "black",
         "zerolinewidth": 1
        },
        "yaxis3": {
         "anchor": "x3",
         "domain": [
          0,
          0.425
         ],
         "linecolor": "black",
         "linewidth": 1.5,
         "mirror": true,
         "showgrid": false,
         "showline": true,
         "ticks": "outside",
         "title": {
          "font": {
           "size": 20
          }
         },
         "zeroline": true,
         "zerolinecolor": "black",
         "zerolinewidth": 1
        },
        "yaxis4": {
         "anchor": "x4",
         "domain": [
          0,
          0.425
         ],
         "linecolor": "black",
         "linewidth": 1.5,
         "mirror": true,
         "showgrid": false,
         "showline": true,
         "ticks": "outside",
         "title": {
          "font": {
           "size": 20
          }
         },
         "zeroline": true,
         "zerolinecolor": "black",
         "zerolinewidth": 1
        }
       }
      }
     },
     "metadata": {},
     "output_type": "display_data"
    }
   ],
   "source": [
    "behavioral_data = data.load_behavioral_data()\n",
    "behavioral_data['rt'] = np.log(behavioral_data.rt.values)\n",
    "\n",
    "acc_data = behavioral_data[behavioral_data.participant_type!='random']\n",
    "acc_data = acc_data.groupby(['block_type_agg','size_condition','cat_condition','participant'],as_index=False).mean()\n",
    "acc_data_interleaved = acc_data[acc_data.block_type_agg=='interleaved']\n",
    "acc_data_blocked = acc_data[acc_data.block_type_agg=='blocked']\n",
    "\n",
    "rt_data = behavioral_data[(behavioral_data.participant_type!='random')&(behavioral_data.correct==1)]\n",
    "rt_data = rt_data.groupby(['block_type_agg','size_condition','cat_condition','participant'],as_index=False).mean()\n",
    "rt_data_interleaved = rt_data[rt_data.block_type_agg=='interleaved']\n",
    "rt_data_blocked = rt_data[rt_data.block_type_agg=='blocked']\n",
    "\n",
    "plot_data_interleaved = data.add_within_subject_error_bars(rt_data_interleaved)\n",
    "plot_data_interleaved = plot_data_interleaved.groupby(['cat_condition','size_condition'],as_index=False).mean()\n",
    "plot_data_interleaved['cat_condition'] = plot_data_interleaved.cat_condition.replace({'c_ma':'Category Match','c_ms':'Category Mismatch'})\n",
    "plot_data_interleaved['size_condition'] = plot_data_interleaved.size_condition.replace({'s_ma':'Size Match','s_ms':'Size Mismatch'})\n",
    "plot_data_blocked = data.add_within_subject_error_bars(rt_data_blocked)\n",
    "plot_data_blocked = plot_data_blocked.groupby(['cat_condition','size_condition'],as_index=False).mean()\n",
    "plot_data_blocked['cat_condition'] = plot_data_blocked.cat_condition.replace({'c_ma':'Category Match','c_ms':'Category Mismatch'})\n",
    "plot_data_blocked['size_condition'] = plot_data_blocked.size_condition.replace({'s_ma':'Size Match','s_ms':'Size Mismatch'})\n",
    "\n",
    "model_data_interleaved = model_data_interleaved.groupby(['model','cat_condition','size_condition'],as_index=False).mean()\n",
    "model_data_blocked = model_data_blocked.groupby(['model','cat_condition','size_condition'],as_index=False).mean()\n",
    "plot_data_interleaved_model = data.add_within_subject_error_bars(model_data_interleaved,subject='model',dv='rt',remove_mean=True)\n",
    "plot_data_interleaved_model = plot_data_interleaved_model.groupby(['cat_condition','size_condition'],as_index=False).mean()\n",
    "plot_data_interleaved_model['cat_condition'] = plot_data_interleaved_model.cat_condition.replace({'c_ma':'Category Match','c_ms':'Category Mismatch'})\n",
    "plot_data_interleaved_model['size_condition'] = plot_data_interleaved_model.size_condition.replace({'s_ma':'Size Match','s_ms':'Size Mismatch'})\n",
    "plot_data_blocked_model = data.add_within_subject_error_bars(model_data_blocked,subject='model',dv='rt',remove_mean=True)\n",
    "plot_data_blocked_model = plot_data_blocked_model.groupby(['cat_condition','size_condition'],as_index=False).mean()\n",
    "plot_data_blocked_model['cat_condition'] = plot_data_blocked_model.cat_condition.replace({'c_ma':'Category Match','c_ms':'Category Mismatch'})\n",
    "plot_data_blocked_model['size_condition'] = plot_data_blocked_model.size_condition.replace({'s_ma':'Size Match','s_ms':'Size Mismatch'})\n",
    "plot_data_interleaved_acc_model = data.add_within_subject_error_bars(model_data_interleaved,subject='model',dv='error',remove_mean=True)\n",
    "plot_data_interleaved_acc_model = plot_data_interleaved_acc_model.groupby(['cat_condition','size_condition'],as_index=False).mean()\n",
    "plot_data_interleaved_acc_model['cat_condition'] = plot_data_interleaved_acc_model.cat_condition.replace({'c_ma':'Category Match','c_ms':'Category Mismatch'})\n",
    "plot_data_interleaved_acc_model['size_condition'] = plot_data_interleaved_acc_model.size_condition.replace({'s_ma':'Size Match','s_ms':'Size Mismatch'})\n",
    "plot_data_blocked_acc_model = data.add_within_subject_error_bars(model_data_blocked,subject='model',dv='error',remove_mean=True)\n",
    "plot_data_blocked_acc_model = plot_data_blocked_acc_model.groupby(['cat_condition','size_condition'],as_index=False).mean()\n",
    "plot_data_blocked_acc_model['cat_condition'] = plot_data_blocked_acc_model.cat_condition.replace({'c_ma':'Category Match','c_ms':'Category Mismatch'})\n",
    "plot_data_blocked_acc_model['size_condition'] = plot_data_blocked_acc_model.size_condition.replace({'s_ma':'Size Match','s_ms':'Size Mismatch'})\n",
    "\n",
    "\n",
    "\n",
    "acc_data_interleaved['error'] = 1-acc_data_interleaved.correct\n",
    "plot_data_interleaved_acc = data.add_within_subject_error_bars(acc_data_interleaved,dv='error',remove_mean=True)\n",
    "plot_data_interleaved_acc = plot_data_interleaved_acc.groupby(['cat_condition','size_condition'],as_index=False).mean()\n",
    "plot_data_interleaved_acc['cat_condition'] = plot_data_interleaved_acc.cat_condition.replace({'c_ma':'Category Match','c_ms':'Category Mismatch'})\n",
    "plot_data_interleaved_acc['size_condition'] = plot_data_interleaved_acc.size_condition.replace({'s_ma':'Size Match','s_ms':'Size Mismatch'})\n",
    "\n",
    "acc_data_blocked['error'] = 1-acc_data_blocked.correct\n",
    "plot_data_blocked_acc = data.add_within_subject_error_bars(acc_data_blocked,dv='error',remove_mean=True)\n",
    "plot_data_blocked_acc = plot_data_blocked_acc.groupby(['cat_condition','size_condition'],as_index=False).mean()\n",
    "plot_data_blocked_acc['cat_condition'] = plot_data_blocked_acc.cat_condition.replace({'c_ma':'Category Match','c_ms':'Category Mismatch'})\n",
    "plot_data_blocked_acc['size_condition'] = plot_data_blocked_acc.size_condition.replace({'s_ma':'Size Match','s_ms':'Size Mismatch'})\n",
    "\n",
    "from plotly.subplots import make_subplots\n",
    "import plotly.graph_objects as go\n",
    "import plotly.express as px\n",
    "\n",
    "\n",
    "model_rt_interleaved = px.bar(plot_data_interleaved_model,x='size_condition',color='cat_condition',\n",
    "       y='rt_normalized',barmode='group',error_y='rt_error')\n",
    "human_rt_interleaved = px.bar(plot_data_interleaved,x='size_condition',color='cat_condition',\n",
    "       y='rt_normalized',barmode='group',error_y='rt_error')\n",
    "model_rt_blocked = px.bar(plot_data_blocked_model,x='size_condition',color='cat_condition',\n",
    "       y='rt_normalized',barmode='group',error_y='rt_error')\n",
    "human_rt_blocked = px.bar(plot_data_blocked,x='size_condition',color='cat_condition',\n",
    "       y='rt_normalized',barmode='group',error_y='rt_error')\n",
    "human_acc_interleaved = px.bar(plot_data_interleaved_acc,x='size_condition',color='cat_condition',\n",
    "       y='error_normalized',barmode='group',error_y='error_error')\n",
    "human_acc_blocked = px.bar(plot_data_blocked_acc,x='size_condition',color='cat_condition',\n",
    "       y='error_normalized',barmode='group',error_y='error_error')\n",
    "model_acc_interleaved = px.bar(plot_data_interleaved_acc_model,x='size_condition',color='cat_condition',\n",
    "       y='error_normalized',barmode='group',error_y='error_error')\n",
    "model_acc_blocked = px.bar(plot_data_blocked_acc_model,x='size_condition',color='cat_condition',\n",
    "       y='error_normalized',barmode='group',error_y='error_error')\n",
    "\n",
    "fig = make_subplots(rows=2,cols=2,row_titles=['Categorically Blocked Condition','Interleaved Condition'],\n",
    "                    column_titles=['Model Performance','Human Performance'])\n",
    "fig.add_trace(model_rt_interleaved.data[0],row=2,col=1)\n",
    "fig.add_trace(model_rt_interleaved.data[1],row=2,col=1)\n",
    "fig.add_trace(human_rt_interleaved.data[0],row=2,col=2)\n",
    "fig.add_trace(human_rt_interleaved.data[1],row=2,col=2)\n",
    "fig.add_trace(model_rt_blocked.data[0],row=1,col=1)\n",
    "fig.add_trace(model_rt_blocked.data[1],row=1,col=1)\n",
    "fig.add_trace(human_rt_blocked.data[0],row=1,col=2)\n",
    "fig.add_trace(human_rt_blocked.data[1],row=1,col=2)\n",
    "for idx,trace in enumerate(fig.data):\n",
    "    if idx > 1:\n",
    "        trace.showlegend = False\n",
    "fig.update_layout(title='Log Reaction Time (log ms, Relative to Mean) by Condition',yaxis_side='left',width=1200,height=800,\n",
    "                  titlefont=dict(size=20))\n",
    "fig.update_layout(plot_bgcolor='white',title_x=0.5,\n",
    "                     legend=dict(yanchor='top',y=.99,xanchor='left',x=.01,font=dict(size=16)))\n",
    "fig.update_xaxes(showline=True,linewidth=1.5,linecolor='black',tickfont=dict(size=16),\n",
    "              mirror=True,ticks='outside',showgrid=False,titlefont=dict(size=20)\n",
    "              )\n",
    "fig.update_yaxes(showline=True,linewidth=1.5,linecolor='black',\n",
    "              mirror=True,ticks='outside',showgrid=False,titlefont=dict(size=20),\n",
    "              zeroline=True,zerolinecolor='black',zerolinewidth=1)\n",
    "#fig.add_annotation(dict(x=0,y=.25,xref='x1',yref='y1',text='test',showarrow=False))\n",
    "fig['layout']['annotations'][2].update(text=\"Categorically Blocked Condition\",x=-.07,textangle=-90)\n",
    "fig['layout']['annotations'][3].update(text=\"Interleaved Condition\",x=-.07,textangle=-90)\n",
    "fig.show()\n",
    "\n",
    "fig = make_subplots(rows=2,cols=2,row_titles=['Categorically Blocked Condition','Interleaved Condition'],\n",
    "                    column_titles=['Model Performance','Human Performance'])\n",
    "fig.add_trace(human_acc_interleaved.data[0],row=2,col=2)\n",
    "fig.add_trace(human_acc_interleaved.data[1],row=2,col=2)\n",
    "fig.add_trace(model_acc_interleaved.data[0],row=2,col=1)\n",
    "fig.add_trace(model_acc_interleaved.data[1],row=2,col=1)\n",
    "fig.add_trace(human_acc_blocked.data[0],row=1,col=2)\n",
    "fig.add_trace(human_acc_blocked.data[1],row=1,col=2)\n",
    "fig.add_trace(model_acc_blocked.data[0],row=1,col=1)\n",
    "fig.add_trace(model_acc_blocked.data[1],row=1,col=1)\n",
    "for idx,trace in enumerate(fig.data):\n",
    "    if idx > 1:\n",
    "        trace.showlegend = False\n",
    "fig.update_layout(title='Error Rate (%, Relative to Mean) by Condition',yaxis_side='left',width=1200,height=800,\n",
    "                  titlefont=dict(size=20))\n",
    "fig.update_layout(plot_bgcolor='white',title_x=0.5,\n",
    "                     legend=dict(yanchor='top',y=.99,xanchor='left',x=.01,font=dict(size=16)))\n",
    "fig.update_xaxes(showline=True,linewidth=1.5,linecolor='black',tickfont=dict(size=16),\n",
    "              mirror=True,ticks='outside',showgrid=False,titlefont=dict(size=20)\n",
    "              )\n",
    "fig.update_yaxes(showline=True,linewidth=1.5,linecolor='black',\n",
    "              mirror=True,ticks='outside',showgrid=False,titlefont=dict(size=20),\n",
    "              zeroline=True,zerolinecolor='black',zerolinewidth=1)\n",
    "#fig.add_annotation(dict(x=0,y=.25,xref='x1',yref='y1',text='test',showarrow=False))\n",
    "fig['layout']['annotations'][2].update(text=\"Categorically Blocked Condition\",x=-.07,textangle=-90)\n",
    "fig['layout']['annotations'][3].update(text=\"Interleaved Condition\",x=-.07,textangle=-90)\n",
    "fig.show()"
   ]
  },
  {
   "attachments": {},
   "cell_type": "markdown",
   "metadata": {},
   "source": [
    "# Supplementary Information"
   ]
  },
  {
   "attachments": {},
   "cell_type": "markdown",
   "metadata": {},
   "source": [
    "## Experiment 3 Control: Response-Set Blocking"
   ]
  },
  {
   "attachments": {},
   "cell_type": "markdown",
   "metadata": {},
   "source": [
    "### Behavioral Performance Statistics"
   ]
  },
  {
   "cell_type": "code",
   "execution_count": 39,
   "metadata": {},
   "outputs": [
    {
     "data": {
      "text/plain": [
       "{'cello',\n",
       " 'elephant',\n",
       " 'goldfish',\n",
       " 'harp',\n",
       " 'iguana',\n",
       " 'mouse',\n",
       " 'piano',\n",
       " 'recorder',\n",
       " 'shark',\n",
       " 'triangle'}"
      ]
     },
     "execution_count": 39,
     "metadata": {},
     "output_type": "execute_result"
    }
   ],
   "source": [
    "behavioral_data = data.load_behavioral_data()\n",
    "x = behavioral_data[behavioral_data.participant_type=='random']\n",
    "set(x[x.block_type=='random1'].target.values)"
   ]
  },
  {
   "cell_type": "code",
   "execution_count": 40,
   "metadata": {},
   "outputs": [
    {
     "name": "stdout",
     "output_type": "stream",
     "text": [
      "Response-Set Blocked ANOVA\n",
      "  RT\n"
     ]
    },
    {
     "data": {
      "text/html": [
       "<div>\n",
       "<style scoped>\n",
       "    .dataframe tbody tr th:only-of-type {\n",
       "        vertical-align: middle;\n",
       "    }\n",
       "\n",
       "    .dataframe tbody tr th {\n",
       "        vertical-align: top;\n",
       "    }\n",
       "\n",
       "    .dataframe thead th {\n",
       "        text-align: right;\n",
       "    }\n",
       "</style>\n",
       "<table border=\"1\" class=\"dataframe\">\n",
       "  <thead>\n",
       "    <tr style=\"text-align: right;\">\n",
       "      <th></th>\n",
       "      <th>Source</th>\n",
       "      <th>SS</th>\n",
       "      <th>ddof1</th>\n",
       "      <th>ddof2</th>\n",
       "      <th>MS</th>\n",
       "      <th>F</th>\n",
       "      <th>p-unc</th>\n",
       "      <th>p-GG-corr</th>\n",
       "      <th>n2</th>\n",
       "      <th>eps</th>\n",
       "    </tr>\n",
       "  </thead>\n",
       "  <tbody>\n",
       "    <tr>\n",
       "      <th>0</th>\n",
       "      <td>size_condition</td>\n",
       "      <td>0.018216</td>\n",
       "      <td>1</td>\n",
       "      <td>15</td>\n",
       "      <td>0.018216</td>\n",
       "      <td>41.631578</td>\n",
       "      <td>0.000011</td>\n",
       "      <td>0.000011</td>\n",
       "      <td>0.021137</td>\n",
       "      <td>1.0</td>\n",
       "    </tr>\n",
       "    <tr>\n",
       "      <th>1</th>\n",
       "      <td>rand_condition</td>\n",
       "      <td>0.000001</td>\n",
       "      <td>1</td>\n",
       "      <td>15</td>\n",
       "      <td>0.000001</td>\n",
       "      <td>0.004713</td>\n",
       "      <td>0.946175</td>\n",
       "      <td>0.946175</td>\n",
       "      <td>0.000001</td>\n",
       "      <td>1.0</td>\n",
       "    </tr>\n",
       "    <tr>\n",
       "      <th>2</th>\n",
       "      <td>size_condition * rand_condition</td>\n",
       "      <td>0.001126</td>\n",
       "      <td>1</td>\n",
       "      <td>15</td>\n",
       "      <td>0.001126</td>\n",
       "      <td>1.614600</td>\n",
       "      <td>0.223201</td>\n",
       "      <td>0.223201</td>\n",
       "      <td>0.001307</td>\n",
       "      <td>1.0</td>\n",
       "    </tr>\n",
       "  </tbody>\n",
       "</table>\n",
       "</div>"
      ],
      "text/plain": [
       "                            Source        SS  ddof1  ddof2        MS  \\\n",
       "0                   size_condition  0.018216      1     15  0.018216   \n",
       "1                   rand_condition  0.000001      1     15  0.000001   \n",
       "2  size_condition * rand_condition  0.001126      1     15  0.001126   \n",
       "\n",
       "           F     p-unc  p-GG-corr        n2  eps  \n",
       "0  41.631578  0.000011   0.000011  0.021137  1.0  \n",
       "1   0.004713  0.946175   0.946175  0.000001  1.0  \n",
       "2   1.614600  0.223201   0.223201  0.001307  1.0  "
      ]
     },
     "metadata": {},
     "output_type": "display_data"
    },
    {
     "name": "stdout",
     "output_type": "stream",
     "text": [
      "  Acc\n"
     ]
    },
    {
     "data": {
      "text/html": [
       "<div>\n",
       "<style scoped>\n",
       "    .dataframe tbody tr th:only-of-type {\n",
       "        vertical-align: middle;\n",
       "    }\n",
       "\n",
       "    .dataframe tbody tr th {\n",
       "        vertical-align: top;\n",
       "    }\n",
       "\n",
       "    .dataframe thead th {\n",
       "        text-align: right;\n",
       "    }\n",
       "</style>\n",
       "<table border=\"1\" class=\"dataframe\">\n",
       "  <thead>\n",
       "    <tr style=\"text-align: right;\">\n",
       "      <th></th>\n",
       "      <th>Source</th>\n",
       "      <th>SS</th>\n",
       "      <th>ddof1</th>\n",
       "      <th>ddof2</th>\n",
       "      <th>MS</th>\n",
       "      <th>F</th>\n",
       "      <th>p-unc</th>\n",
       "      <th>p-GG-corr</th>\n",
       "      <th>n2</th>\n",
       "      <th>eps</th>\n",
       "    </tr>\n",
       "  </thead>\n",
       "  <tbody>\n",
       "    <tr>\n",
       "      <th>0</th>\n",
       "      <td>size_condition</td>\n",
       "      <td>0.012987</td>\n",
       "      <td>1</td>\n",
       "      <td>15</td>\n",
       "      <td>0.012987</td>\n",
       "      <td>28.725378</td>\n",
       "      <td>0.000080</td>\n",
       "      <td>0.000080</td>\n",
       "      <td>0.067785</td>\n",
       "      <td>1.0</td>\n",
       "    </tr>\n",
       "    <tr>\n",
       "      <th>1</th>\n",
       "      <td>rand_condition</td>\n",
       "      <td>0.000986</td>\n",
       "      <td>1</td>\n",
       "      <td>15</td>\n",
       "      <td>0.000986</td>\n",
       "      <td>2.718474</td>\n",
       "      <td>0.119973</td>\n",
       "      <td>0.119973</td>\n",
       "      <td>0.005145</td>\n",
       "      <td>1.0</td>\n",
       "    </tr>\n",
       "    <tr>\n",
       "      <th>2</th>\n",
       "      <td>size_condition * rand_condition</td>\n",
       "      <td>0.000326</td>\n",
       "      <td>1</td>\n",
       "      <td>15</td>\n",
       "      <td>0.000326</td>\n",
       "      <td>0.668583</td>\n",
       "      <td>0.426344</td>\n",
       "      <td>0.426344</td>\n",
       "      <td>0.001702</td>\n",
       "      <td>1.0</td>\n",
       "    </tr>\n",
       "  </tbody>\n",
       "</table>\n",
       "</div>"
      ],
      "text/plain": [
       "                            Source        SS  ddof1  ddof2        MS  \\\n",
       "0                   size_condition  0.012987      1     15  0.012987   \n",
       "1                   rand_condition  0.000986      1     15  0.000986   \n",
       "2  size_condition * rand_condition  0.000326      1     15  0.000326   \n",
       "\n",
       "           F     p-unc  p-GG-corr        n2  eps  \n",
       "0  28.725378  0.000080   0.000080  0.067785  1.0  \n",
       "1   2.718474  0.119973   0.119973  0.005145  1.0  \n",
       "2   0.668583  0.426344   0.426344  0.001702  1.0  "
      ]
     },
     "metadata": {},
     "output_type": "display_data"
    },
    {
     "name": "stdout",
     "output_type": "stream",
     "text": [
      "\n"
     ]
    }
   ],
   "source": [
    "behavioral_data = data.load_behavioral_data()\n",
    "behavioral_data['rt'] = np.log(behavioral_data.rt)\n",
    "\n",
    "acc_data = behavioral_data[behavioral_data.participant_type=='random']\n",
    "acc_data = acc_data.groupby(['block_type_agg','size_condition','rand_condition','participant'],as_index=False).mean()\n",
    "acc_data_interleaved = acc_data[acc_data.block_type_agg=='interleaved']\n",
    "acc_data_blocked = acc_data[acc_data.block_type_agg=='random']\n",
    "\n",
    "rt_data = behavioral_data[(behavioral_data.participant_type=='random')&(behavioral_data.correct==1)]\n",
    "rt_data = rt_data.groupby(['block_type_agg','size_condition','rand_condition','participant'],as_index=False).mean()\n",
    "rt_data_interleaved = rt_data[rt_data.block_type_agg=='interleaved']\n",
    "rt_data_blocked = rt_data[rt_data.block_type_agg=='random']\n",
    "\n",
    "\n",
    "print('Response-Set Blocked ANOVA')\n",
    "print('  RT')\n",
    "display(pg.rm_anova(data=rt_data_blocked,dv='rt',\n",
    "                    within=['size_condition','rand_condition'],subject='participant',\n",
    "                    detailed=True,effsize='n2'))\n",
    "print('  Acc')\n",
    "display(pg.rm_anova(data=acc_data_blocked,dv='correct',\n",
    "                    within=['size_condition','rand_condition'],subject='participant',\n",
    "                    detailed=True,effsize='n2'))\n",
    "print()"
   ]
  },
  {
   "attachments": {},
   "cell_type": "markdown",
   "metadata": {},
   "source": [
    "### Plots"
   ]
  },
  {
   "cell_type": "code",
   "execution_count": 41,
   "metadata": {},
   "outputs": [
    {
     "data": {
      "application/vnd.plotly.v1+json": {
       "config": {
        "plotlyServerURL": "https://plot.ly"
       },
       "data": [
        {
         "alignmentgroup": "True",
         "error_y": {
          "array": [
           0.016470219092414164,
           0.02334557568637062
          ]
         },
         "hovertemplate": "cat_condition=Response-Set Match<br>size_condition=%{x}<br>rt_normalized=%{y}<extra></extra>",
         "legendgroup": "Response-Set Match",
         "marker": {
          "color": "#636efa",
          "pattern": {
           "shape": ""
          }
         },
         "name": "Response-Set Match",
         "offsetgroup": "Response-Set Match",
         "orientation": "v",
         "showlegend": true,
         "textposition": "auto",
         "type": "bar",
         "x": [
          "Size Match",
          "Size Mismatch"
         ],
         "xaxis": "x",
         "y": [
          -0.002234791321196028,
          0.015906619462054183
         ],
         "yaxis": "y"
        },
        {
         "alignmentgroup": "True",
         "error_y": {
          "array": [
           0.018147428470972865,
           0.016369364620062356
          ]
         },
         "hovertemplate": "cat_condition=Response-Set Mismatch<br>size_condition=%{x}<br>rt_normalized=%{y}<extra></extra>",
         "legendgroup": "Response-Set Mismatch",
         "marker": {
          "color": "#EF553B",
          "pattern": {
           "shape": ""
          }
         },
         "name": "Response-Set Mismatch",
         "offsetgroup": "Response-Set Mismatch",
         "orientation": "v",
         "showlegend": true,
         "textposition": "auto",
         "type": "bar",
         "x": [
          "Size Match",
          "Size Mismatch"
         ],
         "xaxis": "x",
         "y": [
          -0.027173152633940434,
          0.013501324493082612
         ],
         "yaxis": "y"
        },
        {
         "alignmentgroup": "True",
         "error_y": {
          "array": [
           0.011248732731280815,
           0.009393825082264573
          ]
         },
         "hovertemplate": "cat_condition=Response-Set Match<br>size_condition=%{x}<br>rt_normalized=%{y}<extra></extra>",
         "legendgroup": "Response-Set Match",
         "marker": {
          "color": "#636efa",
          "pattern": {
           "shape": ""
          }
         },
         "name": "Response-Set Match",
         "offsetgroup": "Response-Set Match",
         "orientation": "v",
         "showlegend": false,
         "textposition": "auto",
         "type": "bar",
         "x": [
          "Size Match",
          "Size Mismatch"
         ],
         "xaxis": "x2",
         "y": [
          -0.02092675680536099,
          0.02120546054017658
         ],
         "yaxis": "y2"
        },
        {
         "alignmentgroup": "True",
         "error_y": {
          "array": [
           0.013020883007990949,
           0.012052913732806762
          ]
         },
         "hovertemplate": "cat_condition=Response-Set Mismatch<br>size_condition=%{x}<br>rt_normalized=%{y}<extra></extra>",
         "legendgroup": "Response-Set Mismatch",
         "marker": {
          "color": "#EF553B",
          "pattern": {
           "shape": ""
          }
         },
         "name": "Response-Set Mismatch",
         "offsetgroup": "Response-Set Mismatch",
         "orientation": "v",
         "showlegend": false,
         "textposition": "auto",
         "type": "bar",
         "x": [
          "Size Match",
          "Size Mismatch"
         ],
         "xaxis": "x2",
         "y": [
          -0.012815238350736391,
          0.012536534615920747
         ],
         "yaxis": "y2"
        }
       ],
       "layout": {
        "annotations": [
         {
          "font": {
           "size": 16
          },
          "showarrow": false,
          "text": "Response-Set Blocked Condition",
          "x": 0.225,
          "xanchor": "center",
          "xref": "paper",
          "y": 1,
          "yanchor": "bottom",
          "yref": "paper"
         },
         {
          "font": {
           "size": 16
          },
          "showarrow": false,
          "text": "Interleaved Condition",
          "x": 0.775,
          "xanchor": "center",
          "xref": "paper",
          "y": 1,
          "yanchor": "bottom",
          "yref": "paper"
         }
        ],
        "height": 400,
        "legend": {
         "font": {
          "size": 16
         },
         "x": 0.01,
         "xanchor": "left",
         "y": 0.99,
         "yanchor": "top"
        },
        "plot_bgcolor": "white",
        "template": {
         "data": {
          "bar": [
           {
            "error_x": {
             "color": "#2a3f5f"
            },
            "error_y": {
             "color": "#2a3f5f"
            },
            "marker": {
             "line": {
              "color": "#E5ECF6",
              "width": 0.5
             },
             "pattern": {
              "fillmode": "overlay",
              "size": 10,
              "solidity": 0.2
             }
            },
            "type": "bar"
           }
          ],
          "barpolar": [
           {
            "marker": {
             "line": {
              "color": "#E5ECF6",
              "width": 0.5
             },
             "pattern": {
              "fillmode": "overlay",
              "size": 10,
              "solidity": 0.2
             }
            },
            "type": "barpolar"
           }
          ],
          "carpet": [
           {
            "aaxis": {
             "endlinecolor": "#2a3f5f",
             "gridcolor": "white",
             "linecolor": "white",
             "minorgridcolor": "white",
             "startlinecolor": "#2a3f5f"
            },
            "baxis": {
             "endlinecolor": "#2a3f5f",
             "gridcolor": "white",
             "linecolor": "white",
             "minorgridcolor": "white",
             "startlinecolor": "#2a3f5f"
            },
            "type": "carpet"
           }
          ],
          "choropleth": [
           {
            "colorbar": {
             "outlinewidth": 0,
             "ticks": ""
            },
            "type": "choropleth"
           }
          ],
          "contour": [
           {
            "colorbar": {
             "outlinewidth": 0,
             "ticks": ""
            },
            "colorscale": [
             [
              0,
              "#0d0887"
             ],
             [
              0.1111111111111111,
              "#46039f"
             ],
             [
              0.2222222222222222,
              "#7201a8"
             ],
             [
              0.3333333333333333,
              "#9c179e"
             ],
             [
              0.4444444444444444,
              "#bd3786"
             ],
             [
              0.5555555555555556,
              "#d8576b"
             ],
             [
              0.6666666666666666,
              "#ed7953"
             ],
             [
              0.7777777777777778,
              "#fb9f3a"
             ],
             [
              0.8888888888888888,
              "#fdca26"
             ],
             [
              1,
              "#f0f921"
             ]
            ],
            "type": "contour"
           }
          ],
          "contourcarpet": [
           {
            "colorbar": {
             "outlinewidth": 0,
             "ticks": ""
            },
            "type": "contourcarpet"
           }
          ],
          "heatmap": [
           {
            "colorbar": {
             "outlinewidth": 0,
             "ticks": ""
            },
            "colorscale": [
             [
              0,
              "#0d0887"
             ],
             [
              0.1111111111111111,
              "#46039f"
             ],
             [
              0.2222222222222222,
              "#7201a8"
             ],
             [
              0.3333333333333333,
              "#9c179e"
             ],
             [
              0.4444444444444444,
              "#bd3786"
             ],
             [
              0.5555555555555556,
              "#d8576b"
             ],
             [
              0.6666666666666666,
              "#ed7953"
             ],
             [
              0.7777777777777778,
              "#fb9f3a"
             ],
             [
              0.8888888888888888,
              "#fdca26"
             ],
             [
              1,
              "#f0f921"
             ]
            ],
            "type": "heatmap"
           }
          ],
          "heatmapgl": [
           {
            "colorbar": {
             "outlinewidth": 0,
             "ticks": ""
            },
            "colorscale": [
             [
              0,
              "#0d0887"
             ],
             [
              0.1111111111111111,
              "#46039f"
             ],
             [
              0.2222222222222222,
              "#7201a8"
             ],
             [
              0.3333333333333333,
              "#9c179e"
             ],
             [
              0.4444444444444444,
              "#bd3786"
             ],
             [
              0.5555555555555556,
              "#d8576b"
             ],
             [
              0.6666666666666666,
              "#ed7953"
             ],
             [
              0.7777777777777778,
              "#fb9f3a"
             ],
             [
              0.8888888888888888,
              "#fdca26"
             ],
             [
              1,
              "#f0f921"
             ]
            ],
            "type": "heatmapgl"
           }
          ],
          "histogram": [
           {
            "marker": {
             "pattern": {
              "fillmode": "overlay",
              "size": 10,
              "solidity": 0.2
             }
            },
            "type": "histogram"
           }
          ],
          "histogram2d": [
           {
            "colorbar": {
             "outlinewidth": 0,
             "ticks": ""
            },
            "colorscale": [
             [
              0,
              "#0d0887"
             ],
             [
              0.1111111111111111,
              "#46039f"
             ],
             [
              0.2222222222222222,
              "#7201a8"
             ],
             [
              0.3333333333333333,
              "#9c179e"
             ],
             [
              0.4444444444444444,
              "#bd3786"
             ],
             [
              0.5555555555555556,
              "#d8576b"
             ],
             [
              0.6666666666666666,
              "#ed7953"
             ],
             [
              0.7777777777777778,
              "#fb9f3a"
             ],
             [
              0.8888888888888888,
              "#fdca26"
             ],
             [
              1,
              "#f0f921"
             ]
            ],
            "type": "histogram2d"
           }
          ],
          "histogram2dcontour": [
           {
            "colorbar": {
             "outlinewidth": 0,
             "ticks": ""
            },
            "colorscale": [
             [
              0,
              "#0d0887"
             ],
             [
              0.1111111111111111,
              "#46039f"
             ],
             [
              0.2222222222222222,
              "#7201a8"
             ],
             [
              0.3333333333333333,
              "#9c179e"
             ],
             [
              0.4444444444444444,
              "#bd3786"
             ],
             [
              0.5555555555555556,
              "#d8576b"
             ],
             [
              0.6666666666666666,
              "#ed7953"
             ],
             [
              0.7777777777777778,
              "#fb9f3a"
             ],
             [
              0.8888888888888888,
              "#fdca26"
             ],
             [
              1,
              "#f0f921"
             ]
            ],
            "type": "histogram2dcontour"
           }
          ],
          "mesh3d": [
           {
            "colorbar": {
             "outlinewidth": 0,
             "ticks": ""
            },
            "type": "mesh3d"
           }
          ],
          "parcoords": [
           {
            "line": {
             "colorbar": {
              "outlinewidth": 0,
              "ticks": ""
             }
            },
            "type": "parcoords"
           }
          ],
          "pie": [
           {
            "automargin": true,
            "type": "pie"
           }
          ],
          "scatter": [
           {
            "fillpattern": {
             "fillmode": "overlay",
             "size": 10,
             "solidity": 0.2
            },
            "type": "scatter"
           }
          ],
          "scatter3d": [
           {
            "line": {
             "colorbar": {
              "outlinewidth": 0,
              "ticks": ""
             }
            },
            "marker": {
             "colorbar": {
              "outlinewidth": 0,
              "ticks": ""
             }
            },
            "type": "scatter3d"
           }
          ],
          "scattercarpet": [
           {
            "marker": {
             "colorbar": {
              "outlinewidth": 0,
              "ticks": ""
             }
            },
            "type": "scattercarpet"
           }
          ],
          "scattergeo": [
           {
            "marker": {
             "colorbar": {
              "outlinewidth": 0,
              "ticks": ""
             }
            },
            "type": "scattergeo"
           }
          ],
          "scattergl": [
           {
            "marker": {
             "colorbar": {
              "outlinewidth": 0,
              "ticks": ""
             }
            },
            "type": "scattergl"
           }
          ],
          "scattermapbox": [
           {
            "marker": {
             "colorbar": {
              "outlinewidth": 0,
              "ticks": ""
             }
            },
            "type": "scattermapbox"
           }
          ],
          "scatterpolar": [
           {
            "marker": {
             "colorbar": {
              "outlinewidth": 0,
              "ticks": ""
             }
            },
            "type": "scatterpolar"
           }
          ],
          "scatterpolargl": [
           {
            "marker": {
             "colorbar": {
              "outlinewidth": 0,
              "ticks": ""
             }
            },
            "type": "scatterpolargl"
           }
          ],
          "scatterternary": [
           {
            "marker": {
             "colorbar": {
              "outlinewidth": 0,
              "ticks": ""
             }
            },
            "type": "scatterternary"
           }
          ],
          "surface": [
           {
            "colorbar": {
             "outlinewidth": 0,
             "ticks": ""
            },
            "colorscale": [
             [
              0,
              "#0d0887"
             ],
             [
              0.1111111111111111,
              "#46039f"
             ],
             [
              0.2222222222222222,
              "#7201a8"
             ],
             [
              0.3333333333333333,
              "#9c179e"
             ],
             [
              0.4444444444444444,
              "#bd3786"
             ],
             [
              0.5555555555555556,
              "#d8576b"
             ],
             [
              0.6666666666666666,
              "#ed7953"
             ],
             [
              0.7777777777777778,
              "#fb9f3a"
             ],
             [
              0.8888888888888888,
              "#fdca26"
             ],
             [
              1,
              "#f0f921"
             ]
            ],
            "type": "surface"
           }
          ],
          "table": [
           {
            "cells": {
             "fill": {
              "color": "#EBF0F8"
             },
             "line": {
              "color": "white"
             }
            },
            "header": {
             "fill": {
              "color": "#C8D4E3"
             },
             "line": {
              "color": "white"
             }
            },
            "type": "table"
           }
          ]
         },
         "layout": {
          "annotationdefaults": {
           "arrowcolor": "#2a3f5f",
           "arrowhead": 0,
           "arrowwidth": 1
          },
          "autotypenumbers": "strict",
          "coloraxis": {
           "colorbar": {
            "outlinewidth": 0,
            "ticks": ""
           }
          },
          "colorscale": {
           "diverging": [
            [
             0,
             "#8e0152"
            ],
            [
             0.1,
             "#c51b7d"
            ],
            [
             0.2,
             "#de77ae"
            ],
            [
             0.3,
             "#f1b6da"
            ],
            [
             0.4,
             "#fde0ef"
            ],
            [
             0.5,
             "#f7f7f7"
            ],
            [
             0.6,
             "#e6f5d0"
            ],
            [
             0.7,
             "#b8e186"
            ],
            [
             0.8,
             "#7fbc41"
            ],
            [
             0.9,
             "#4d9221"
            ],
            [
             1,
             "#276419"
            ]
           ],
           "sequential": [
            [
             0,
             "#0d0887"
            ],
            [
             0.1111111111111111,
             "#46039f"
            ],
            [
             0.2222222222222222,
             "#7201a8"
            ],
            [
             0.3333333333333333,
             "#9c179e"
            ],
            [
             0.4444444444444444,
             "#bd3786"
            ],
            [
             0.5555555555555556,
             "#d8576b"
            ],
            [
             0.6666666666666666,
             "#ed7953"
            ],
            [
             0.7777777777777778,
             "#fb9f3a"
            ],
            [
             0.8888888888888888,
             "#fdca26"
            ],
            [
             1,
             "#f0f921"
            ]
           ],
           "sequentialminus": [
            [
             0,
             "#0d0887"
            ],
            [
             0.1111111111111111,
             "#46039f"
            ],
            [
             0.2222222222222222,
             "#7201a8"
            ],
            [
             0.3333333333333333,
             "#9c179e"
            ],
            [
             0.4444444444444444,
             "#bd3786"
            ],
            [
             0.5555555555555556,
             "#d8576b"
            ],
            [
             0.6666666666666666,
             "#ed7953"
            ],
            [
             0.7777777777777778,
             "#fb9f3a"
            ],
            [
             0.8888888888888888,
             "#fdca26"
            ],
            [
             1,
             "#f0f921"
            ]
           ]
          },
          "colorway": [
           "#636efa",
           "#EF553B",
           "#00cc96",
           "#ab63fa",
           "#FFA15A",
           "#19d3f3",
           "#FF6692",
           "#B6E880",
           "#FF97FF",
           "#FECB52"
          ],
          "font": {
           "color": "#2a3f5f"
          },
          "geo": {
           "bgcolor": "white",
           "lakecolor": "white",
           "landcolor": "#E5ECF6",
           "showlakes": true,
           "showland": true,
           "subunitcolor": "white"
          },
          "hoverlabel": {
           "align": "left"
          },
          "hovermode": "closest",
          "mapbox": {
           "style": "light"
          },
          "paper_bgcolor": "white",
          "plot_bgcolor": "#E5ECF6",
          "polar": {
           "angularaxis": {
            "gridcolor": "white",
            "linecolor": "white",
            "ticks": ""
           },
           "bgcolor": "#E5ECF6",
           "radialaxis": {
            "gridcolor": "white",
            "linecolor": "white",
            "ticks": ""
           }
          },
          "scene": {
           "xaxis": {
            "backgroundcolor": "#E5ECF6",
            "gridcolor": "white",
            "gridwidth": 2,
            "linecolor": "white",
            "showbackground": true,
            "ticks": "",
            "zerolinecolor": "white"
           },
           "yaxis": {
            "backgroundcolor": "#E5ECF6",
            "gridcolor": "white",
            "gridwidth": 2,
            "linecolor": "white",
            "showbackground": true,
            "ticks": "",
            "zerolinecolor": "white"
           },
           "zaxis": {
            "backgroundcolor": "#E5ECF6",
            "gridcolor": "white",
            "gridwidth": 2,
            "linecolor": "white",
            "showbackground": true,
            "ticks": "",
            "zerolinecolor": "white"
           }
          },
          "shapedefaults": {
           "line": {
            "color": "#2a3f5f"
           }
          },
          "ternary": {
           "aaxis": {
            "gridcolor": "white",
            "linecolor": "white",
            "ticks": ""
           },
           "baxis": {
            "gridcolor": "white",
            "linecolor": "white",
            "ticks": ""
           },
           "bgcolor": "#E5ECF6",
           "caxis": {
            "gridcolor": "white",
            "linecolor": "white",
            "ticks": ""
           }
          },
          "title": {
           "x": 0.05
          },
          "xaxis": {
           "automargin": true,
           "gridcolor": "white",
           "linecolor": "white",
           "ticks": "",
           "title": {
            "standoff": 15
           },
           "zerolinecolor": "white",
           "zerolinewidth": 2
          },
          "yaxis": {
           "automargin": true,
           "gridcolor": "white",
           "linecolor": "white",
           "ticks": "",
           "title": {
            "standoff": 15
           },
           "zerolinecolor": "white",
           "zerolinewidth": 2
          }
         }
        },
        "title": {
         "font": {
          "size": 20
         },
         "text": "Log Reaction Time (log ms, Relative to Mean) by Condition",
         "x": 0.5
        },
        "width": 1200,
        "xaxis": {
         "anchor": "y",
         "domain": [
          0,
          0.45
         ],
         "linecolor": "black",
         "linewidth": 1.5,
         "mirror": true,
         "showgrid": false,
         "showline": true,
         "tickfont": {
          "size": 16
         },
         "ticks": "outside",
         "title": {
          "font": {
           "size": 20
          }
         }
        },
        "xaxis2": {
         "anchor": "y2",
         "domain": [
          0.55,
          1
         ],
         "linecolor": "black",
         "linewidth": 1.5,
         "mirror": true,
         "showgrid": false,
         "showline": true,
         "tickfont": {
          "size": 16
         },
         "ticks": "outside",
         "title": {
          "font": {
           "size": 20
          }
         }
        },
        "yaxis": {
         "anchor": "x",
         "domain": [
          0,
          1
         ],
         "linecolor": "black",
         "linewidth": 1.5,
         "mirror": true,
         "showgrid": false,
         "showline": true,
         "side": "left",
         "ticks": "outside",
         "title": {
          "font": {
           "size": 20
          }
         },
         "zeroline": true,
         "zerolinecolor": "black",
         "zerolinewidth": 1
        },
        "yaxis2": {
         "anchor": "x2",
         "domain": [
          0,
          1
         ],
         "linecolor": "black",
         "linewidth": 1.5,
         "mirror": true,
         "showgrid": false,
         "showline": true,
         "ticks": "outside",
         "title": {
          "font": {
           "size": 20
          }
         },
         "zeroline": true,
         "zerolinecolor": "black",
         "zerolinewidth": 1
        }
       }
      }
     },
     "metadata": {},
     "output_type": "display_data"
    },
    {
     "data": {
      "application/vnd.plotly.v1+json": {
       "config": {
        "plotlyServerURL": "https://plot.ly"
       },
       "data": [
        {
         "alignmentgroup": "True",
         "error_y": {
          "array": [
           0.023159556375591216,
           0.026833924538509066
          ]
         },
         "hovertemplate": "cat_condition=Response-Set Match<br>size_condition=%{x}<br>error_normalized=%{y}<extra></extra>",
         "legendgroup": "Response-Set Match",
         "marker": {
          "color": "#636efa",
          "pattern": {
           "shape": ""
          }
         },
         "name": "Response-Set Match",
         "offsetgroup": "Response-Set Match",
         "orientation": "v",
         "showlegend": true,
         "textposition": "auto",
         "type": "bar",
         "x": [
          "Size Match",
          "Size Mismatch"
         ],
         "xaxis": "x",
         "y": [
          -0.0185515255869343,
          0.015182911627122484
         ],
         "yaxis": "y"
        },
        {
         "alignmentgroup": "True",
         "error_y": {
          "array": [
           0.018513023773431333,
           0.02270609632723205
          ]
         },
         "hovertemplate": "cat_condition=Response-Set Mismatch<br>size_condition=%{x}<br>error_normalized=%{y}<extra></extra>",
         "legendgroup": "Response-Set Mismatch",
         "marker": {
          "color": "#EF553B",
          "pattern": {
           "shape": ""
          }
         },
         "name": "Response-Set Mismatch",
         "offsetgroup": "Response-Set Mismatch",
         "orientation": "v",
         "showlegend": true,
         "textposition": "auto",
         "type": "bar",
         "x": [
          "Size Match",
          "Size Mismatch"
         ],
         "xaxis": "x",
         "y": [
          -0.017486731382059202,
          0.020855345341871022
         ],
         "yaxis": "y"
        },
        {
         "alignmentgroup": "True",
         "error_y": {
          "array": [
           0.011135098248573566,
           0.007751896929042427
          ]
         },
         "hovertemplate": "cat_condition=Response-Set Match<br>size_condition=%{x}<br>error_normalized=%{y}<extra></extra>",
         "legendgroup": "Response-Set Match",
         "marker": {
          "color": "#636efa",
          "pattern": {
           "shape": ""
          }
         },
         "name": "Response-Set Match",
         "offsetgroup": "Response-Set Match",
         "orientation": "v",
         "showlegend": false,
         "textposition": "auto",
         "type": "bar",
         "x": [
          "Size Match",
          "Size Mismatch"
         ],
         "xaxis": "x2",
         "y": [
          -0.020427131149848624,
          0.012577668477458021
         ],
         "yaxis": "y2"
        },
        {
         "alignmentgroup": "True",
         "error_y": {
          "array": [
           0.011492509252664268,
           0.013301911309922749
          ]
         },
         "hovertemplate": "cat_condition=Response-Set Mismatch<br>size_condition=%{x}<br>error_normalized=%{y}<extra></extra>",
         "legendgroup": "Response-Set Mismatch",
         "marker": {
          "color": "#EF553B",
          "pattern": {
           "shape": ""
          }
         },
         "name": "Response-Set Mismatch",
         "offsetgroup": "Response-Set Mismatch",
         "orientation": "v",
         "showlegend": false,
         "textposition": "auto",
         "type": "bar",
         "x": [
          "Size Match",
          "Size Mismatch"
         ],
         "xaxis": "x2",
         "y": [
          -0.00806328310411843,
          0.015912745776509033
         ],
         "yaxis": "y2"
        }
       ],
       "layout": {
        "annotations": [
         {
          "font": {
           "size": 16
          },
          "showarrow": false,
          "text": "Response-Set Blocked Condition",
          "x": 0.225,
          "xanchor": "center",
          "xref": "paper",
          "y": 1,
          "yanchor": "bottom",
          "yref": "paper"
         },
         {
          "font": {
           "size": 16
          },
          "showarrow": false,
          "text": "Interleaved Condition",
          "x": 0.775,
          "xanchor": "center",
          "xref": "paper",
          "y": 1,
          "yanchor": "bottom",
          "yref": "paper"
         }
        ],
        "height": 400,
        "legend": {
         "font": {
          "size": 16
         },
         "x": 0.01,
         "xanchor": "left",
         "y": 0.99,
         "yanchor": "top"
        },
        "plot_bgcolor": "white",
        "template": {
         "data": {
          "bar": [
           {
            "error_x": {
             "color": "#2a3f5f"
            },
            "error_y": {
             "color": "#2a3f5f"
            },
            "marker": {
             "line": {
              "color": "#E5ECF6",
              "width": 0.5
             },
             "pattern": {
              "fillmode": "overlay",
              "size": 10,
              "solidity": 0.2
             }
            },
            "type": "bar"
           }
          ],
          "barpolar": [
           {
            "marker": {
             "line": {
              "color": "#E5ECF6",
              "width": 0.5
             },
             "pattern": {
              "fillmode": "overlay",
              "size": 10,
              "solidity": 0.2
             }
            },
            "type": "barpolar"
           }
          ],
          "carpet": [
           {
            "aaxis": {
             "endlinecolor": "#2a3f5f",
             "gridcolor": "white",
             "linecolor": "white",
             "minorgridcolor": "white",
             "startlinecolor": "#2a3f5f"
            },
            "baxis": {
             "endlinecolor": "#2a3f5f",
             "gridcolor": "white",
             "linecolor": "white",
             "minorgridcolor": "white",
             "startlinecolor": "#2a3f5f"
            },
            "type": "carpet"
           }
          ],
          "choropleth": [
           {
            "colorbar": {
             "outlinewidth": 0,
             "ticks": ""
            },
            "type": "choropleth"
           }
          ],
          "contour": [
           {
            "colorbar": {
             "outlinewidth": 0,
             "ticks": ""
            },
            "colorscale": [
             [
              0,
              "#0d0887"
             ],
             [
              0.1111111111111111,
              "#46039f"
             ],
             [
              0.2222222222222222,
              "#7201a8"
             ],
             [
              0.3333333333333333,
              "#9c179e"
             ],
             [
              0.4444444444444444,
              "#bd3786"
             ],
             [
              0.5555555555555556,
              "#d8576b"
             ],
             [
              0.6666666666666666,
              "#ed7953"
             ],
             [
              0.7777777777777778,
              "#fb9f3a"
             ],
             [
              0.8888888888888888,
              "#fdca26"
             ],
             [
              1,
              "#f0f921"
             ]
            ],
            "type": "contour"
           }
          ],
          "contourcarpet": [
           {
            "colorbar": {
             "outlinewidth": 0,
             "ticks": ""
            },
            "type": "contourcarpet"
           }
          ],
          "heatmap": [
           {
            "colorbar": {
             "outlinewidth": 0,
             "ticks": ""
            },
            "colorscale": [
             [
              0,
              "#0d0887"
             ],
             [
              0.1111111111111111,
              "#46039f"
             ],
             [
              0.2222222222222222,
              "#7201a8"
             ],
             [
              0.3333333333333333,
              "#9c179e"
             ],
             [
              0.4444444444444444,
              "#bd3786"
             ],
             [
              0.5555555555555556,
              "#d8576b"
             ],
             [
              0.6666666666666666,
              "#ed7953"
             ],
             [
              0.7777777777777778,
              "#fb9f3a"
             ],
             [
              0.8888888888888888,
              "#fdca26"
             ],
             [
              1,
              "#f0f921"
             ]
            ],
            "type": "heatmap"
           }
          ],
          "heatmapgl": [
           {
            "colorbar": {
             "outlinewidth": 0,
             "ticks": ""
            },
            "colorscale": [
             [
              0,
              "#0d0887"
             ],
             [
              0.1111111111111111,
              "#46039f"
             ],
             [
              0.2222222222222222,
              "#7201a8"
             ],
             [
              0.3333333333333333,
              "#9c179e"
             ],
             [
              0.4444444444444444,
              "#bd3786"
             ],
             [
              0.5555555555555556,
              "#d8576b"
             ],
             [
              0.6666666666666666,
              "#ed7953"
             ],
             [
              0.7777777777777778,
              "#fb9f3a"
             ],
             [
              0.8888888888888888,
              "#fdca26"
             ],
             [
              1,
              "#f0f921"
             ]
            ],
            "type": "heatmapgl"
           }
          ],
          "histogram": [
           {
            "marker": {
             "pattern": {
              "fillmode": "overlay",
              "size": 10,
              "solidity": 0.2
             }
            },
            "type": "histogram"
           }
          ],
          "histogram2d": [
           {
            "colorbar": {
             "outlinewidth": 0,
             "ticks": ""
            },
            "colorscale": [
             [
              0,
              "#0d0887"
             ],
             [
              0.1111111111111111,
              "#46039f"
             ],
             [
              0.2222222222222222,
              "#7201a8"
             ],
             [
              0.3333333333333333,
              "#9c179e"
             ],
             [
              0.4444444444444444,
              "#bd3786"
             ],
             [
              0.5555555555555556,
              "#d8576b"
             ],
             [
              0.6666666666666666,
              "#ed7953"
             ],
             [
              0.7777777777777778,
              "#fb9f3a"
             ],
             [
              0.8888888888888888,
              "#fdca26"
             ],
             [
              1,
              "#f0f921"
             ]
            ],
            "type": "histogram2d"
           }
          ],
          "histogram2dcontour": [
           {
            "colorbar": {
             "outlinewidth": 0,
             "ticks": ""
            },
            "colorscale": [
             [
              0,
              "#0d0887"
             ],
             [
              0.1111111111111111,
              "#46039f"
             ],
             [
              0.2222222222222222,
              "#7201a8"
             ],
             [
              0.3333333333333333,
              "#9c179e"
             ],
             [
              0.4444444444444444,
              "#bd3786"
             ],
             [
              0.5555555555555556,
              "#d8576b"
             ],
             [
              0.6666666666666666,
              "#ed7953"
             ],
             [
              0.7777777777777778,
              "#fb9f3a"
             ],
             [
              0.8888888888888888,
              "#fdca26"
             ],
             [
              1,
              "#f0f921"
             ]
            ],
            "type": "histogram2dcontour"
           }
          ],
          "mesh3d": [
           {
            "colorbar": {
             "outlinewidth": 0,
             "ticks": ""
            },
            "type": "mesh3d"
           }
          ],
          "parcoords": [
           {
            "line": {
             "colorbar": {
              "outlinewidth": 0,
              "ticks": ""
             }
            },
            "type": "parcoords"
           }
          ],
          "pie": [
           {
            "automargin": true,
            "type": "pie"
           }
          ],
          "scatter": [
           {
            "fillpattern": {
             "fillmode": "overlay",
             "size": 10,
             "solidity": 0.2
            },
            "type": "scatter"
           }
          ],
          "scatter3d": [
           {
            "line": {
             "colorbar": {
              "outlinewidth": 0,
              "ticks": ""
             }
            },
            "marker": {
             "colorbar": {
              "outlinewidth": 0,
              "ticks": ""
             }
            },
            "type": "scatter3d"
           }
          ],
          "scattercarpet": [
           {
            "marker": {
             "colorbar": {
              "outlinewidth": 0,
              "ticks": ""
             }
            },
            "type": "scattercarpet"
           }
          ],
          "scattergeo": [
           {
            "marker": {
             "colorbar": {
              "outlinewidth": 0,
              "ticks": ""
             }
            },
            "type": "scattergeo"
           }
          ],
          "scattergl": [
           {
            "marker": {
             "colorbar": {
              "outlinewidth": 0,
              "ticks": ""
             }
            },
            "type": "scattergl"
           }
          ],
          "scattermapbox": [
           {
            "marker": {
             "colorbar": {
              "outlinewidth": 0,
              "ticks": ""
             }
            },
            "type": "scattermapbox"
           }
          ],
          "scatterpolar": [
           {
            "marker": {
             "colorbar": {
              "outlinewidth": 0,
              "ticks": ""
             }
            },
            "type": "scatterpolar"
           }
          ],
          "scatterpolargl": [
           {
            "marker": {
             "colorbar": {
              "outlinewidth": 0,
              "ticks": ""
             }
            },
            "type": "scatterpolargl"
           }
          ],
          "scatterternary": [
           {
            "marker": {
             "colorbar": {
              "outlinewidth": 0,
              "ticks": ""
             }
            },
            "type": "scatterternary"
           }
          ],
          "surface": [
           {
            "colorbar": {
             "outlinewidth": 0,
             "ticks": ""
            },
            "colorscale": [
             [
              0,
              "#0d0887"
             ],
             [
              0.1111111111111111,
              "#46039f"
             ],
             [
              0.2222222222222222,
              "#7201a8"
             ],
             [
              0.3333333333333333,
              "#9c179e"
             ],
             [
              0.4444444444444444,
              "#bd3786"
             ],
             [
              0.5555555555555556,
              "#d8576b"
             ],
             [
              0.6666666666666666,
              "#ed7953"
             ],
             [
              0.7777777777777778,
              "#fb9f3a"
             ],
             [
              0.8888888888888888,
              "#fdca26"
             ],
             [
              1,
              "#f0f921"
             ]
            ],
            "type": "surface"
           }
          ],
          "table": [
           {
            "cells": {
             "fill": {
              "color": "#EBF0F8"
             },
             "line": {
              "color": "white"
             }
            },
            "header": {
             "fill": {
              "color": "#C8D4E3"
             },
             "line": {
              "color": "white"
             }
            },
            "type": "table"
           }
          ]
         },
         "layout": {
          "annotationdefaults": {
           "arrowcolor": "#2a3f5f",
           "arrowhead": 0,
           "arrowwidth": 1
          },
          "autotypenumbers": "strict",
          "coloraxis": {
           "colorbar": {
            "outlinewidth": 0,
            "ticks": ""
           }
          },
          "colorscale": {
           "diverging": [
            [
             0,
             "#8e0152"
            ],
            [
             0.1,
             "#c51b7d"
            ],
            [
             0.2,
             "#de77ae"
            ],
            [
             0.3,
             "#f1b6da"
            ],
            [
             0.4,
             "#fde0ef"
            ],
            [
             0.5,
             "#f7f7f7"
            ],
            [
             0.6,
             "#e6f5d0"
            ],
            [
             0.7,
             "#b8e186"
            ],
            [
             0.8,
             "#7fbc41"
            ],
            [
             0.9,
             "#4d9221"
            ],
            [
             1,
             "#276419"
            ]
           ],
           "sequential": [
            [
             0,
             "#0d0887"
            ],
            [
             0.1111111111111111,
             "#46039f"
            ],
            [
             0.2222222222222222,
             "#7201a8"
            ],
            [
             0.3333333333333333,
             "#9c179e"
            ],
            [
             0.4444444444444444,
             "#bd3786"
            ],
            [
             0.5555555555555556,
             "#d8576b"
            ],
            [
             0.6666666666666666,
             "#ed7953"
            ],
            [
             0.7777777777777778,
             "#fb9f3a"
            ],
            [
             0.8888888888888888,
             "#fdca26"
            ],
            [
             1,
             "#f0f921"
            ]
           ],
           "sequentialminus": [
            [
             0,
             "#0d0887"
            ],
            [
             0.1111111111111111,
             "#46039f"
            ],
            [
             0.2222222222222222,
             "#7201a8"
            ],
            [
             0.3333333333333333,
             "#9c179e"
            ],
            [
             0.4444444444444444,
             "#bd3786"
            ],
            [
             0.5555555555555556,
             "#d8576b"
            ],
            [
             0.6666666666666666,
             "#ed7953"
            ],
            [
             0.7777777777777778,
             "#fb9f3a"
            ],
            [
             0.8888888888888888,
             "#fdca26"
            ],
            [
             1,
             "#f0f921"
            ]
           ]
          },
          "colorway": [
           "#636efa",
           "#EF553B",
           "#00cc96",
           "#ab63fa",
           "#FFA15A",
           "#19d3f3",
           "#FF6692",
           "#B6E880",
           "#FF97FF",
           "#FECB52"
          ],
          "font": {
           "color": "#2a3f5f"
          },
          "geo": {
           "bgcolor": "white",
           "lakecolor": "white",
           "landcolor": "#E5ECF6",
           "showlakes": true,
           "showland": true,
           "subunitcolor": "white"
          },
          "hoverlabel": {
           "align": "left"
          },
          "hovermode": "closest",
          "mapbox": {
           "style": "light"
          },
          "paper_bgcolor": "white",
          "plot_bgcolor": "#E5ECF6",
          "polar": {
           "angularaxis": {
            "gridcolor": "white",
            "linecolor": "white",
            "ticks": ""
           },
           "bgcolor": "#E5ECF6",
           "radialaxis": {
            "gridcolor": "white",
            "linecolor": "white",
            "ticks": ""
           }
          },
          "scene": {
           "xaxis": {
            "backgroundcolor": "#E5ECF6",
            "gridcolor": "white",
            "gridwidth": 2,
            "linecolor": "white",
            "showbackground": true,
            "ticks": "",
            "zerolinecolor": "white"
           },
           "yaxis": {
            "backgroundcolor": "#E5ECF6",
            "gridcolor": "white",
            "gridwidth": 2,
            "linecolor": "white",
            "showbackground": true,
            "ticks": "",
            "zerolinecolor": "white"
           },
           "zaxis": {
            "backgroundcolor": "#E5ECF6",
            "gridcolor": "white",
            "gridwidth": 2,
            "linecolor": "white",
            "showbackground": true,
            "ticks": "",
            "zerolinecolor": "white"
           }
          },
          "shapedefaults": {
           "line": {
            "color": "#2a3f5f"
           }
          },
          "ternary": {
           "aaxis": {
            "gridcolor": "white",
            "linecolor": "white",
            "ticks": ""
           },
           "baxis": {
            "gridcolor": "white",
            "linecolor": "white",
            "ticks": ""
           },
           "bgcolor": "#E5ECF6",
           "caxis": {
            "gridcolor": "white",
            "linecolor": "white",
            "ticks": ""
           }
          },
          "title": {
           "x": 0.05
          },
          "xaxis": {
           "automargin": true,
           "gridcolor": "white",
           "linecolor": "white",
           "ticks": "",
           "title": {
            "standoff": 15
           },
           "zerolinecolor": "white",
           "zerolinewidth": 2
          },
          "yaxis": {
           "automargin": true,
           "gridcolor": "white",
           "linecolor": "white",
           "ticks": "",
           "title": {
            "standoff": 15
           },
           "zerolinecolor": "white",
           "zerolinewidth": 2
          }
         }
        },
        "title": {
         "font": {
          "size": 20
         },
         "text": "Error Rate (%, Relative to Mean) by Condition",
         "x": 0.5
        },
        "width": 1200,
        "xaxis": {
         "anchor": "y",
         "domain": [
          0,
          0.45
         ],
         "linecolor": "black",
         "linewidth": 1.5,
         "mirror": true,
         "showgrid": false,
         "showline": true,
         "tickfont": {
          "size": 16
         },
         "ticks": "outside",
         "title": {
          "font": {
           "size": 20
          }
         }
        },
        "xaxis2": {
         "anchor": "y2",
         "domain": [
          0.55,
          1
         ],
         "linecolor": "black",
         "linewidth": 1.5,
         "mirror": true,
         "showgrid": false,
         "showline": true,
         "tickfont": {
          "size": 16
         },
         "ticks": "outside",
         "title": {
          "font": {
           "size": 20
          }
         }
        },
        "yaxis": {
         "anchor": "x",
         "domain": [
          0,
          1
         ],
         "linecolor": "black",
         "linewidth": 1.5,
         "mirror": true,
         "showgrid": false,
         "showline": true,
         "side": "left",
         "ticks": "outside",
         "title": {
          "font": {
           "size": 20
          }
         },
         "zeroline": true,
         "zerolinecolor": "black",
         "zerolinewidth": 1
        },
        "yaxis2": {
         "anchor": "x2",
         "domain": [
          0,
          1
         ],
         "linecolor": "black",
         "linewidth": 1.5,
         "mirror": true,
         "showgrid": false,
         "showline": true,
         "ticks": "outside",
         "title": {
          "font": {
           "size": 20
          }
         },
         "zeroline": true,
         "zerolinecolor": "black",
         "zerolinewidth": 1
        }
       }
      }
     },
     "metadata": {},
     "output_type": "display_data"
    }
   ],
   "source": [
    "behavioral_data['cat_condition'] = behavioral_data['rand_condition']\n",
    "\n",
    "acc_data = behavioral_data[behavioral_data.participant_type=='random']\n",
    "acc_data = acc_data.groupby(['block_type_agg','size_condition','cat_condition','participant'],as_index=False).mean()\n",
    "acc_data_interleaved = acc_data[acc_data.block_type_agg=='interleaved']\n",
    "acc_data_blocked = acc_data[acc_data.block_type_agg=='random']\n",
    "\n",
    "rt_data = behavioral_data[(behavioral_data.participant_type=='random')&(behavioral_data.correct==1)]\n",
    "rt_data = rt_data.groupby(['block_type_agg','size_condition','cat_condition','participant'],as_index=False).mean()\n",
    "rt_data_interleaved = rt_data[rt_data.block_type_agg=='interleaved']\n",
    "rt_data_blocked = rt_data[rt_data.block_type_agg=='random']\n",
    "\n",
    "plot_data_interleaved = data.add_within_subject_error_bars(rt_data_interleaved)\n",
    "plot_data_interleaved = plot_data_interleaved.groupby(['cat_condition','size_condition'],as_index=False).mean()\n",
    "plot_data_interleaved['cat_condition'] = plot_data_interleaved.cat_condition.replace({'a_ma':'Response-Set Match','a_ms':'Response-Set Mismatch'})\n",
    "plot_data_interleaved['size_condition'] = plot_data_interleaved.size_condition.replace({'s_ma':'Size Match','s_ms':'Size Mismatch'})\n",
    "plot_data_blocked = data.add_within_subject_error_bars(rt_data_blocked)\n",
    "plot_data_blocked = plot_data_blocked.groupby(['cat_condition','size_condition'],as_index=False).mean()\n",
    "plot_data_blocked['cat_condition'] = plot_data_blocked.cat_condition.replace({'a_ma':'Response-Set Match','a_ms':'Response-Set Mismatch'})\n",
    "plot_data_blocked['size_condition'] = plot_data_blocked.size_condition.replace({'s_ma':'Size Match','s_ms':'Size Mismatch'})\n",
    "\n",
    "\n",
    "acc_data_interleaved['error'] = 1-acc_data_interleaved.correct\n",
    "plot_data_interleaved_acc = data.add_within_subject_error_bars(acc_data_interleaved,dv='error',remove_mean=True)\n",
    "plot_data_interleaved_acc = plot_data_interleaved_acc.groupby(['cat_condition','size_condition'],as_index=False).mean()\n",
    "plot_data_interleaved_acc['cat_condition'] = plot_data_interleaved_acc.cat_condition.replace({'a_ma':'Response-Set Match','a_ms':'Response-Set Mismatch'})\n",
    "plot_data_interleaved_acc['size_condition'] = plot_data_interleaved_acc.size_condition.replace({'s_ma':'Size Match','s_ms':'Size Mismatch'})\n",
    "\n",
    "acc_data_blocked['error'] = 1-acc_data_blocked.correct\n",
    "plot_data_blocked_acc = data.add_within_subject_error_bars(acc_data_blocked,dv='error',remove_mean=True)\n",
    "plot_data_blocked_acc = plot_data_blocked_acc.groupby(['cat_condition','size_condition'],as_index=False).mean()\n",
    "plot_data_blocked_acc['cat_condition'] = plot_data_blocked_acc.cat_condition.replace({'a_ma':'Response-Set Match','a_ms':'Response-Set Mismatch'})\n",
    "plot_data_blocked_acc['size_condition'] = plot_data_blocked_acc.size_condition.replace({'s_ma':'Size Match','s_ms':'Size Mismatch'})\n",
    "\n",
    "from plotly.subplots import make_subplots\n",
    "import plotly.graph_objects as go\n",
    "import plotly.express as px\n",
    "\n",
    "\n",
    "human_rt_interleaved = px.bar(plot_data_interleaved,x='size_condition',color='cat_condition',\n",
    "       y='rt_normalized',barmode='group',error_y='rt_error')\n",
    "human_rt_blocked = px.bar(plot_data_blocked,x='size_condition',color='cat_condition',\n",
    "       y='rt_normalized',barmode='group',error_y='rt_error')\n",
    "human_acc_interleaved = px.bar(plot_data_interleaved_acc,x='size_condition',color='cat_condition',\n",
    "       y='error_normalized',barmode='group',error_y='error_error')\n",
    "human_acc_blocked = px.bar(plot_data_blocked_acc,x='size_condition',color='cat_condition',\n",
    "       y='error_normalized',barmode='group',error_y='error_error')\n",
    "\n",
    "fig = make_subplots(rows=1,cols=2,column_titles=['Response-Set Blocked Condition','Interleaved Condition'])\n",
    "fig.add_trace(human_rt_interleaved.data[0],row=1,col=1)\n",
    "fig.add_trace(human_rt_interleaved.data[1],row=1,col=1)\n",
    "fig.add_trace(human_rt_blocked.data[0],row=1,col=2)\n",
    "fig.add_trace(human_rt_blocked.data[1],row=1,col=2)\n",
    "for idx,trace in enumerate(fig.data):\n",
    "    if idx > 1:\n",
    "        trace.showlegend = False\n",
    "fig.update_layout(title='Log Reaction Time (log ms, Relative to Mean) by Condition',yaxis_side='left',width=1200,height=400,\n",
    "                  titlefont=dict(size=20))\n",
    "fig.update_layout(plot_bgcolor='white',title_x=0.5,\n",
    "                     legend=dict(yanchor='top',y=.99,xanchor='left',x=.01,font=dict(size=16)))\n",
    "fig.update_xaxes(showline=True,linewidth=1.5,linecolor='black',tickfont=dict(size=16),\n",
    "              mirror=True,ticks='outside',showgrid=False,titlefont=dict(size=20)\n",
    "              )\n",
    "fig.update_yaxes(showline=True,linewidth=1.5,linecolor='black',\n",
    "              mirror=True,ticks='outside',showgrid=False,titlefont=dict(size=20),\n",
    "              zeroline=True,zerolinecolor='black',zerolinewidth=1)\n",
    "fig.show()\n",
    "\n",
    "fig = make_subplots(rows=1,cols=2,column_titles=['Response-Set Blocked Condition','Interleaved Condition'])\n",
    "fig.add_trace(human_acc_interleaved.data[0],row=1,col=1)\n",
    "fig.add_trace(human_acc_interleaved.data[1],row=1,col=1)\n",
    "fig.add_trace(human_acc_blocked.data[0],row=1,col=2)\n",
    "fig.add_trace(human_acc_blocked.data[1],row=1,col=2)\n",
    "for idx,trace in enumerate(fig.data):\n",
    "    if idx > 1:\n",
    "        trace.showlegend = False\n",
    "fig.update_layout(title='Error Rate (%, Relative to Mean) by Condition',yaxis_side='left',width=1200,height=400,\n",
    "                  titlefont=dict(size=20))\n",
    "fig.update_layout(plot_bgcolor='white',title_x=0.5,\n",
    "                     legend=dict(yanchor='top',y=.99,xanchor='left',x=.01,font=dict(size=16)))\n",
    "fig.update_xaxes(showline=True,linewidth=1.5,linecolor='black',tickfont=dict(size=16),\n",
    "              mirror=True,ticks='outside',showgrid=False,titlefont=dict(size=20)\n",
    "              )\n",
    "fig.update_yaxes(showline=True,linewidth=1.5,linecolor='black',\n",
    "              mirror=True,ticks='outside',showgrid=False,titlefont=dict(size=20),\n",
    "              zeroline=True,zerolinecolor='black',zerolinewidth=1)\n",
    "fig.show()"
   ]
  }
 ],
 "metadata": {
  "kernelspec": {
   "display_name": "Python 3",
   "language": "python",
   "name": "python3"
  },
  "language_info": {
   "codemirror_mode": {
    "name": "ipython",
    "version": 3
   },
   "file_extension": ".py",
   "mimetype": "text/x-python",
   "name": "python",
   "nbconvert_exporter": "python",
   "pygments_lexer": "ipython3",
   "version": "3.10.10"
  },
  "orig_nbformat": 4
 },
 "nbformat": 4,
 "nbformat_minor": 2
}
